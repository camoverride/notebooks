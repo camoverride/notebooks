{
 "cells": [
  {
   "cell_type": "markdown",
   "metadata": {},
   "source": [
    "1) You roll a fair 6-sided die 3 times. If the sum of the 3 rolls is 10 or greater, you win. Otherwise, you lose. What is the probability that you win?\n",
    "\n",
    "First strategy: empirical. Generate all possible outcomes."
   ]
  },
  {
   "cell_type": "code",
   "execution_count": 1,
   "metadata": {},
   "outputs": [
    {
     "data": {
      "text/plain": [
       "True"
      ]
     },
     "execution_count": 1,
     "metadata": {},
     "output_type": "execute_result"
    }
   ],
   "source": [
    "# All the combinations of 3 die-rolls\n",
    "import itertools\n",
    "\n",
    "combs = [p for p in itertools.product([1, 2, 3, 4, 5, 6], repeat=3)]\n",
    "len(combs) == 6*6*6 == 216"
   ]
  },
  {
   "cell_type": "code",
   "execution_count": 2,
   "metadata": {},
   "outputs": [
    {
     "data": {
      "text/plain": [
       "1"
      ]
     },
     "execution_count": 2,
     "metadata": {},
     "output_type": "execute_result"
    }
   ],
   "source": [
    "# All the ways to get a sum of 18 (the maximum sum: 6 + 6 + 6 = 18)\n",
    "len([i for i in combs if sum(i) == 18])"
   ]
  },
  {
   "cell_type": "code",
   "execution_count": 3,
   "metadata": {},
   "outputs": [
    {
     "data": {
      "text/plain": [
       "[1, 3, 6, 10, 15, 21, 25, 27, 27, 25, 21, 15, 10, 6, 3, 1]"
      ]
     },
     "execution_count": 3,
     "metadata": {},
     "output_type": "execute_result"
    }
   ],
   "source": [
    "# The ways to get sums ranging from 3 (smallest possible) to 18 (largest possible)\n",
    "s = []\n",
    "for k in range(3, 18+1):\n",
    "    s.append(len([i for i in combs if sum(i) == k]))\n",
    "    \n",
    "s"
   ]
  },
  {
   "cell_type": "code",
   "execution_count": 4,
   "metadata": {},
   "outputs": [
    {
     "data": {
      "text/plain": [
       "<matplotlib.axes._subplots.AxesSubplot at 0x7fd39e940e10>"
      ]
     },
     "execution_count": 4,
     "metadata": {},
     "output_type": "execute_result"
    },
    {
     "data": {
      "image/png": "[encoded data removed]",
      "text/plain": [
       "<Figure size 432x288 with 1 Axes>"
      ]
     },
     "metadata": {
      "needs_background": "light"
     },
     "output_type": "display_data"
    }
   ],
   "source": [
    "# Visualize the probability distribution\n",
    "\n",
    "import pandas as pd\n",
    "\n",
    "df = pd.DataFrame({'sum': list(range(3, 18+1)), '# of combinations': s})\n",
    "\n",
    "df.plot('sum')"
   ]
  },
  {
   "cell_type": "code",
   "execution_count": 5,
   "metadata": {},
   "outputs": [
    {
     "data": {
      "text/plain": [
       "135"
      ]
     },
     "execution_count": 5,
     "metadata": {},
     "output_type": "execute_result"
    }
   ],
   "source": [
    "# The ways to get 10 or more\n",
    "sums = 0\n",
    "for k in range(10, 18+1):\n",
    "    sums += len([i for i in combs if sum(i) == k])\n",
    "    \n",
    "sums"
   ]
  },
  {
   "cell_type": "code",
   "execution_count": 6,
   "metadata": {},
   "outputs": [
    {
     "name": "stdout",
     "output_type": "stream",
     "text": [
      "There is a 0.625 chance of winning\n"
     ]
    }
   ],
   "source": [
    "print(f\"There is a {sums / len(combs)} chance of winning\")"
   ]
  },
  {
   "cell_type": "markdown",
   "metadata": {},
   "source": [
    "Second strategy: bootstrap. Generate random tuples of 3 numbers between 1 and 6. Count the fraction that sum to 10 or more."
   ]
  },
  {
   "cell_type": "code",
   "execution_count": 7,
   "metadata": {},
   "outputs": [
    {
     "name": "stdout",
     "output_type": "stream",
     "text": [
      "There is a 0.627 chance of winning\n"
     ]
    }
   ],
   "source": [
    "import numpy as np\n",
    "np.random.seed(42)\n",
    "\n",
    "nums = [sum(np.random.choice([1,2,3,4,5,6], 3, replace=True)) for i in range(99999)]\n",
    "prob = len([i for i in nums if i >= 10]) / len(nums)\n",
    "print(f\"There is a {prob:.3f} chance of winning\")"
   ]
  },
  {
   "cell_type": "code",
   "execution_count": null,
   "metadata": {},
   "outputs": [],
   "source": []
  }
 ],
 "metadata": {
  "kernelspec": {
   "display_name": "Python 3",
   "language": "python",
   "name": "python3"
  },
  "language_info": {
   "codemirror_mode": {
    "name": "ipython",
    "version": 3
   },
   "file_extension": ".py",
   "mimetype": "text/x-python",
   "name": "python",
   "nbconvert_exporter": "python",
   "pygments_lexer": "ipython3",
   "version": "3.6.10"
  }
 },
 "nbformat": 4,
 "nbformat_minor": 4
}
