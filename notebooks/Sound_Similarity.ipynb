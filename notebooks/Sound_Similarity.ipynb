{
 "cells": [
  {
   "cell_type": "markdown",
   "id": "headed-defendant",
   "metadata": {},
   "source": [
    "# Sound Similarity\n",
    "\n",
    "In this notebook I use some math to determine which languages sound most like one another. The results are interesting.\n",
    "\n",
    "Phonemes are the sounds that occur in a language. For instance, /kʰ/ is the first sound in the English word _king_, and /ŋ/ is the sound of _ng_. [The International Phonetic Alphabet](https://en.wikipedia.org/wiki/International_Phonetic_Alphabet) is the system that linguists use to transcribe the sounds of words - it lets us escape all the messiness of a particular language's spelling rules. In IPA, we'd transceibe the word \"king\" as /kʰɪŋ/. As you may have already noticed, linguists put IPA transcriptions inside of forward /slæʃɪz/.\n",
    "\n",
    "You compare the sounds in different languages by simply counting which phonemes overlap. This is one of the methods that I employ below. However, when you look at the consonant chart in the IPA, you'll realize that just like words can be broken down into individual speech sounds, speech sounds themselves can be defined as combinations of a _place of articulation_ and a _manner of articulation_. For instance, the sound /kʰ/ is a _velar plosive_ - your tongue makes contact with the __velum__ in your mouth, and the sound __explodes__ outwards -- place of articulation: velar; manner of articulation: plosive. Speech sounds also have other attributes, like voicing (whether your vocal cords vibrate) - /kʰ/ is voiceless, but /g/ is its voiced counterpart.\n",
    "\n",
    "What this means is that in addition to treating phonemes discretely, we can also break them down into their constituent attributes to get a more fine-grained measure of similarity. For instance /kʰ/ is more similar to /k/ than to /m/ (a bilabial nasal sound). I use both strategies when developing metrics.\n",
    "\n",
    "All the data I'm using is from [Phoible](https://phoible.org/), so you can head over there and thank them 😃"
   ]
  },
  {
   "cell_type": "markdown",
   "id": "turned-slovakia",
   "metadata": {},
   "source": [
    "## Data Acquisition\n",
    "\n",
    "In this section, I download the Phoible dataset and get it into a format that's easy to work with. I perform some basic analyses to show you what the data looks like."
   ]
  },
  {
   "cell_type": "code",
   "execution_count": 1,
   "id": "geological-aside",
   "metadata": {},
   "outputs": [
    {
     "name": "stdout",
     "output_type": "stream",
     "text": [
      "  % Total    % Received % Xferd  Average Speed   Time    Time     Time  Current\n",
      "                                 Dload  Upload   Total   Spent    Left  Speed\n",
      "100 23.0M  100 23.0M    0     0  3908k      0  0:00:06  0:00:06 --:--:-- 4472k\n"
     ]
    }
   ],
   "source": [
    "! curl https://raw.githubusercontent.com/phoible/dev/master/data/phoible.csv > phoible.csv"
   ]
  },
  {
   "cell_type": "code",
   "execution_count": 2,
   "id": "clear-cigarette",
   "metadata": {},
   "outputs": [],
   "source": [
    "! mv phoible.csv ../data"
   ]
  },
  {
   "cell_type": "code",
   "execution_count": 3,
   "id": "regulated-confidence",
   "metadata": {},
   "outputs": [],
   "source": [
    "import pandas as pd"
   ]
  },
  {
   "cell_type": "code",
   "execution_count": 4,
   "id": "stylish-doctor",
   "metadata": {},
   "outputs": [
    {
     "name": "stderr",
     "output_type": "stream",
     "text": [
      "/Users/cameronsmith/anaconda3/envs/notebooks/lib/python3.8/site-packages/IPython/core/interactiveshell.py:3165: DtypeWarning: Columns (4,7,8,11) have mixed types.Specify dtype option on import or set low_memory=False.\n",
      "  has_raised = await self.run_ast_nodes(code_ast.body, cell_name,\n"
     ]
    }
   ],
   "source": [
    "df = pd.read_csv(\"../data/phoible.csv\")"
   ]
  },
  {
   "cell_type": "code",
   "execution_count": 5,
   "id": "executive-german",
   "metadata": {},
   "outputs": [
    {
     "data": {
      "text/html": [
       "<div>\n",
       "<style scoped>\n",
       "    .dataframe tbody tr th:only-of-type {\n",
       "        vertical-align: middle;\n",
       "    }\n",
       "\n",
       "    .dataframe tbody tr th {\n",
       "        vertical-align: top;\n",
       "    }\n",
       "\n",
       "    .dataframe thead th {\n",
       "        text-align: right;\n",
       "    }\n",
       "</style>\n",
       "<table border=\"1\" class=\"dataframe\">\n",
       "  <thead>\n",
       "    <tr style=\"text-align: right;\">\n",
       "      <th></th>\n",
       "      <th>InventoryID</th>\n",
       "      <th>Glottocode</th>\n",
       "      <th>ISO6393</th>\n",
       "      <th>LanguageName</th>\n",
       "      <th>SpecificDialect</th>\n",
       "      <th>GlyphID</th>\n",
       "      <th>Phoneme</th>\n",
       "      <th>Allophones</th>\n",
       "      <th>Marginal</th>\n",
       "      <th>SegmentClass</th>\n",
       "      <th>...</th>\n",
       "      <th>retractedTongueRoot</th>\n",
       "      <th>advancedTongueRoot</th>\n",
       "      <th>periodicGlottalSource</th>\n",
       "      <th>epilaryngealSource</th>\n",
       "      <th>spreadGlottis</th>\n",
       "      <th>constrictedGlottis</th>\n",
       "      <th>fortis</th>\n",
       "      <th>raisedLarynxEjective</th>\n",
       "      <th>loweredLarynxImplosive</th>\n",
       "      <th>click</th>\n",
       "    </tr>\n",
       "  </thead>\n",
       "  <tbody>\n",
       "    <tr>\n",
       "      <th>0</th>\n",
       "      <td>1</td>\n",
       "      <td>kore1280</td>\n",
       "      <td>kor</td>\n",
       "      <td>Korean</td>\n",
       "      <td>NaN</td>\n",
       "      <td>0068</td>\n",
       "      <td>h</td>\n",
       "      <td>ç h ɦ</td>\n",
       "      <td>NaN</td>\n",
       "      <td>consonant</td>\n",
       "      <td>...</td>\n",
       "      <td>0</td>\n",
       "      <td>0</td>\n",
       "      <td>-</td>\n",
       "      <td>-</td>\n",
       "      <td>+</td>\n",
       "      <td>-</td>\n",
       "      <td>-</td>\n",
       "      <td>-</td>\n",
       "      <td>-</td>\n",
       "      <td>-</td>\n",
       "    </tr>\n",
       "    <tr>\n",
       "      <th>1</th>\n",
       "      <td>1</td>\n",
       "      <td>kore1280</td>\n",
       "      <td>kor</td>\n",
       "      <td>Korean</td>\n",
       "      <td>NaN</td>\n",
       "      <td>006A</td>\n",
       "      <td>j</td>\n",
       "      <td>j</td>\n",
       "      <td>NaN</td>\n",
       "      <td>consonant</td>\n",
       "      <td>...</td>\n",
       "      <td>0</td>\n",
       "      <td>0</td>\n",
       "      <td>+</td>\n",
       "      <td>-</td>\n",
       "      <td>-</td>\n",
       "      <td>-</td>\n",
       "      <td>-</td>\n",
       "      <td>-</td>\n",
       "      <td>-</td>\n",
       "      <td>-</td>\n",
       "    </tr>\n",
       "    <tr>\n",
       "      <th>2</th>\n",
       "      <td>1</td>\n",
       "      <td>kore1280</td>\n",
       "      <td>kor</td>\n",
       "      <td>Korean</td>\n",
       "      <td>NaN</td>\n",
       "      <td>006B</td>\n",
       "      <td>k</td>\n",
       "      <td>k̚ ɡ k</td>\n",
       "      <td>NaN</td>\n",
       "      <td>consonant</td>\n",
       "      <td>...</td>\n",
       "      <td>0</td>\n",
       "      <td>0</td>\n",
       "      <td>-</td>\n",
       "      <td>-</td>\n",
       "      <td>-</td>\n",
       "      <td>-</td>\n",
       "      <td>-</td>\n",
       "      <td>-</td>\n",
       "      <td>-</td>\n",
       "      <td>-</td>\n",
       "    </tr>\n",
       "    <tr>\n",
       "      <th>3</th>\n",
       "      <td>1</td>\n",
       "      <td>kore1280</td>\n",
       "      <td>kor</td>\n",
       "      <td>Korean</td>\n",
       "      <td>NaN</td>\n",
       "      <td>006B+02B0</td>\n",
       "      <td>kʰ</td>\n",
       "      <td>kʰ</td>\n",
       "      <td>NaN</td>\n",
       "      <td>consonant</td>\n",
       "      <td>...</td>\n",
       "      <td>0</td>\n",
       "      <td>0</td>\n",
       "      <td>-</td>\n",
       "      <td>-</td>\n",
       "      <td>+</td>\n",
       "      <td>-</td>\n",
       "      <td>-</td>\n",
       "      <td>-</td>\n",
       "      <td>-</td>\n",
       "      <td>-</td>\n",
       "    </tr>\n",
       "    <tr>\n",
       "      <th>4</th>\n",
       "      <td>1</td>\n",
       "      <td>kore1280</td>\n",
       "      <td>kor</td>\n",
       "      <td>Korean</td>\n",
       "      <td>NaN</td>\n",
       "      <td>006B+02C0</td>\n",
       "      <td>kˀ</td>\n",
       "      <td>kˀ</td>\n",
       "      <td>NaN</td>\n",
       "      <td>consonant</td>\n",
       "      <td>...</td>\n",
       "      <td>0</td>\n",
       "      <td>0</td>\n",
       "      <td>-</td>\n",
       "      <td>-</td>\n",
       "      <td>-</td>\n",
       "      <td>+</td>\n",
       "      <td>-</td>\n",
       "      <td>-</td>\n",
       "      <td>-</td>\n",
       "      <td>-</td>\n",
       "    </tr>\n",
       "  </tbody>\n",
       "</table>\n",
       "<p>5 rows × 48 columns</p>\n",
       "</div>"
      ],
      "text/plain": [
       "   InventoryID Glottocode ISO6393 LanguageName SpecificDialect    GlyphID  \\\n",
       "0            1   kore1280     kor       Korean             NaN       0068   \n",
       "1            1   kore1280     kor       Korean             NaN       006A   \n",
       "2            1   kore1280     kor       Korean             NaN       006B   \n",
       "3            1   kore1280     kor       Korean             NaN  006B+02B0   \n",
       "4            1   kore1280     kor       Korean             NaN  006B+02C0   \n",
       "\n",
       "  Phoneme Allophones Marginal SegmentClass  ... retractedTongueRoot  \\\n",
       "0       h      ç h ɦ      NaN    consonant  ...                   0   \n",
       "1       j          j      NaN    consonant  ...                   0   \n",
       "2       k     k̚ ɡ k      NaN    consonant  ...                   0   \n",
       "3      kʰ         kʰ      NaN    consonant  ...                   0   \n",
       "4      kˀ         kˀ      NaN    consonant  ...                   0   \n",
       "\n",
       "  advancedTongueRoot periodicGlottalSource epilaryngealSource spreadGlottis  \\\n",
       "0                  0                     -                  -             +   \n",
       "1                  0                     +                  -             -   \n",
       "2                  0                     -                  -             -   \n",
       "3                  0                     -                  -             +   \n",
       "4                  0                     -                  -             -   \n",
       "\n",
       "  constrictedGlottis fortis raisedLarynxEjective loweredLarynxImplosive click  \n",
       "0                  -      -                    -                      -     -  \n",
       "1                  -      -                    -                      -     -  \n",
       "2                  -      -                    -                      -     -  \n",
       "3                  -      -                    -                      -     -  \n",
       "4                  +      -                    -                      -     -  \n",
       "\n",
       "[5 rows x 48 columns]"
      ]
     },
     "execution_count": 5,
     "metadata": {},
     "output_type": "execute_result"
    }
   ],
   "source": [
    "df.head()"
   ]
  },
  {
   "cell_type": "markdown",
   "id": "talented-cruise",
   "metadata": {},
   "source": [
    "- include maps\n",
    "- include language info"
   ]
  },
  {
   "cell_type": "markdown",
   "id": "crude-recipient",
   "metadata": {},
   "source": [
    "## Data Exploration\n",
    "\n",
    "In this section I'm going to look at the overall distribution of language features and answer some basic questions: which languages have the largest phoneme inventories? Which languages are the most consonant-heavy, etc.\n",
    "\n",
    "__TODO__: download table on \"representation\" - which phonemes are the rarest and which languages have them?"
   ]
  },
  {
   "cell_type": "code",
   "execution_count": 6,
   "id": "distant-measurement",
   "metadata": {},
   "outputs": [
    {
     "data": {
      "text/plain": [
       "Index(['InventoryID', 'Glottocode', 'ISO6393', 'LanguageName',\n",
       "       'SpecificDialect', 'GlyphID', 'Phoneme', 'Allophones', 'Marginal',\n",
       "       'SegmentClass', 'Source', 'tone', 'stress', 'syllabic', 'short', 'long',\n",
       "       'consonantal', 'sonorant', 'continuant', 'delayedRelease',\n",
       "       'approximant', 'tap', 'trill', 'nasal', 'lateral', 'labial', 'round',\n",
       "       'labiodental', 'coronal', 'anterior', 'distributed', 'strident',\n",
       "       'dorsal', 'high', 'low', 'front', 'back', 'tense',\n",
       "       'retractedTongueRoot', 'advancedTongueRoot', 'periodicGlottalSource',\n",
       "       'epilaryngealSource', 'spreadGlottis', 'constrictedGlottis', 'fortis',\n",
       "       'raisedLarynxEjective', 'loweredLarynxImplosive', 'click'],\n",
       "      dtype='object')"
      ]
     },
     "execution_count": 6,
     "metadata": {},
     "output_type": "execute_result"
    }
   ],
   "source": [
    "# All the features from SegmentClass onwards are phoneme- (segment) specific features.\n",
    "df.columns"
   ]
  },
  {
   "cell_type": "code",
   "execution_count": 7,
   "id": "empty-insurance",
   "metadata": {},
   "outputs": [],
   "source": [
    "# Get the data into SQL format so it's easier to run queries against.\n",
    "from sqlalchemy import create_engine\n",
    "\n",
    "engine = create_engine('sqlite://', echo=False)\n",
    "df.to_sql('phoible', con=engine)"
   ]
  },
  {
   "cell_type": "code",
   "execution_count": 8,
   "id": "subject-patent",
   "metadata": {},
   "outputs": [
    {
     "data": {
      "text/plain": [
       "[('!Xóõ', 161),\n",
       " ('!XU', 141),\n",
       " ('Soghpo Tibetan', 133),\n",
       " ('Kildin Saami', 128),\n",
       " ('!Xun', 120),\n",
       " ('Mbembe', 116),\n",
       " ('Nangchenpa Tibetan', 96),\n",
       " ('Lezgian', 96),\n",
       " ('Rigwe', 95),\n",
       " ('Hindi-Urdu', 94)]"
      ]
     },
     "execution_count": 8,
     "metadata": {},
     "output_type": "execute_result"
    }
   ],
   "source": [
    "# Which languages have the largest number of phonemes?\n",
    "# Group by `InventoryID, LanguageName` because some languages have dialects: `SpecificDialect` column\n",
    "res = engine.execute(\"\"\"\n",
    "               SELECT LanguageName, COUNT(*) AS cnt\n",
    "               FROM phoible\n",
    "               GROUP BY InventoryID, LanguageName\n",
    "               ORDER BY cnt DESC\n",
    "               \"\"\"\n",
    "              ).fetchall()\n",
    "\n",
    "# Show the first 10 results\n",
    "res[:10]"
   ]
  },
  {
   "cell_type": "code",
   "execution_count": 31,
   "id": "packed-motion",
   "metadata": {},
   "outputs": [
    {
     "data": {
      "text/plain": [
       "<AxesSubplot:xlabel='# of phonemes', ylabel='# of languages'>"
      ]
     },
     "execution_count": 31,
     "metadata": {},
     "output_type": "execute_result"
    },
    {
     "data": {
      "image/png": "[encoded data removed]",
      "text/plain": [
       "<Figure size 432x288 with 1 Axes>"
      ]
     },
     "metadata": {
      "needs_background": "light"
     },
     "output_type": "display_data"
    }
   ],
   "source": [
    "# Let's graph it\n",
    "import seaborn as sns\n",
    "\n",
    "plt.xlabel('# of phonemes', fontsize=16)\n",
    "plt.ylabel('# of languages', fontsize=16)\n",
    "\n",
    "sns.histplot(data=[i for _, i in res], bins=50, element=\"poly\")"
   ]
  },
  {
   "cell_type": "code",
   "execution_count": 32,
   "id": "amazing-passion",
   "metadata": {},
   "outputs": [
    {
     "data": {
      "text/plain": [
       "[('PIRAHA', 11),\n",
       " ('ROTOKAS', 11),\n",
       " ('Pirahã', 11),\n",
       " ('HAWAIIAN', 13),\n",
       " ('NASIOI', 13),\n",
       " ('RORO', 14),\n",
       " ('TAORIPI', 14),\n",
       " ('Abau', 14),\n",
       " ('EKARI', 15),\n",
       " ('GADSUP', 15)]"
      ]
     },
     "execution_count": 32,
     "metadata": {},
     "output_type": "execute_result"
    }
   ],
   "source": [
    "# Which languages have the smallest number of phonemes?\n",
    "# Group by `InventoryID, LanguageName` because some languages have dialects: `SpecificDialect` column\n",
    "engine.execute(\"\"\"\n",
    "               SELECT LanguageName, COUNT(*) AS cnt\n",
    "               FROM phoible\n",
    "               GROUP BY InventoryID, LanguageName\n",
    "               ORDER BY cnt ASC\n",
    "               LIMIT 10\n",
    "               \"\"\"\n",
    "              ).fetchall()"
   ]
  },
  {
   "cell_type": "code",
   "execution_count": 33,
   "id": "federal-moldova",
   "metadata": {},
   "outputs": [
    {
     "data": {
      "text/plain": [
       "[('So', 50),\n",
       " ('Elfdalian', 50),\n",
       " ('Danish', 49),\n",
       " ('Scottish Gaelic', 49),\n",
       " ('!XU', 46),\n",
       " ('PARAUK', 43),\n",
       " ('Dan', 40),\n",
       " ('Thok Reel', 40),\n",
       " ('Karimojong', 39),\n",
       " ('Luanyjang Dinka', 39)]"
      ]
     },
     "execution_count": 33,
     "metadata": {},
     "output_type": "execute_result"
    }
   ],
   "source": [
    "# Which languages have the largest number of distinct vowels?\n",
    "engine.execute(\"\"\"\n",
    "               SELECT LanguageName, COUNT(*) AS cnt\n",
    "               FROM phoible\n",
    "               WHERE SegmentClass = 'vowel'\n",
    "               GROUP BY InventoryID, LanguageName\n",
    "               ORDER BY cnt DESC\n",
    "               LIMIT 10\n",
    "               \"\"\"\n",
    "              ).fetchall()"
   ]
  },
  {
   "cell_type": "code",
   "execution_count": 34,
   "id": "christian-legislature",
   "metadata": {},
   "outputs": [
    {
     "data": {
      "text/plain": [
       "[('Zulgo', 2),\n",
       " ('Cuvok', 2),\n",
       " ('Buwal', 2),\n",
       " ('Haida', 3),\n",
       " ('ARRERNTE', 3),\n",
       " ('ALABAMA', 3),\n",
       " ('QAWASQAR', 3),\n",
       " ('ALEUT', 3),\n",
       " ('AMUESHA', 3),\n",
       " ('WESTERN DESERT', 3)]"
      ]
     },
     "execution_count": 34,
     "metadata": {},
     "output_type": "execute_result"
    }
   ],
   "source": [
    "# Which languages have the fewest number of distinct vowels?\n",
    "engine.execute(\"\"\"\n",
    "               SELECT LanguageName, COUNT(*) AS cnt\n",
    "               FROM phoible\n",
    "               WHERE SegmentClass = 'vowel'\n",
    "               GROUP BY InventoryID, LanguageName\n",
    "               ORDER BY cnt ASC\n",
    "               LIMIT 10\n",
    "               \"\"\"\n",
    "              ).fetchall()"
   ]
  },
  {
   "cell_type": "code",
   "execution_count": 37,
   "id": "moved-disco",
   "metadata": {},
   "outputs": [
    {
     "data": {
      "text/plain": [
       "[('Tashlhiyt Berber', 23.666666666666668),\n",
       " ('Abkhaz', 22.333333333333332),\n",
       " ('Abkhaz', 19.666666666666668),\n",
       " ('Buwal', 19.0),\n",
       " ('Adyghe', 18.666666666666668),\n",
       " ('Moroccan Arabic', 18.5),\n",
       " ('Haida', 15.666666666666666),\n",
       " ('HAIDA', 15.333333333333334),\n",
       " ('Zulgo', 14.5),\n",
       " ('Cuvok', 13.5)]"
      ]
     },
     "execution_count": 37,
     "metadata": {},
     "output_type": "execute_result"
    }
   ],
   "source": [
    "# Which languages have the highest consonant:vowel ratio?\n",
    "res = engine.execute(\"\"\"\n",
    "               SELECT x.LanguageName, y.cons_cnt / CAST(x.vowel_cnt AS float) AS ratio FROM\n",
    "               (SELECT InventoryID, LanguageName, COUNT(*) AS vowel_cnt\n",
    "               FROM phoible x\n",
    "               WHERE SegmentClass = 'vowel'\n",
    "               GROUP BY InventoryID, LanguageName) AS x\n",
    "               JOIN\n",
    "               (SELECT InventoryID, LanguageName, COUNT(*) AS cons_cnt\n",
    "               FROM phoible x\n",
    "               WHERE SegmentClass = 'consonant'\n",
    "               GROUP BY InventoryID, LanguageName) AS y\n",
    "               ON x.InventoryID = y.InventoryID\n",
    "               ORDER BY ratio DESC\n",
    "               \"\"\"\n",
    "              ).fetchall()\n",
    "res[:10]"
   ]
  },
  {
   "cell_type": "code",
   "execution_count": 42,
   "id": "hundred-simulation",
   "metadata": {},
   "outputs": [
    {
     "data": {
      "text/plain": [
       "<AxesSubplot:xlabel='consonant/vowel ratio', ylabel='# of languages'>"
      ]
     },
     "execution_count": 42,
     "metadata": {},
     "output_type": "execute_result"
    },
    {
     "data": {
      "image/png": "[encoded data removed]",
      "text/plain": [
       "<Figure size 432x288 with 1 Axes>"
      ]
     },
     "metadata": {
      "needs_background": "light"
     },
     "output_type": "display_data"
    }
   ],
   "source": [
    "plt.xlabel('consonant/vowel ratio', fontsize=16)\n",
    "plt.ylabel('# of languages', fontsize=16)\n",
    "\n",
    "sns.histplot(data=[i for _, i in res], bins=50, element=\"poly\")"
   ]
  },
  {
   "cell_type": "code",
   "execution_count": 48,
   "id": "fifty-hypothesis",
   "metadata": {},
   "outputs": [
    {
     "data": {
      "text/plain": [
       "[('Burushaski',),\n",
       " ('Vietnamese',),\n",
       " ('Mandarin Chinese',),\n",
       " ('Wu',),\n",
       " ('Hakka',),\n",
       " ('Cantonese',),\n",
       " ('Yao',),\n",
       " ('Dafla',),\n",
       " ('Burmese',),\n",
       " ('Lahu',),\n",
       " ('Karen',),\n",
       " ('Lakkia',),\n",
       " ('Thai',),\n",
       " ('Yay',),\n",
       " ('Cham',)]"
      ]
     },
     "execution_count": 48,
     "metadata": {},
     "output_type": "execute_result"
    }
   ],
   "source": [
    "# Which languages have tones?\n",
    "engine.execute(\"\"\"\n",
    "               SELECT DISTINCT(LanguageName)\n",
    "               FROM phoible\n",
    "               WHERE tone = '+'\n",
    "               LIMIT 15\n",
    "               \"\"\"\n",
    "              ).fetchall()"
   ]
  },
  {
   "cell_type": "code",
   "execution_count": 75,
   "id": "compact-player",
   "metadata": {},
   "outputs": [
    {
     "data": {
      "text/plain": [
       "[('LUSHOOTSEED', 0),\n",
       " ('PIRAHA', 0),\n",
       " ('QUILEUTE', 0),\n",
       " ('ROTOKAS', 0),\n",
       " ('Hup', 0),\n",
       " ('Tatuyo', 0),\n",
       " ('Xamtanga', 0),\n",
       " ('Pirahã', 0),\n",
       " ('Barasana-Eduria', 0),\n",
       " ('Kubeo', 0),\n",
       " ('Desano', 0),\n",
       " ('Máíhɨki', 0),\n",
       " ('Tatuyo', 0),\n",
       " ('Yurutí', 0),\n",
       " ('Pisamira', 0),\n",
       " ('Najdi Arabic', 0)]"
      ]
     },
     "execution_count": 75,
     "metadata": {},
     "output_type": "execute_result"
    }
   ],
   "source": [
    "# Which languages lack nasal sounds i.e. /n/, /m/?\n",
    "engine.execute(\"\"\"\n",
    "               SELECT x.LanguageName, SUM(x.nasal) AS num_nasals\n",
    "               FROM (SELECT InventoryID, LanguageName,\n",
    "               CASE WHEN nasal = '-' THEN 0 ELSE 1 END AS nasal\n",
    "               FROM phoible) AS x\n",
    "               GROUP BY InventoryID, x.LanguageName\n",
    "               ORDER BY num_nasals ASC\n",
    "               LIMIT 16\n",
    "               \"\"\"\n",
    "              ).fetchall()\n",
    "\n",
    "# The final language, Najdi Arabic, definitely contains nasal sounds - so this might be an error!\n",
    "# Error: https://github.com/phoible/dev/issues/332"
   ]
  },
  {
   "cell_type": "markdown",
   "id": "cooked-rendering",
   "metadata": {},
   "source": [
    "## Language Comparison\n",
    "\n",
    "In this section, I'm going to get the data into a format that's useful for doing comparisons. There are several ways to do this:\n",
    "\n",
    "- Map each language to a list of all its phonemes, i.e. `\"English\": [\"a\", \"e\", \"i\", \"b\", ...]`\n",
    "- Map each language to a vector representing the presence of absence of a given phoneme, i.e. `\"English\": [0, 0, 1, 0, ...]`. This binary vector is equal to the length of all the phonemes in the database.\n",
    "- Map each language to a vector of vectors, where each sub-vector are the features of each phoneme, i.e `English: [[0, 1, 1, ...], [1, 1, 0, ...], ...]`\n",
    "\n",
    "Each of these representations allow for different types of distance metrics, so I'll be trying out lots of measurement types. I took inspiration from [this paper](https://www.cv-foundation.org/openaccess/content_cvpr_2014/papers/Gardner_Measuring_Distance_Between_2014_CVPR_paper.pdf) about measuring the distances between sets.\n",
    "\n",
    "Also, it's important to keep in mind the complexity of these different distance metrics. In order to determine the closest pair of languages, it's necessary to compute the distance between every pair of languages, which is $n^2$ computations. Furthermore, the distance metric itself has its own complexity, which I'll call $d$. That means the complexity of generating all the paired distances between all the languages is actually $dn^2$, which might be large. Luckily, we can ask specific questions instead, like _what is the distance between English and Arabic?_ which has a complexity of just $d$."
   ]
  },
  {
   "cell_type": "code",
   "execution_count": null,
   "id": "tight-integrity",
   "metadata": {},
   "outputs": [],
   "source": [
    "# Create mappings like \"English\": [\"a\", \"e\", \"i\", \"b\", ...]\n"
   ]
  },
  {
   "cell_type": "code",
   "execution_count": null,
   "id": "hawaiian-jurisdiction",
   "metadata": {},
   "outputs": [],
   "source": [
    "# Apply the Jaccard distance metric\n",
    "# https://en.wikipedia.org/wiki/Jaccard_index\n"
   ]
  },
  {
   "cell_type": "code",
   "execution_count": null,
   "id": "genetic-tampa",
   "metadata": {},
   "outputs": [],
   "source": [
    "# Apply the overlap coefficient metric\n",
    "# https://en.wikipedia.org/wiki/Overlap_coefficient\n"
   ]
  },
  {
   "cell_type": "code",
   "execution_count": null,
   "id": "veterinary-machinery",
   "metadata": {},
   "outputs": [],
   "source": [
    "# Apply the Steinhaus metric\n",
    "# https://www.cv-foundation.org/openaccess/content_cvpr_2014/papers/Gardner_Measuring_Distance_Between_2014_CVPR_paper.pdf\n"
   ]
  },
  {
   "cell_type": "code",
   "execution_count": null,
   "id": "discrete-replica",
   "metadata": {},
   "outputs": [],
   "source": [
    "# Apple the Tversky index metric\n",
    "# https://en.wikipedia.org/wiki/Tversky_index\n",
    "# Note: coef = 1 gives us Tanimoto, etc etc"
   ]
  },
  {
   "cell_type": "code",
   "execution_count": null,
   "id": "handy-checklist",
   "metadata": {},
   "outputs": [],
   "source": [
    "# Create mappings like \"English\": [0, 0, 1, 0, ...]\n"
   ]
  },
  {
   "cell_type": "code",
   "execution_count": null,
   "id": "going-manor",
   "metadata": {},
   "outputs": [],
   "source": [
    "# Apply the simple matching coefficient metric\n",
    "# https://en.wikipedia.org/wiki/Simple_matching_coefficient\n"
   ]
  },
  {
   "cell_type": "code",
   "execution_count": null,
   "id": "color-special",
   "metadata": {},
   "outputs": [],
   "source": [
    "# Apply hamming distance\n",
    "# https://en.wikipedia.org/wiki/Hamming_distance\n"
   ]
  },
  {
   "cell_type": "code",
   "execution_count": null,
   "id": "upper-basic",
   "metadata": {},
   "outputs": [],
   "source": [
    "# Create mappings like \"English\": [[0, 1, 1, ...], [1, 1, 0, ...], ...]\n"
   ]
  },
  {
   "cell_type": "code",
   "execution_count": null,
   "id": "composite-drinking",
   "metadata": {},
   "outputs": [],
   "source": [
    "# Custom distance metrics\n"
   ]
  },
  {
   "cell_type": "code",
   "execution_count": null,
   "id": "sticky-doubt",
   "metadata": {},
   "outputs": [],
   "source": []
  },
  {
   "cell_type": "code",
   "execution_count": null,
   "id": "statewide-fault",
   "metadata": {},
   "outputs": [],
   "source": []
  }
 ],
 "metadata": {
  "kernelspec": {
   "display_name": "Python 3",
   "language": "python",
   "name": "python3"
  },
  "language_info": {
   "codemirror_mode": {
    "name": "ipython",
    "version": 3
   },
   "file_extension": ".py",
   "mimetype": "text/x-python",
   "name": "python",
   "nbconvert_exporter": "python",
   "pygments_lexer": "ipython3",
   "version": "3.8.8"
  }
 },
 "nbformat": 4,
 "nbformat_minor": 5
}
