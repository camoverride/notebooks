{
 "cells": [
  {
   "cell_type": "markdown",
   "id": "psychological-reality",
   "metadata": {},
   "source": [
    "# Sound Similarity\n",
    "\n",
    "In this notebook I create an algorithm to determine which languages sound most like one another. The results are interesting. If you'd like to read a condensed version, there's [a blog post](https://camtsmith.com/articles/2021-03/language-similarity).\n",
    "\n",
    "\n",
    "## Preliminaries\n",
    "\n",
    "Phonemes are the sounds that occur in a language. For instance, /kʰ/ is the first sound in the English word _king_, and /ŋ/ is the sound of _ng_. [The International Phonetic Alphabet](https://en.wikipedia.org/wiki/International_Phonetic_Alphabet) is the system that linguists use to transcribe the sounds of words - it lets us escape all the messiness of a particular language's spelling rules. In IPA, we'd transcribe the word \"king\" as /kʰɪŋ/. As you may have already noticed, linguists put IPA transcriptions inside of forward /slæʃɪz/.\n",
    "\n",
    "You can compare the sounds in different languages by simply counting which phonemes overlap. This is one of the methods that I employ below. However, when you look at the consonant chart in the IPA, you'll realize that just like words can be broken down into individual speech sounds, speech sounds themselves can be defined as combinations of a _place of articulation_ and a _manner of articulation_. For instance, the sound /kʰ/ is a _velar plosive_ - your tongue makes contact with the __velum__ in your mouth, and the sound __explodes__ outwards -- place of articulation: velar; manner of articulation: plosive. Speech sounds also have other features, like voicing (whether your vocal cords vibrate) - /kʰ/ is voiceless, but /g/ is its voiced counterpart. In fact, there are 38 phoneme features tracked by phoible, and I make use of them all.\n",
    "\n",
    "What this means is that in addition to treating phonemes discretely, we can also break them down into their constituent attributes to get a more fine-grained measure of similarity. For instance /kʰ/ is more similar to /k/ than to /m/ (a bilabial nasal sound). I use both strategies when developing metrics.  I'll be experimenting with a _vector space model_ where I use all of these features.\n",
    "\n",
    "Most of the data I'm using is from [Phoible](https://phoible.org/), so you can head over there and thank them. I've also made use of [WALS](https://wals.info/) for some rough exploratory research and [Glottolog](https://glottolog.org/) for information about language families 😃\n",
    "\n",
    "In this notebook, I'll first acquire some data and explore it. Then I'll experiment with some similarity metrics. I'll choose a metric and perform some evaluations on it. Finally, I'll wrap everything up and talk about what sound similarity tells us about the English language."
   ]
  },
  {
   "cell_type": "markdown",
   "id": "chicken-preparation",
   "metadata": {},
   "source": [
    "## Data Acquisition\n",
    "\n",
    "In this section, I download the Phoible dataset and get it into a format that's easy to work with. I then load it into a dataframe to show you what the data looks like."
   ]
  },
  {
   "cell_type": "code",
   "execution_count": 1,
   "id": "european-reserve",
   "metadata": {},
   "outputs": [
    {
     "name": "stdout",
     "output_type": "stream",
     "text": [
      "  % Total    % Received % Xferd  Average Speed   Time    Time     Time  Current\n",
      "                                 Dload  Upload   Total   Spent    Left  Speed\n",
      "100 23.0M  100 23.0M    0     0  19.7M      0  0:00:01  0:00:01 --:--:-- 19.7M\n"
     ]
    }
   ],
   "source": [
    "! curl https://raw.githubusercontent.com/phoible/dev/master/data/phoible.csv > phoible.csv"
   ]
  },
  {
   "cell_type": "code",
   "execution_count": 2,
   "id": "iraqi-hypothetical",
   "metadata": {},
   "outputs": [],
   "source": [
    "! mv phoible.csv ../data"
   ]
  },
  {
   "cell_type": "code",
   "execution_count": 3,
   "id": "informational-weekly",
   "metadata": {},
   "outputs": [],
   "source": [
    "import pandas as pd"
   ]
  },
  {
   "cell_type": "code",
   "execution_count": 4,
   "id": "nonprofit-advertiser",
   "metadata": {},
   "outputs": [
    {
     "name": "stderr",
     "output_type": "stream",
     "text": [
      "/Users/cameronsmith/anaconda3/envs/notebooks/lib/python3.8/site-packages/IPython/core/interactiveshell.py:3165: DtypeWarning: Columns (4,7,8,11) have mixed types.Specify dtype option on import or set low_memory=False.\n",
      "  has_raised = await self.run_ast_nodes(code_ast.body, cell_name,\n"
     ]
    }
   ],
   "source": [
    "df = pd.read_csv(\"../data/phoible.csv\")"
   ]
  },
  {
   "cell_type": "code",
   "execution_count": 5,
   "id": "governing-wildlife",
   "metadata": {},
   "outputs": [
    {
     "data": {
      "text/html": [
       "<div>\n",
       "<style scoped>\n",
       "    .dataframe tbody tr th:only-of-type {\n",
       "        vertical-align: middle;\n",
       "    }\n",
       "\n",
       "    .dataframe tbody tr th {\n",
       "        vertical-align: top;\n",
       "    }\n",
       "\n",
       "    .dataframe thead th {\n",
       "        text-align: right;\n",
       "    }\n",
       "</style>\n",
       "<table border=\"1\" class=\"dataframe\">\n",
       "  <thead>\n",
       "    <tr style=\"text-align: right;\">\n",
       "      <th></th>\n",
       "      <th>InventoryID</th>\n",
       "      <th>Glottocode</th>\n",
       "      <th>ISO6393</th>\n",
       "      <th>LanguageName</th>\n",
       "      <th>SpecificDialect</th>\n",
       "      <th>GlyphID</th>\n",
       "      <th>Phoneme</th>\n",
       "      <th>Allophones</th>\n",
       "      <th>Marginal</th>\n",
       "      <th>SegmentClass</th>\n",
       "      <th>...</th>\n",
       "      <th>retractedTongueRoot</th>\n",
       "      <th>advancedTongueRoot</th>\n",
       "      <th>periodicGlottalSource</th>\n",
       "      <th>epilaryngealSource</th>\n",
       "      <th>spreadGlottis</th>\n",
       "      <th>constrictedGlottis</th>\n",
       "      <th>fortis</th>\n",
       "      <th>raisedLarynxEjective</th>\n",
       "      <th>loweredLarynxImplosive</th>\n",
       "      <th>click</th>\n",
       "    </tr>\n",
       "  </thead>\n",
       "  <tbody>\n",
       "    <tr>\n",
       "      <th>0</th>\n",
       "      <td>1</td>\n",
       "      <td>kore1280</td>\n",
       "      <td>kor</td>\n",
       "      <td>Korean</td>\n",
       "      <td>NaN</td>\n",
       "      <td>0068</td>\n",
       "      <td>h</td>\n",
       "      <td>ç h ɦ</td>\n",
       "      <td>NaN</td>\n",
       "      <td>consonant</td>\n",
       "      <td>...</td>\n",
       "      <td>0</td>\n",
       "      <td>0</td>\n",
       "      <td>-</td>\n",
       "      <td>-</td>\n",
       "      <td>+</td>\n",
       "      <td>-</td>\n",
       "      <td>-</td>\n",
       "      <td>-</td>\n",
       "      <td>-</td>\n",
       "      <td>-</td>\n",
       "    </tr>\n",
       "    <tr>\n",
       "      <th>1</th>\n",
       "      <td>1</td>\n",
       "      <td>kore1280</td>\n",
       "      <td>kor</td>\n",
       "      <td>Korean</td>\n",
       "      <td>NaN</td>\n",
       "      <td>006A</td>\n",
       "      <td>j</td>\n",
       "      <td>j</td>\n",
       "      <td>NaN</td>\n",
       "      <td>consonant</td>\n",
       "      <td>...</td>\n",
       "      <td>0</td>\n",
       "      <td>0</td>\n",
       "      <td>+</td>\n",
       "      <td>-</td>\n",
       "      <td>-</td>\n",
       "      <td>-</td>\n",
       "      <td>-</td>\n",
       "      <td>-</td>\n",
       "      <td>-</td>\n",
       "      <td>-</td>\n",
       "    </tr>\n",
       "    <tr>\n",
       "      <th>2</th>\n",
       "      <td>1</td>\n",
       "      <td>kore1280</td>\n",
       "      <td>kor</td>\n",
       "      <td>Korean</td>\n",
       "      <td>NaN</td>\n",
       "      <td>006B</td>\n",
       "      <td>k</td>\n",
       "      <td>k̚ ɡ k</td>\n",
       "      <td>NaN</td>\n",
       "      <td>consonant</td>\n",
       "      <td>...</td>\n",
       "      <td>0</td>\n",
       "      <td>0</td>\n",
       "      <td>-</td>\n",
       "      <td>-</td>\n",
       "      <td>-</td>\n",
       "      <td>-</td>\n",
       "      <td>-</td>\n",
       "      <td>-</td>\n",
       "      <td>-</td>\n",
       "      <td>-</td>\n",
       "    </tr>\n",
       "    <tr>\n",
       "      <th>3</th>\n",
       "      <td>1</td>\n",
       "      <td>kore1280</td>\n",
       "      <td>kor</td>\n",
       "      <td>Korean</td>\n",
       "      <td>NaN</td>\n",
       "      <td>006B+02B0</td>\n",
       "      <td>kʰ</td>\n",
       "      <td>kʰ</td>\n",
       "      <td>NaN</td>\n",
       "      <td>consonant</td>\n",
       "      <td>...</td>\n",
       "      <td>0</td>\n",
       "      <td>0</td>\n",
       "      <td>-</td>\n",
       "      <td>-</td>\n",
       "      <td>+</td>\n",
       "      <td>-</td>\n",
       "      <td>-</td>\n",
       "      <td>-</td>\n",
       "      <td>-</td>\n",
       "      <td>-</td>\n",
       "    </tr>\n",
       "    <tr>\n",
       "      <th>4</th>\n",
       "      <td>1</td>\n",
       "      <td>kore1280</td>\n",
       "      <td>kor</td>\n",
       "      <td>Korean</td>\n",
       "      <td>NaN</td>\n",
       "      <td>006B+02C0</td>\n",
       "      <td>kˀ</td>\n",
       "      <td>kˀ</td>\n",
       "      <td>NaN</td>\n",
       "      <td>consonant</td>\n",
       "      <td>...</td>\n",
       "      <td>0</td>\n",
       "      <td>0</td>\n",
       "      <td>-</td>\n",
       "      <td>-</td>\n",
       "      <td>-</td>\n",
       "      <td>+</td>\n",
       "      <td>-</td>\n",
       "      <td>-</td>\n",
       "      <td>-</td>\n",
       "      <td>-</td>\n",
       "    </tr>\n",
       "  </tbody>\n",
       "</table>\n",
       "<p>5 rows × 48 columns</p>\n",
       "</div>"
      ],
      "text/plain": [
       "   InventoryID Glottocode ISO6393 LanguageName SpecificDialect    GlyphID  \\\n",
       "0            1   kore1280     kor       Korean             NaN       0068   \n",
       "1            1   kore1280     kor       Korean             NaN       006A   \n",
       "2            1   kore1280     kor       Korean             NaN       006B   \n",
       "3            1   kore1280     kor       Korean             NaN  006B+02B0   \n",
       "4            1   kore1280     kor       Korean             NaN  006B+02C0   \n",
       "\n",
       "  Phoneme Allophones Marginal SegmentClass  ... retractedTongueRoot  \\\n",
       "0       h      ç h ɦ      NaN    consonant  ...                   0   \n",
       "1       j          j      NaN    consonant  ...                   0   \n",
       "2       k     k̚ ɡ k      NaN    consonant  ...                   0   \n",
       "3      kʰ         kʰ      NaN    consonant  ...                   0   \n",
       "4      kˀ         kˀ      NaN    consonant  ...                   0   \n",
       "\n",
       "  advancedTongueRoot periodicGlottalSource epilaryngealSource spreadGlottis  \\\n",
       "0                  0                     -                  -             +   \n",
       "1                  0                     +                  -             -   \n",
       "2                  0                     -                  -             -   \n",
       "3                  0                     -                  -             +   \n",
       "4                  0                     -                  -             -   \n",
       "\n",
       "  constrictedGlottis fortis raisedLarynxEjective loweredLarynxImplosive click  \n",
       "0                  -      -                    -                      -     -  \n",
       "1                  -      -                    -                      -     -  \n",
       "2                  -      -                    -                      -     -  \n",
       "3                  -      -                    -                      -     -  \n",
       "4                  +      -                    -                      -     -  \n",
       "\n",
       "[5 rows x 48 columns]"
      ]
     },
     "execution_count": 5,
     "metadata": {},
     "output_type": "execute_result"
    }
   ],
   "source": [
    "df.head()"
   ]
  },
  {
   "cell_type": "markdown",
   "id": "chemical-monaco",
   "metadata": {},
   "source": [
    "## Data Exploration\n",
    "\n",
    "In this section I'm going to look at the overall distribution of language features and answer some basic questions: which languages have the largest phoneme inventories? Which languages are the most consonant-heavy? etc."
   ]
  },
  {
   "cell_type": "code",
   "execution_count": 6,
   "id": "affiliated-class",
   "metadata": {},
   "outputs": [
    {
     "data": {
      "text/plain": [
       "Index(['InventoryID', 'Glottocode', 'ISO6393', 'LanguageName',\n",
       "       'SpecificDialect', 'GlyphID', 'Phoneme', 'Allophones', 'Marginal',\n",
       "       'SegmentClass', 'Source', 'tone', 'stress', 'syllabic', 'short', 'long',\n",
       "       'consonantal', 'sonorant', 'continuant', 'delayedRelease',\n",
       "       'approximant', 'tap', 'trill', 'nasal', 'lateral', 'labial', 'round',\n",
       "       'labiodental', 'coronal', 'anterior', 'distributed', 'strident',\n",
       "       'dorsal', 'high', 'low', 'front', 'back', 'tense',\n",
       "       'retractedTongueRoot', 'advancedTongueRoot', 'periodicGlottalSource',\n",
       "       'epilaryngealSource', 'spreadGlottis', 'constrictedGlottis', 'fortis',\n",
       "       'raisedLarynxEjective', 'loweredLarynxImplosive', 'click'],\n",
       "      dtype='object')"
      ]
     },
     "execution_count": 6,
     "metadata": {},
     "output_type": "execute_result"
    }
   ],
   "source": [
    "# All the features from SegmentClass onwards (except Source) are phoneme- (segment) specific features.\n",
    "df.columns"
   ]
  },
  {
   "cell_type": "code",
   "execution_count": 7,
   "id": "white-telephone",
   "metadata": {},
   "outputs": [],
   "source": [
    "# Get the data into SQL format so it's easier to run queries against.\n",
    "from sqlalchemy import create_engine\n",
    "\n",
    "engine = create_engine('sqlite://', echo=False)\n",
    "df.to_sql('phoible', con=engine)"
   ]
  },
  {
   "cell_type": "code",
   "execution_count": 8,
   "id": "acceptable-escape",
   "metadata": {},
   "outputs": [
    {
     "name": "stdout",
     "output_type": "stream",
     "text": [
      "The average language has 34.9 phonemes\n"
     ]
    }
   ],
   "source": [
    "# Group by `InventoryID, LanguageName` because `LanguageName` is not unique:\n",
    "# some languages have dialects: `SpecificDialect` column.\n",
    "res = engine.execute(\"\"\"\n",
    "               SELECT AVG(cnt) FROM (SELECT LanguageName, COUNT(DISTINCT Phoneme) AS cnt\n",
    "               FROM phoible\n",
    "               GROUP BY InventoryID, LanguageName)\n",
    "               \"\"\"\n",
    "              ).fetchall()\n",
    "\n",
    "print(f\"The average language has {res[0][0]:.1f} phonemes\")"
   ]
  },
  {
   "cell_type": "code",
   "execution_count": 9,
   "id": "earlier-weekend",
   "metadata": {},
   "outputs": [
    {
     "name": "stdout",
     "output_type": "stream",
     "text": [
      "The languages with the greatest number of phonemes are:\n"
     ]
    },
    {
     "data": {
      "text/plain": [
       "[('!Xóõ', 161),\n",
       " ('!XU', 141),\n",
       " ('Soghpo Tibetan', 133),\n",
       " ('Kildin Saami', 128),\n",
       " ('!Xun', 120),\n",
       " ('Mbembe', 116),\n",
       " ('Nangchenpa Tibetan', 96),\n",
       " ('Lezgian', 96),\n",
       " ('Rigwe', 95),\n",
       " ('Hindi-Urdu', 94)]"
      ]
     },
     "execution_count": 9,
     "metadata": {},
     "output_type": "execute_result"
    }
   ],
   "source": [
    "res = engine.execute(\"\"\"\n",
    "               SELECT LanguageName, COUNT(*) AS cnt\n",
    "               FROM phoible\n",
    "               GROUP BY InventoryID, LanguageName\n",
    "               ORDER BY cnt DESC\n",
    "               \"\"\"\n",
    "              ).fetchall()\n",
    "\n",
    "print(f\"The languages with the greatest number of phonemes are:\")\n",
    "res[:10]"
   ]
  },
  {
   "cell_type": "code",
   "execution_count": 10,
   "id": "regulation-charlotte",
   "metadata": {},
   "outputs": [
    {
     "name": "stdout",
     "output_type": "stream",
     "text": [
      "The languages with the smallest number of phonemes are:\n"
     ]
    },
    {
     "data": {
      "text/plain": [
       "[('Pirahã', 11),\n",
       " ('ROTOKAS', 11),\n",
       " ('PIRAHA', 11),\n",
       " ('NASIOI', 13),\n",
       " ('HAWAIIAN', 13),\n",
       " ('Abau', 14),\n",
       " ('TAORIPI', 14),\n",
       " ('RORO', 14),\n",
       " ('Carib', 15),\n",
       " ('Carib', 15)]"
      ]
     },
     "execution_count": 10,
     "metadata": {},
     "output_type": "execute_result"
    }
   ],
   "source": [
    "print(f\"The languages with the smallest number of phonemes are:\")\n",
    "list(reversed(res[-10:]))"
   ]
  },
  {
   "cell_type": "code",
   "execution_count": 11,
   "id": "realistic-subject",
   "metadata": {},
   "outputs": [
    {
     "name": "stdout",
     "output_type": "stream",
     "text": [
      "Most languages have around 20-50 phonemes, though there are a few with a lot more\n"
     ]
    },
    {
     "data": {
      "image/png": "[encoded data removed]",
      "text/plain": [
       "<Figure size 432x288 with 1 Axes>"
      ]
     },
     "metadata": {
      "needs_background": "light"
     },
     "output_type": "display_data"
    }
   ],
   "source": [
    "# Let's graph the distribution of phoneme inventory sizes\n",
    "import seaborn as sns\n",
    "import matplotlib.pyplot as plt\n",
    "\n",
    "plt.xlabel('# of phonemes', fontsize=16)\n",
    "plt.ylabel('# of languages', fontsize=16)\n",
    "\n",
    "sns.histplot(data=[i for _, i in res], bins=50, element=\"poly\")\n",
    "print(\"Most languages have around 20-50 phonemes, though there are a few with a lot more\")"
   ]
  },
  {
   "cell_type": "code",
   "execution_count": 12,
   "id": "considered-privacy",
   "metadata": {},
   "outputs": [
    {
     "name": "stdout",
     "output_type": "stream",
     "text": [
      "The languages with the greatest number of vowels are:\n"
     ]
    },
    {
     "data": {
      "text/plain": [
       "[('So', 50),\n",
       " ('Elfdalian', 50),\n",
       " ('Danish', 49),\n",
       " ('Scottish Gaelic', 49),\n",
       " ('!XU', 46),\n",
       " ('PARAUK', 43),\n",
       " ('Dan', 40),\n",
       " ('Thok Reel', 40),\n",
       " ('Karimojong', 39),\n",
       " ('Luanyjang Dinka', 39)]"
      ]
     },
     "execution_count": 12,
     "metadata": {},
     "output_type": "execute_result"
    }
   ],
   "source": [
    "res = engine.execute(\"\"\"\n",
    "               SELECT LanguageName, COUNT(*) AS cnt\n",
    "               FROM phoible\n",
    "               WHERE SegmentClass = 'vowel'\n",
    "               GROUP BY InventoryID, LanguageName\n",
    "               ORDER BY cnt DESC\n",
    "               \"\"\"\n",
    "              ).fetchall()\n",
    "\n",
    "print(f\"The languages with the greatest number of vowels are:\")\n",
    "res[:10]"
   ]
  },
  {
   "cell_type": "code",
   "execution_count": 13,
   "id": "starting-myanmar",
   "metadata": {},
   "outputs": [
    {
     "name": "stdout",
     "output_type": "stream",
     "text": [
      "The languages with the fewest number of vowels are:\n"
     ]
    },
    {
     "data": {
      "text/plain": [
       "[('Buwal', 2),\n",
       " ('Cuvok', 2),\n",
       " ('Zulgo', 2),\n",
       " ('Tableland Lamalama', 3),\n",
       " ('Ngarigu', 3),\n",
       " ('Nganyaywana', 3),\n",
       " ('Awabakal', 3),\n",
       " ('Eora', 3),\n",
       " ('Dharuk', 3),\n",
       " ('Darkinyung', 3)]"
      ]
     },
     "execution_count": 13,
     "metadata": {},
     "output_type": "execute_result"
    }
   ],
   "source": [
    "print(f\"The languages with the fewest number of vowels are:\")\n",
    "list(reversed(res[-10:]))"
   ]
  },
  {
   "cell_type": "code",
   "execution_count": 14,
   "id": "shaped-stomach",
   "metadata": {},
   "outputs": [
    {
     "name": "stdout",
     "output_type": "stream",
     "text": [
      "The languages with the highest ratio of consonants to vowels are:\n"
     ]
    },
    {
     "data": {
      "text/plain": [
       "[('Tashlhiyt Berber', 23.666666666666668),\n",
       " ('Abkhaz', 22.333333333333332),\n",
       " ('Abkhaz', 19.666666666666668),\n",
       " ('Buwal', 19.0),\n",
       " ('Adyghe', 18.666666666666668),\n",
       " ('Moroccan Arabic', 18.5),\n",
       " ('Haida', 15.666666666666666),\n",
       " ('HAIDA', 15.333333333333334),\n",
       " ('Zulgo', 14.5),\n",
       " ('Cuvok', 13.5)]"
      ]
     },
     "execution_count": 14,
     "metadata": {},
     "output_type": "execute_result"
    }
   ],
   "source": [
    "res = engine.execute(\"\"\"\n",
    "               SELECT x.LanguageName, y.cons_cnt / CAST(x.vowel_cnt AS float) AS ratio FROM\n",
    "               (SELECT InventoryID, LanguageName, COUNT(*) AS vowel_cnt\n",
    "               FROM phoible x\n",
    "               WHERE SegmentClass = 'vowel'\n",
    "               GROUP BY InventoryID, LanguageName) AS x\n",
    "               JOIN\n",
    "               (SELECT InventoryID, LanguageName, COUNT(*) AS cons_cnt\n",
    "               FROM phoible x\n",
    "               WHERE SegmentClass = 'consonant'\n",
    "               GROUP BY InventoryID, LanguageName) AS y\n",
    "               ON x.InventoryID = y.InventoryID\n",
    "               ORDER BY ratio DESC\n",
    "               \"\"\"\n",
    "              ).fetchall()\n",
    "\n",
    "print(f\"The languages with the highest ratio of consonants to vowels are:\")\n",
    "res[:10]"
   ]
  },
  {
   "cell_type": "code",
   "execution_count": 15,
   "id": "electoral-burden",
   "metadata": {},
   "outputs": [
    {
     "name": "stdout",
     "output_type": "stream",
     "text": [
      "The languages with the lowest ratio of consonants to vowels are:\n"
     ]
    },
    {
     "data": {
      "text/plain": [
       "[('Krahô', 0.35294117647058826),\n",
       " ('Apinaye', 0.4),\n",
       " ('Danish', 0.40816326530612246),\n",
       " ('So', 0.44),\n",
       " ('Andoke', 0.4583333333333333),\n",
       " ('Binandere', 0.4583333333333333),\n",
       " ('Sanömá of Kolulu', 0.47619047619047616),\n",
       " ('Thok Reel', 0.5),\n",
       " ('Luanyjang Dinka', 0.5128205128205128),\n",
       " ('Lama', 0.5151515151515151)]"
      ]
     },
     "execution_count": 15,
     "metadata": {},
     "output_type": "execute_result"
    }
   ],
   "source": [
    "print(f\"The languages with the lowest ratio of consonants to vowels are:\")\n",
    "list(reversed(res[-10:]))"
   ]
  },
  {
   "cell_type": "code",
   "execution_count": 16,
   "id": "large-fluid",
   "metadata": {},
   "outputs": [
    {
     "name": "stdout",
     "output_type": "stream",
     "text": [
      "Most languages have 1 to 5 consonants per vowel\n"
     ]
    },
    {
     "data": {
      "image/png": "[encoded data removed]",
      "text/plain": [
       "<Figure size 432x288 with 1 Axes>"
      ]
     },
     "metadata": {
      "needs_background": "light"
     },
     "output_type": "display_data"
    }
   ],
   "source": [
    "plt.xlabel('consonant/vowel ratio', fontsize=16)\n",
    "plt.ylabel('# of languages', fontsize=16)\n",
    "\n",
    "sns.histplot(data=[i for _, i in res], bins=50, element=\"poly\")\n",
    "print(\"Most languages have 1 to 5 consonants per vowel\")"
   ]
  },
  {
   "cell_type": "code",
   "execution_count": 17,
   "id": "thorough-nepal",
   "metadata": {},
   "outputs": [
    {
     "name": "stdout",
     "output_type": "stream",
     "text": [
      "These are some languages that have tones:\n"
     ]
    },
    {
     "data": {
      "text/plain": [
       "[('Burushaski', 'tone'),\n",
       " ('Vietnamese', 'tone'),\n",
       " ('Mandarin Chinese', 'tone'),\n",
       " ('Wu', 'tone'),\n",
       " ('Hakka', 'tone'),\n",
       " ('Cantonese', 'tone'),\n",
       " ('Yao', 'tone'),\n",
       " ('Dafla', 'tone'),\n",
       " ('Burmese', 'tone'),\n",
       " ('Lahu', 'tone')]"
      ]
     },
     "execution_count": 17,
     "metadata": {},
     "output_type": "execute_result"
    }
   ],
   "source": [
    "res = engine.execute(f\"\"\"\n",
    "               SELECT DISTINCT(LanguageName), SegmentClass\n",
    "               FROM phoible\n",
    "               WHERE SegmentClass = 'tone'\n",
    "               \"\"\"\n",
    "              ).fetchall()\n",
    "\n",
    "print(\"These are some languages that have tones:\")\n",
    "res[:10]"
   ]
  },
  {
   "cell_type": "code",
   "execution_count": 18,
   "id": "representative-constitutional",
   "metadata": {},
   "outputs": [
    {
     "name": "stdout",
     "output_type": "stream",
     "text": [
      "These are some unusual languages that lack nasal sounds\n"
     ]
    },
    {
     "data": {
      "text/plain": [
       "[('LUSHOOTSEED', 0),\n",
       " ('PIRAHA', 0),\n",
       " ('QUILEUTE', 0),\n",
       " ('ROTOKAS', 0),\n",
       " ('Hup', 0),\n",
       " ('Tatuyo', 0),\n",
       " ('Xamtanga', 0),\n",
       " ('Pirahã', 0),\n",
       " ('Barasana-Eduria', 0),\n",
       " ('Kubeo', 0),\n",
       " ('Desano', 0),\n",
       " ('Máíhɨki', 0),\n",
       " ('Tatuyo', 0),\n",
       " ('Yurutí', 0),\n",
       " ('Pisamira', 0),\n",
       " ('Najdi Arabic', 0)]"
      ]
     },
     "execution_count": 18,
     "metadata": {},
     "output_type": "execute_result"
    }
   ],
   "source": [
    "# Which languages lack nasal sounds i.e. /n/, /m/?\n",
    "res = engine.execute(\"\"\"\n",
    "               SELECT x.LanguageName, SUM(x.nasal) AS num_nasals\n",
    "               FROM (SELECT InventoryID, LanguageName,\n",
    "               CASE WHEN nasal = '-' THEN 0 ELSE 1 END AS nasal\n",
    "               FROM phoible) AS x\n",
    "               GROUP BY InventoryID, x.LanguageName\n",
    "               ORDER BY num_nasals ASC\n",
    "               \"\"\"\n",
    "              ).fetchall()\n",
    "\n",
    "print(\"These are some unusual languages that lack nasal sounds\")\n",
    "res[:16]\n",
    "\n",
    "# The final language, Najdi Arabic, definitely contains nasal sounds - so this might be an error!\n",
    "# Error reported: https://github.com/phoible/dev/issues/332"
   ]
  },
  {
   "cell_type": "markdown",
   "id": "numeric-banking",
   "metadata": {},
   "source": [
    "## Language Comparison\n",
    "\n",
    "In this section, I'm going to get the data into a format that's useful for doing comparisons. There are several ways to do this:\n",
    "\n",
    "- Map each language to a list of all its phonemes, i.e. `\"English\": [\"a\", \"e\", \"i\", \"b\", ...]`\n",
    "- Map each language to a vector representing the presence of absence of a given phoneme, i.e. `\"English\": [0, 0, 1, 0, ...]`. This binary vector is equal to the length of all the phonemes in the database.\n",
    "- Map each language to a vector of vectors, where each sub-vector are the features of each phoneme, i.e `English: [[0, 1, 1, ...], [1, 1, 0, ...], ...]`\n",
    "\n",
    "Each of these representations allow for different types of distance metrics, so I'll be trying out lots of measurement types. I took inspiration from [this paper](https://www.cv-foundation.org/openaccess/content_cvpr_2014/papers/Gardner_Measuring_Distance_Between_2014_CVPR_paper.pdf) about measuring the distances between sets.\n",
    "\n",
    "Also, it's important to keep in mind the complexity of these different distance metrics. In order to determine the closest pair of languages, it's necessary to compute the distance between every pair of languages, which is $n^2$ computations. Furthermore, the distance metric itself has its own complexity, which I'll call $d$. That means the complexity of generating all the paired distances between all the languages is actually $dn^2$, which might be large. Luckily, we can ask specific questions instead, like _what is the distance between English and Arabic?_ which has a complexity of just $d$. I'll be using American English for all of my comparisons."
   ]
  },
  {
   "cell_type": "markdown",
   "id": "opponent-depth",
   "metadata": {},
   "source": [
    "### Overlap Coefficient\n",
    "\n",
    "The [overlap coefficient](https://en.wikipedia.org/wiki/Overlap_coefficient) is a useful measure of similarity, but is limited when sets are different in size. For instance, a language like _Pirahã_ will be ranked as closer to English than it should be, simply because Pirahã has very few phonemes (and those phonemes happen to be a subset of English's phonemes). In other words, languages with small phoneme inventories like Pirahã will be closer to _every_ other language, so this metric is also measuring \"smallness\" of a language's phoneme inventory, which we might not care about.\n",
    "\n",
    "On the other hand, the overlap coefficient might be useful if you consider it _asymmetrically_ - an English speaker who wants to learn Pirahã should have an easier time learning the phonemes than an English speaker learning Thai. However, distance metrics are always symmetrical, so the distance between English and Pirahã is the same as the distance from Pirahã to English - so this metric is only useful when you consider going from a large-inventory language to a small-inventory language, which requires additional logic outside the metric itself.\n",
    "\n",
    "__Note__: I subtracted the overlap coefficient from `1` in order to convert this to distance: larger values equal greater distance."
   ]
  },
  {
   "cell_type": "code",
   "execution_count": 19,
   "id": "polyphonic-mixer",
   "metadata": {},
   "outputs": [
    {
     "name": "stdout",
     "output_type": "stream",
     "text": [
      "These are all the phonemes that occur in American English:\n",
      "['b', 'd', 'd̠ʒ', 'f', 'h', 'j', 'kʰ', 'l', 'm', 'n', 'pʰ', 's', 'tʰ', 't̠ʃ', 'v', 'w', 'z', 'ð', 'ŋ', 'ɡ', 'ɹ', 'ʃ', 'ʒ', 'θ', 'aɪ', 'aʊ', 'eɪ̯', 'iɪ', 'oʊ', 'uː', 'æ', 'ɑ', 'ɔɪ', 'ə', 'ɚː', 'ɛ', 'ɪ', 'ʊ', 'ʌ']\n"
     ]
    }
   ],
   "source": [
    "# Create mappings like \"English\": [\"a\", \"e\", \"i\", \"b\", ...]\n",
    "res = engine.execute(\"\"\"\n",
    "               SELECT LanguageName, group_concat(DISTINCT Phoneme)\n",
    "               FROM phoible\n",
    "               GROUP BY InventoryID, LanguageName\n",
    "               \"\"\"\n",
    "              ).fetchall()\n",
    "\n",
    "# Turn this into a dict.\n",
    "# Warning: this uses LanguageName as the key, which is not unique\n",
    "# so if there two languages called Chinese, only one will make it into this dict\n",
    "simple_mapping = {k: v.split(\",\") for k, v in res}\n",
    "\n",
    "# # Show an example.\n",
    "print(\"These are all the phonemes that occur in American English:\")\n",
    "print(simple_mapping[\"English (American)\"])"
   ]
  },
  {
   "cell_type": "code",
   "execution_count": 20,
   "id": "bacterial-cookie",
   "metadata": {},
   "outputs": [
    {
     "name": "stdout",
     "output_type": "stream",
     "text": [
      "There are 39 phonemes in American English\n"
     ]
    }
   ],
   "source": [
    "print(f\"There are {len(simple_mapping['English (American)'])} phonemes in American English\")"
   ]
  },
  {
   "cell_type": "code",
   "execution_count": 21,
   "id": "quality-evolution",
   "metadata": {},
   "outputs": [
    {
     "name": "stdout",
     "output_type": "stream",
     "text": [
      "The overlap distance between English and German is 0.410\n",
      "The overlap distance between English and Thai is 0.590\n",
      "The overlap distance between English and Pirahã is 0.636\n"
     ]
    }
   ],
   "source": [
    "# Define the overlap distance between two sets.\n",
    "def overlap_distance(a, b):\n",
    "    a, b = set(a), set(b)\n",
    "    \n",
    "    return 1 - len(a.intersection(b)) / min([len(a), len(b)])\n",
    "\n",
    "\n",
    "# Calculate distances between some languages\n",
    "overlap_d_eng_pira = overlap_distance(simple_mapping[\"English (American)\"], simple_mapping[\"Pirahã\"])\n",
    "overlap_d_eng_germ = overlap_distance(simple_mapping[\"English (American)\"], simple_mapping[\"German\"])\n",
    "overlap_d_eng_thai = overlap_distance(simple_mapping[\"English (American)\"], simple_mapping[\"Thai\"])\n",
    "\n",
    "print(f\"The overlap distance between English and German is {overlap_d_eng_germ:.3f}\")\n",
    "print(f\"The overlap distance between English and Thai is {overlap_d_eng_thai:.3f}\")\n",
    "print(f\"The overlap distance between English and Pirahã is {overlap_d_eng_pira:.3f}\")"
   ]
  },
  {
   "cell_type": "code",
   "execution_count": 22,
   "id": "funny-message",
   "metadata": {},
   "outputs": [],
   "source": [
    "# Now let's find the overlap distance between English and every other language.\n",
    "overlap_distance_to_eng = [(overlap_distance(simple_mapping[\"English (American)\"], simple_mapping[lang]), lang) for lang in simple_mapping]"
   ]
  },
  {
   "cell_type": "code",
   "execution_count": 23,
   "id": "original-charter",
   "metadata": {},
   "outputs": [
    {
     "name": "stdout",
     "output_type": "stream",
     "text": [
      "The 50 languages with the closest overlap distance to American English:\n"
     ]
    },
    {
     "data": {
      "text/plain": [
       "[(0.28205128205128205, 'English (British)'),\n",
       " (0.2962962962962963, 'kwangari'),\n",
       " (0.3076923076923077, 'Burmese'),\n",
       " (0.3076923076923077, 'English'),\n",
       " (0.3076923076923077, 'English (Australian)'),\n",
       " (0.31034482758620685, 'Persian'),\n",
       " (0.3157894736842105, 'Cebuano'),\n",
       " (0.33333333333333337, 'Awtuw'),\n",
       " (0.3448275862068966, 'Hanga'),\n",
       " (0.3448275862068966, 'Farsi'),\n",
       " (0.34782608695652173, 'IVATAN'),\n",
       " (0.3571428571428571, 'diriku'),\n",
       " (0.36, 'kwezo'),\n",
       " (0.375, 'BANDJALANG'),\n",
       " (0.375, 'TUNICA'),\n",
       " (0.375, 'Daza'),\n",
       " (0.375, 'Ndamba'),\n",
       " (0.3783783783783784, 'Low German'),\n",
       " (0.3783783783783784, 'Scots'),\n",
       " (0.38095238095238093, 'Batak'),\n",
       " (0.38095238095238093, 'JOMANG'),\n",
       " (0.3846153846153846, 'KUNAMA'),\n",
       " (0.3846153846153846, 'Ngombale'),\n",
       " (0.3846153846153846, 'Salasca Quechua'),\n",
       " (0.3846153846153846, 'English (New Zealand)'),\n",
       " (0.3846153846153846, 'Welsh'),\n",
       " (0.3870967741935484, 'Sherbro'),\n",
       " (0.3870967741935484, 'Juhuri'),\n",
       " (0.3913043478260869, 'Tausug (Suluk)'),\n",
       " (0.3913043478260869, 'Tausug'),\n",
       " (0.39473684210526316, 'BASHKIR'),\n",
       " (0.39473684210526316, 'Northern Kurdish'),\n",
       " (0.4, 'Tunica'),\n",
       " (0.4, 'AMELE'),\n",
       " (0.4, 'ALAMBLAK'),\n",
       " (0.4, 'KERA'),\n",
       " (0.4, 'FARSI'),\n",
       " (0.4, 'Teda'),\n",
       " (0.4, 'Matbat'),\n",
       " (0.4, 'Belizean Creole'),\n",
       " (0.4, 'Boro'),\n",
       " (0.4, 'Hiligaynon'),\n",
       " (0.4, 'Standard Malay'),\n",
       " (0.4, 'Solon'),\n",
       " (0.40625, 'Lunda'),\n",
       " (0.40740740740740744, 'Toba-Batak'),\n",
       " (0.40909090909090906, 'Munukutuba'),\n",
       " (0.40909090909090906, 'Kedayan'),\n",
       " (0.41025641025641024, 'German'),\n",
       " (0.4117647058823529, 'Azerbaijani')]"
      ]
     },
     "execution_count": 23,
     "metadata": {},
     "output_type": "execute_result"
    }
   ],
   "source": [
    "print(\"The 50 languages with the closest overlap distance to American English:\")\n",
    "# Note: I am indexing from the third item in the list\n",
    "# because the first two will always be \"American English\" and \"English (American)\"\n",
    "sorted(overlap_distance_to_eng, key=lambda x: x[0])[2:52]"
   ]
  },
  {
   "cell_type": "markdown",
   "id": "activated-calcium",
   "metadata": {},
   "source": [
    "The results returned by this algorithm aren't unreasonable: many of the top languages are other English dialects, as well as closely related languages like Scots and German. This is much better than random, but there are some unexpected languages like Burmese. I think we can use an even better distance metric, Jaccard distance, which I introduce in the next section. Before that though, let's check out some of the least similar languages:"
   ]
  },
  {
   "cell_type": "code",
   "execution_count": 24,
   "id": "overhead-story",
   "metadata": {},
   "outputs": [
    {
     "name": "stdout",
     "output_type": "stream",
     "text": [
      "The 25 languages with the furthest overlap distance from American English:\n"
     ]
    },
    {
     "data": {
      "text/plain": [
       "[(0.84, 'PANARE'),\n",
       " (0.8421052631578947, 'Inuit'),\n",
       " (0.8421052631578947, 'IRARUTU'),\n",
       " (0.84375, 'NEWARI'),\n",
       " (0.8461538461538461, 'SEBEI'),\n",
       " (0.8461538461538461, 'TLINGIT'),\n",
       " (0.8461538461538461, 'Welamo'),\n",
       " (0.8461538461538461, 'Moksha'),\n",
       " (0.8518518518518519, 'KLAO'),\n",
       " (0.8571428571428572, 'ACHE'),\n",
       " (0.8571428571428572, 'KALIAI'),\n",
       " (0.8571428571428572, 'NENETS'),\n",
       " (0.8571428571428572, 'Hoti'),\n",
       " (0.8636363636363636, 'INUIT'),\n",
       " (0.8648648648648649, 'Komi-Zyrian'),\n",
       " (0.8648648648648649, 'Komi-Permyak'),\n",
       " (0.8666666666666667, 'IATE'),\n",
       " (0.8666666666666667, 'Paraguayan Guaraní'),\n",
       " (0.8717948717948718, 'HIGHLAND CHINANTEC'),\n",
       " (0.875, 'ITELMEN'),\n",
       " (0.896551724137931, 'WICHITA'),\n",
       " (0.8974358974358975, 'NAMA'),\n",
       " (0.9, 'MAXAKALI'),\n",
       " (0.9090909090909091, 'ROTOKAS'),\n",
       " (0.9583333333333334, 'Chiriguano')]"
      ]
     },
     "execution_count": 24,
     "metadata": {},
     "output_type": "execute_result"
    }
   ],
   "source": [
    "print(\"The 25 languages with the furthest overlap distance from American English:\")\n",
    "sorted(overlap_distance_to_eng, key=lambda x: x[0])[-25:]"
   ]
  },
  {
   "cell_type": "markdown",
   "id": "structured-trail",
   "metadata": {},
   "source": [
    "### Jaccard Distance\n",
    "\n",
    "A more generally applicable metric, which accounts for differing set sizes, is the [Jaccard Distance](https://en.wikipedia.org/wiki/Jaccard_index), aka intersection over union. I repeated the same examples below, except I changed the distance metric. Notice that _German_ is ranked as closest to English, which matches our intuition about closeness (Thai and Pirahã are not in the same [language family](https://en.wikipedia.org/wiki/Germanic_languages) that English and German belong to)."
   ]
  },
  {
   "cell_type": "code",
   "execution_count": 25,
   "id": "varying-satin",
   "metadata": {},
   "outputs": [
    {
     "name": "stdout",
     "output_type": "stream",
     "text": [
      "The Jaccard distance between English and German is 0.589\n",
      "The Jaccard distance between English and Thai is 0.771\n",
      "The Jaccard distance between English and Pirahã is 0.913\n"
     ]
    }
   ],
   "source": [
    "# Define the Jaccard distance between two sets.\n",
    "def jaccard_distance(a, b):\n",
    "    a, b = set(a), set(b)\n",
    "    \n",
    "    return 1 - len(a.intersection(b)) / len(a.union(b))\n",
    "\n",
    "\n",
    "# Calculate distances between some languages\n",
    "jaccard_d_eng_pira = jaccard_distance(simple_mapping[\"English (American)\"], simple_mapping[\"Pirahã\"])\n",
    "jaccard_d_eng_germ = jaccard_distance(simple_mapping[\"English (American)\"], simple_mapping[\"German\"])\n",
    "jaccard_d_eng_thai = jaccard_distance(simple_mapping[\"English (American)\"], simple_mapping[\"Thai\"])\n",
    "\n",
    "print(f\"The Jaccard distance between English and German is {jaccard_d_eng_germ:.3f}\")\n",
    "print(f\"The Jaccard distance between English and Thai is {jaccard_d_eng_thai:.3f}\")\n",
    "print(f\"The Jaccard distance between English and Pirahã is {jaccard_d_eng_pira:.3f}\")"
   ]
  },
  {
   "cell_type": "code",
   "execution_count": 26,
   "id": "eastern-kidney",
   "metadata": {},
   "outputs": [],
   "source": [
    "# Now let's find the jaccard distance between English and every other language.\n",
    "jaccard_distance_to_eng = [(jaccard_distance(simple_mapping[\"English (American)\"], simple_mapping[lang]), lang) for lang in simple_mapping]"
   ]
  },
  {
   "cell_type": "code",
   "execution_count": 27,
   "id": "jewish-science",
   "metadata": {},
   "outputs": [
    {
     "name": "stdout",
     "output_type": "stream",
     "text": [
      "The 50 languages with the closest Jaccard distance to American English:\n"
     ]
    },
    {
     "data": {
      "text/plain": [
       "[(0.43999999999999995, 'English (British)'),\n",
       " (0.4807692307692307, 'English'),\n",
       " (0.5178571428571428, 'English (Australian)'),\n",
       " (0.5660377358490566, 'Low German'),\n",
       " (0.5660377358490566, 'Scots'),\n",
       " (0.5740740740740741, 'BASHKIR'),\n",
       " (0.5740740740740741, 'Northern Kurdish'),\n",
       " (0.5833333333333333, 'Persian'),\n",
       " (0.5892857142857143, 'German'),\n",
       " (0.5909090909090908, 'Burmese'),\n",
       " (0.5957446808510638, 'kwangari'),\n",
       " (0.6, 'English (New Zealand)'),\n",
       " (0.6037735849056604, 'Teda'),\n",
       " (0.6037735849056604, 'Belizean Creole'),\n",
       " (0.6071428571428572, 'greek Thrace Xoraxane Romane'),\n",
       " (0.607843137254902, 'Daza'),\n",
       " (0.6122448979591837, 'Hanga'),\n",
       " (0.6122448979591837, 'Farsi'),\n",
       " (0.6190476190476191, 'Welsh'),\n",
       " (0.6226415094339622, 'Azerbaijani'),\n",
       " (0.625, 'KOHUMONO'),\n",
       " (0.625, 'Siwi'),\n",
       " (0.6271186440677966, 'Halbi'),\n",
       " (0.6274509803921569, 'Sherbro'),\n",
       " (0.6274509803921569, 'Juhuri'),\n",
       " (0.6296296296296297, 'Maltese'),\n",
       " (0.6296296296296297, 'Luo'),\n",
       " (0.6296296296296297, 'AMO'),\n",
       " (0.6296296296296297, 'Nubi'),\n",
       " (0.631578947368421, 'Hill Jarawa'),\n",
       " (0.6326530612244898, 'diriku'),\n",
       " (0.6346153846153846, 'Lunda'),\n",
       " (0.6363636363636364, 'Kirike'),\n",
       " (0.6379310344827587, 'Bangolan'),\n",
       " (0.6415094339622642, 'Jamaican Creole'),\n",
       " (0.6415094339622642, 'Kihungan'),\n",
       " (0.6428571428571428, 'Antiguan Creole'),\n",
       " (0.6440677966101696, 'Michif'),\n",
       " (0.6470588235294117, 'KERA'),\n",
       " (0.6470588235294117, 'FARSI'),\n",
       " (0.6470588235294117, 'Standard Malay'),\n",
       " (0.6491228070175439, 'Igede'),\n",
       " (0.6491228070175439, 'Ibani'),\n",
       " (0.6491228070175439, 'Argobba'),\n",
       " (0.6538461538461539, 'Rumanian'),\n",
       " (0.6538461538461539, 'Berom'),\n",
       " (0.6538461538461539, 'Indonesian'),\n",
       " (0.6545454545454545, 'Albanian'),\n",
       " (0.6545454545454545, 'Fipa'),\n",
       " (0.6557377049180328, 'ANGAS')]"
      ]
     },
     "execution_count": 27,
     "metadata": {},
     "output_type": "execute_result"
    }
   ],
   "source": [
    "print(\"The 50 languages with the closest Jaccard distance to American English:\")\n",
    "sorted(jaccard_distance_to_eng, key=lambda x: x[0])[2:52]"
   ]
  },
  {
   "cell_type": "markdown",
   "id": "western-stroke",
   "metadata": {},
   "source": [
    "The results returned by this algorithm seem reasonable. The closest languages to American English are other English dialects and German, a closely related language. Most of the other languages on the list make sense: they're English-based creoles, Western European languages, languages influenced by British colonization (Maltest), or other Indo-European languages. Some languages, however, seem out of place: there are many languages from the Niger-Congo family and some Austronesian languages. We'll see if the same kind of languages are returned by the other metrics.\n",
    "\n",
    "Also, let's peek at which languages the algorithm says are furthest from English."
   ]
  },
  {
   "cell_type": "code",
   "execution_count": 28,
   "id": "juvenile-judges",
   "metadata": {},
   "outputs": [
    {
     "name": "stdout",
     "output_type": "stream",
     "text": [
      "The 25 languages with the furthest Jaccard distance from American English:\n"
     ]
    },
    {
     "data": {
      "text/plain": [
       "[(0.9310344827586207, \"Ngan'gityemerri\"),\n",
       " (0.9322033898305084, 'Kala Kawaw Ya'),\n",
       " (0.9322033898305084, 'Kala Lagaw Ya'),\n",
       " (0.9333333333333333, 'HIGHLAND CHINANTEC'),\n",
       " (0.9333333333333333, 'PANARE'),\n",
       " (0.9344262295081968, 'SEBEI'),\n",
       " (0.935483870967742, 'KLAO'),\n",
       " (0.9361702127659575, 'PIRAHA'),\n",
       " (0.9384615384615385, 'IATE'),\n",
       " (0.9384615384615385, 'Paraguayan Guaraní'),\n",
       " (0.9387755102040817, 'NASIOI'),\n",
       " (0.94, 'RORO'),\n",
       " (0.94, 'TAORIPI'),\n",
       " (0.9402985074626866, 'ITELMEN'),\n",
       " (0.9411764705882353, 'GADSUP'),\n",
       " (0.9417989417989419, '!Xóõ'),\n",
       " (0.9454545454545454, 'IRARUTU'),\n",
       " (0.9473684210526316, 'ACHE'),\n",
       " (0.9473684210526316, 'KALIAI'),\n",
       " (0.9473684210526316, 'NAMA'),\n",
       " (0.9482758620689655, 'INUIT'),\n",
       " (0.9538461538461538, 'WICHITA'),\n",
       " (0.9649122807017544, 'MAXAKALI'),\n",
       " (0.9795918367346939, 'ROTOKAS'),\n",
       " (0.9838709677419355, 'Chiriguano')]"
      ]
     },
     "execution_count": 28,
     "metadata": {},
     "output_type": "execute_result"
    }
   ],
   "source": [
    "print(\"The 25 languages with the furthest Jaccard distance from American English:\")\n",
    "sorted(jaccard_distance_to_eng, key=lambda x: x[0])[-25:]"
   ]
  },
  {
   "cell_type": "markdown",
   "id": "incident-passion",
   "metadata": {},
   "source": [
    "I'm happy that _!Xóõ_ made it onto this list: !Xóõ is a language with a __monstrous__ number of consonants, including [click sounds](https://en.wikipedia.org/wiki/Click_consonant) and tones!"
   ]
  },
  {
   "cell_type": "code",
   "execution_count": 29,
   "id": "human-breakdown",
   "metadata": {},
   "outputs": [
    {
     "name": "stdout",
     "output_type": "stream",
     "text": [
      "These are all the phonemes that occur in !Xóõ:\n",
      "['b', 'd', 'dx', 'dʱ', 'dʼkxʼ', 'd̪', 'd̪x', 'd̪ʱ', 'd̪ʼkxʼ', 'f', 'h', 'k', 'kxʼ', 'kǀ', 'kǀh', 'kǀkxʼ', 'kǀx', 'kǀʔ', 'kǀʰ', 'kǁ', 'kǁh', 'kǁkxʼ', 'kǁx', 'kǁʔ', 'kǁʰ', 'kǂ', 'kǂh', 'kǂkxʼ', 'kǂx', 'kǂʔ', 'kǂʰ', 'kǃ', 'kǃh', 'kǃkxʼ', 'kǃx', 'kǃʔ', 'kǃʰ', 'kʘ', 'kʘh', 'kʘkxʼ', 'kʘx', 'kʘʔ', 'kʘʰ', 'kʰ', 'kʼ', 'l', 'm', 'n̪', 'p', 'pʰ', 'pʼkxʼ', 'q', 'qǀ', 'qǀʼ', 'qǁ', 'qǁʼ', 'qǂ', 'qǂʼ', 'qǃ', 'qǃʼ', 'qʘ', 'qʘʼ', 'qʰ', 'qʼ', 's', 't', 'tx', 'tʰ', 'tʼ', 'tʼkxʼ', 't̪', 't̪x', 't̪ʰ', 't̪ʼ', 't̪ʼkxʼ', 'x', 'ŋǀ', 'ŋǁ', 'ŋǂ', 'ŋǃ', 'ŋʘ', 'ŋ̊ǀ', 'ŋ̊ǁ', 'ŋ̊ǂ', 'ŋ̊ǃ', 'ŋ̊ʘ', 'ɟ', 'ɡ', 'ɡǀ', 'ɡǀkxʼ', 'ɡǀkʰ', 'ɡǀx', 'ɡǁ', 'ɡǁkxʼ', 'ɡǁkʰ', 'ɡǁx', 'ɡǂ', 'ɡǂkxʼ', 'ɡǂkʰ', 'ɡǂx', 'ɡǃ', 'ɡǃkxʼ', 'ɡǃkʰ', 'ɡǃx', 'ɡʘ', 'ɡʘkxʼ', 'ɡʘkʰ', 'ɡʘx', 'ɡʱ', 'ɡʼkxʼ', 'ɢ', 'ɢǀ', 'ɢǀqʰ', 'ɢǁ', 'ɢǁqʰ', 'ɢǂ', 'ɢǃ', 'ɢǃqʰ', 'ɢʘ', 'ɢʱ', 'ɲ', 'ɸ', 'ʔ', 'ʔŋǀ', 'ʔŋǁ', 'ʔŋǂ', 'ʔŋǃ', 'ʔŋʘ', 'ˀm', 'ˀn', '˦', '˧', '˨', 'a', 'aˤ', 'ã', 'a̤', 'a̰', 'aᴱ', 'e', 'eˤ', 'ẽ', 'e̤', 'ḛ', 'i', 'iˤ', 'ĩ', 'i̤', 'ḭ', 'o', 'oˤ', 'õ', 'o̤', 'o̰', 'oᴱ', 'u', 'uˤ', 'ũ', 'ṳ', 'ṵ', 'uᴱ']\n"
     ]
    }
   ],
   "source": [
    "print(\"These are all the phonemes that occur in !Xóõ:\")\n",
    "print(simple_mapping[\"!Xóõ\"])"
   ]
  },
  {
   "cell_type": "markdown",
   "id": "superior-windsor",
   "metadata": {},
   "source": [
    "### Simple Matching Coefficient\n",
    "\n",
    "[The Simple Matching Coefficient](https://en.wikipedia.org/wiki/Simple_matching_coefficient) for two equal-length arrays is the number of matching elements divided by the length of the array. This only works for vectors that are equal length, so below I map each language to a binary vector that represents the presence or absence of a given phoneme.\n",
    "\n",
    "Because the average inventory size is 34.9 (see above) and the total number of phonemes is 3164 (see below), each binary vector will be sparse (mostly zeros), meaning that distance measures will all be _close_ to each other. However, even though the numbers themselves are close, distance can still be ranked, and the total differences can always be scaled.\n",
    "\n",
    "I subtracted this coefficient from `1` to turn it into a distance metric.\n",
    "\n",
    "Note: [Hamming Distance](https://en.wikipedia.org/wiki/Hamming_distance) is the same as the simple matching coefficient except is defined between equal-length strings instead of equal-length arrays."
   ]
  },
  {
   "cell_type": "code",
   "execution_count": 30,
   "id": "choice-sigma",
   "metadata": {},
   "outputs": [
    {
     "name": "stdout",
     "output_type": "stream",
     "text": [
      "Here is what some of the phoneme data looks like: ['h', 'j', 'k', 'kʰ', 'kˀ', 'l', 'm', 'n', 'p', 'pʰ']\n",
      "There are 3164 phonemes total\n"
     ]
    }
   ],
   "source": [
    "phoneme_list = engine.execute(\"\"\"\n",
    "                SELECT GROUP_CONCAT(DISTINCT(Phoneme)) FROM phoible\n",
    "               \"\"\"\n",
    "              ).fetchall()\n",
    "\n",
    "# List of distinct phonemes\n",
    "total_phoneme_inventory = list(phoneme_list[0])[0].split(\",\")\n",
    "print(f\"Here is what some of the phoneme data looks like: {total_phoneme_inventory[:10]}\")\n",
    "print(f\"There are {len(total_phoneme_inventory)} phonemes total\")"
   ]
  },
  {
   "cell_type": "code",
   "execution_count": 31,
   "id": "ancient-belize",
   "metadata": {},
   "outputs": [],
   "source": [
    "# Create mapping like \"English\": [1, 1, 0, 1, ...]\n",
    "def create_binary_encoding(language_phoneme_inventory, total_phoneme_inventory=total_phoneme_inventory):\n",
    "    return [1 if phone in language_phoneme_inventory else 0 for phone in total_phoneme_inventory]\n",
    "\n",
    "\n",
    "binary_encoding = {k: create_binary_encoding(v) for k, v in simple_mapping.items()}"
   ]
  },
  {
   "cell_type": "code",
   "execution_count": 32,
   "id": "alone-ecuador",
   "metadata": {},
   "outputs": [
    {
     "data": {
      "text/plain": [
       "[1, 1, 0, 1, 0, 1, 1, 1, 0, 1]"
      ]
     },
     "execution_count": 32,
     "metadata": {},
     "output_type": "execute_result"
    }
   ],
   "source": [
    "# Show what part of the binary encoding for English looks like\n",
    "binary_encoding[\"English (American)\"][:10]"
   ]
  },
  {
   "cell_type": "code",
   "execution_count": 33,
   "id": "express-vacuum",
   "metadata": {},
   "outputs": [
    {
     "data": {
      "text/plain": [
       "39"
      ]
     },
     "execution_count": 33,
     "metadata": {},
     "output_type": "execute_result"
    }
   ],
   "source": [
    "# Confirm the number of phonemes in American English\n",
    "sum(binary_encoding[\"English (American)\"])"
   ]
  },
  {
   "cell_type": "code",
   "execution_count": 34,
   "id": "prospective-family",
   "metadata": {},
   "outputs": [
    {
     "name": "stdout",
     "output_type": "stream",
     "text": [
      "The Simple matching coefficient for English and German is 0.010\n",
      "The Simple matching coefficient for English and Thai is 0.017\n",
      "The Simple matching coefficient for English and Pirahã is 0.013\n"
     ]
    }
   ],
   "source": [
    "# Define the simple matching coefficient between two equal-length vectors\n",
    "def simple_matching_coef(a, b):\n",
    "    len_overlap = len([1 for i, j in zip(a, b) if i == j])\n",
    "    \n",
    "    return 1 - len_overlap / len(a)\n",
    "\n",
    "\n",
    "# Calculate distances between some languages\n",
    "simple_matching_d_eng_pira = simple_matching_coef(binary_encoding[\"English (American)\"], binary_encoding[\"Pirahã\"])\n",
    "simple_matching_d_eng_germ = simple_matching_coef(binary_encoding[\"English (American)\"], binary_encoding[\"German\"])\n",
    "simple_matching_d_eng_thai = simple_matching_coef(binary_encoding[\"English (American)\"], binary_encoding[\"Thai\"])\n",
    "\n",
    "print(f\"The Simple matching coefficient for English and German is {simple_matching_d_eng_germ:.3f}\")\n",
    "print(f\"The Simple matching coefficient for English and Thai is {simple_matching_d_eng_thai:.3f}\")\n",
    "print(f\"The Simple matching coefficient for English and Pirahã is {simple_matching_d_eng_pira:.3f}\")"
   ]
  },
  {
   "cell_type": "code",
   "execution_count": 35,
   "id": "immune-championship",
   "metadata": {},
   "outputs": [],
   "source": [
    "# Now let's find the matching distance between English and every other language.\n",
    "simple_distance_to_eng = [(simple_matching_coef(binary_encoding[\"English (American)\"], binary_encoding[lang]), lang) for lang in simple_mapping]"
   ]
  },
  {
   "cell_type": "code",
   "execution_count": 36,
   "id": "sublime-orlando",
   "metadata": {},
   "outputs": [
    {
     "name": "stdout",
     "output_type": "stream",
     "text": [
      "The 50 languages with the smallest simple matching distance from English:\n"
     ]
    },
    {
     "data": {
      "text/plain": [
       "[(0.006953223767383054, 'English (British)'),\n",
       " (0.007901390644753481, 'English'),\n",
       " (0.008849557522123908, 'Persian'),\n",
       " (0.008849557522123908, 'kwangari'),\n",
       " (0.009165613147914087, 'English (Australian)'),\n",
       " (0.009481668773704155, 'Hanga'),\n",
       " (0.009481668773704155, 'Low German'),\n",
       " (0.009481668773704155, 'Scots'),\n",
       " (0.009481668773704155, 'Farsi'),\n",
       " (0.009797724399494334, 'BASHKIR'),\n",
       " (0.009797724399494334, 'Daza'),\n",
       " (0.009797724399494334, 'diriku'),\n",
       " (0.009797724399494334, 'Northern Kurdish'),\n",
       " (0.010113780025284402, 'IVATAN'),\n",
       " (0.010113780025284402, 'Teda'),\n",
       " (0.010113780025284402, 'Belizean Creole'),\n",
       " (0.010113780025284402, 'kwezo'),\n",
       " (0.010113780025284402, 'Sherbro'),\n",
       " (0.010113780025284402, 'Cebuano'),\n",
       " (0.010113780025284402, 'Juhuri'),\n",
       " (0.010429835651074582, 'German'),\n",
       " (0.010429835651074582, 'Azerbaijani'),\n",
       " (0.010429835651074582, 'KERA'),\n",
       " (0.010429835651074582, 'KUNAMA'),\n",
       " (0.010429835651074582, 'FARSI'),\n",
       " (0.010429835651074582, 'TUNICA'),\n",
       " (0.010429835651074582, 'Lunda'),\n",
       " (0.010429835651074582, 'Awtuw'),\n",
       " (0.010429835651074582, 'Ndamba'),\n",
       " (0.010429835651074582, 'Salasca Quechua'),\n",
       " (0.010429835651074582, 'Standard Malay'),\n",
       " (0.01074589127686476, 'Batak'),\n",
       " (0.01074589127686476, 'Tunica'),\n",
       " (0.01074589127686476, 'Maltese'),\n",
       " (0.01074589127686476, 'Luo'),\n",
       " (0.01074589127686476, 'Rumanian'),\n",
       " (0.01074589127686476, 'AMO'),\n",
       " (0.01074589127686476, 'ALAMBLAK'),\n",
       " (0.01074589127686476, 'JOMANG'),\n",
       " (0.01074589127686476, 'Berom'),\n",
       " (0.01074589127686476, 'Nubi'),\n",
       " (0.01074589127686476, 'Oku'),\n",
       " (0.01074589127686476, 'Jamaican Creole'),\n",
       " (0.01074589127686476, 'Toba-Batak'),\n",
       " (0.01074589127686476, 'Kihungan'),\n",
       " (0.01074589127686476, 'Indonesian'),\n",
       " (0.01074589127686476, 'Boro'),\n",
       " (0.01074589127686476, 'Hiligaynon'),\n",
       " (0.01074589127686476, 'Tausug (Suluk)'),\n",
       " (0.01074589127686476, 'greek Thrace Xoraxane Romane')]"
      ]
     },
     "execution_count": 36,
     "metadata": {},
     "output_type": "execute_result"
    }
   ],
   "source": [
    "print(\"The 50 languages with the smallest simple matching distance from English:\")\n",
    "sorted(simple_distance_to_eng, key=lambda x: x[0])[2:52]"
   ]
  },
  {
   "cell_type": "markdown",
   "id": "national-karaoke",
   "metadata": {},
   "source": [
    "The results returned by this algorithm also seem reasonable. Again, many of the closest languages are other English dialects, other Indo-European langauges, and some creole languages. But I think we can do better..."
   ]
  },
  {
   "cell_type": "code",
   "execution_count": 37,
   "id": "front-victorian",
   "metadata": {},
   "outputs": [
    {
     "name": "stdout",
     "output_type": "stream",
     "text": [
      "The 25 languages with the furthest simple matching distance from English:\n"
     ]
    },
    {
     "data": {
      "text/plain": [
       "[(0.02718078381795197, 'LAK'),\n",
       " (0.02749683944374215, 'Yeyi'),\n",
       " (0.027812895069532217, 'Tofa'),\n",
       " (0.028128950695322397, 'Lak'),\n",
       " (0.028445006321112465, 'PARAUK'),\n",
       " (0.028445006321112465, 'Mfumte'),\n",
       " (0.028761061946902644, 'Nizaa'),\n",
       " (0.02939317319848289, 'Moroccan Arabic'),\n",
       " (0.02939317319848289, 'Scottish Gaelic'),\n",
       " (0.03002528445006325, 'Xhosa'),\n",
       " (0.03002528445006325, 'Tashlhiyt Berber'),\n",
       " (0.03002528445006325, 'Nangchenpa Tibetan'),\n",
       " (0.030341340075853318, 'Rigwe'),\n",
       " (0.030341340075853318, 'Elfdalian'),\n",
       " (0.030657395701643497, 'Dan'),\n",
       " (0.031289506953223745, 'Hindi-Urdu'),\n",
       " (0.0331858407079646, 'Lezgian'),\n",
       " (0.0331858407079646, 'Shixing'),\n",
       " (0.03476611883691527, 'ARCHI'),\n",
       " (0.0357142857142857, 'Mbembe'),\n",
       " (0.04140328697850826, '!Xun'),\n",
       " (0.042351453855878685, 'Soghpo Tibetan'),\n",
       " (0.04582806573957021, 'Kildin Saami'),\n",
       " (0.04614412136536028, '!XU'),\n",
       " (0.05625790139064479, '!Xóõ')]"
      ]
     },
     "execution_count": 37,
     "metadata": {},
     "output_type": "execute_result"
    }
   ],
   "source": [
    "print(\"The 25 languages with the furthest simple matching distance from English:\")\n",
    "sorted(simple_distance_to_eng, key=lambda x: x[0])[-25:]"
   ]
  },
  {
   "cell_type": "code",
   "execution_count": 38,
   "id": "precise-beijing",
   "metadata": {},
   "outputs": [
    {
     "name": "stdout",
     "output_type": "stream",
     "text": [
      "The distributions of distances from English seems to be normally distributed\n"
     ]
    },
    {
     "data": {
      "image/png": "[encoded data removed]",
      "text/plain": [
       "<Figure size 432x288 with 1 Axes>"
      ]
     },
     "metadata": {
      "needs_background": "light"
     },
     "output_type": "display_data"
    }
   ],
   "source": [
    "# Let's also explore the distribution of distances\n",
    "\n",
    "plt.xlabel('distance from English', fontsize=16)\n",
    "plt.ylabel('# of languages', fontsize=16)\n",
    "\n",
    "sns.histplot(data=[i for i, _ in simple_distance_to_eng], bins=50, element=\"poly\")\n",
    "print(\"The distributions of distances from English seems to be normally distributed\")"
   ]
  },
  {
   "cell_type": "markdown",
   "id": "legendary-overview",
   "metadata": {},
   "source": [
    "### Vector Space Similarity\n",
    "\n",
    "In this algorithm, I first map each phoneme to a set of binary features. There are 37 of these features. When comparing two languages, I calculate the distance between each phoneme in each language and take the average of the closest features. The sub-distance metric I use is jaccard distance. \n"
   ]
  },
  {
   "cell_type": "code",
   "execution_count": 39,
   "id": "young-clearance",
   "metadata": {},
   "outputs": [
    {
     "name": "stdout",
     "output_type": "stream",
     "text": [
      "There are 37 segment features total:\n",
      "['tone', 'stress', 'syllabic', 'short', 'long', 'consonantal', 'sonorant', 'continuant', 'delayedRelease', 'approximant', 'tap', 'trill', 'nasal', 'lateral', 'labial', 'round', 'labiodental', 'coronal', 'anterior', 'distributed', 'strident', 'dorsal', 'high', 'low', 'front', 'back', 'tense', 'retractedTongueRoot', 'advancedTongueRoot', 'periodicGlottalSource', 'epilaryngealSource', 'spreadGlottis', 'constrictedGlottis', 'fortis', 'raisedLarynxEjective', 'loweredLarynxImplosive', 'click']\n"
     ]
    }
   ],
   "source": [
    "# Columns 11 and onward are phoneme feature columns\n",
    "# I decided not to use the column `SegmentClass` because it can be inferred from the other features\n",
    "cols = list(df.columns[11:])\n",
    "print(f\"There are {len(cols)} segment features total:\")\n",
    "print(cols)"
   ]
  },
  {
   "cell_type": "code",
   "execution_count": 40,
   "id": "latter-barrel",
   "metadata": {},
   "outputs": [],
   "source": [
    "# Make language mapping like English: [[0, 1, 1, ...], [1, 1, 0, ...], ...]\n",
    "res = engine.execute(f\"\"\"\n",
    "               SELECT LanguageName, {\", \".join(cols)}\n",
    "               FROM phoible\n",
    "               \"\"\"\n",
    "              ).fetchall()\n",
    "\n",
    "# res = [[i[0].split(\",\")[0], list(i[0].split(\",\")[1])]for i in list(res)]\n",
    "\n",
    "vector_mapping = {}\n",
    "for i in res:\n",
    "    lang = i[0]\n",
    "    features = i[1:]\n",
    "    if lang not in vector_mapping:\n",
    "        vector_mapping[lang] = [features]\n",
    "    else:\n",
    "        vector_mapping[lang].append(features)"
   ]
  },
  {
   "cell_type": "code",
   "execution_count": 41,
   "id": "settled-cathedral",
   "metadata": {},
   "outputs": [
    {
     "name": "stdout",
     "output_type": "stream",
     "text": [
      "('0', '-', '-', '-', '-', '+', '-', '-', '-', '-', '-', '-', '-', '-', '+', '-', '-', '-', '0', '0', '0', '-', '0', '0', '0', '0', '0', '0', '0', '+', '-', '-', '-', '-', '-', '-', '-')\n",
      "('0', '-', '-', '-', '-', '+', '-', '-', '-', '-', '-', '-', '-', '-', '-', '0', '0', '+', '+', '-', '-', '-', '0', '0', '0', '0', '0', '0', '0', '+', '-', '-', '-', '-', '-', '-', '-')\n",
      "('0', '-', '-', '-', '-', '+', '-', '-', '+', '-', '-', '-', '-', '-', '-', '0', '0', '+', '-', '+', '+', '-', '0', '0', '0', '0', '0', '0', '0', '+', '-', '-', '-', '-', '-', '-', '-')\n"
     ]
    }
   ],
   "source": [
    "for i in range(3):\n",
    "    print(vector_mapping[\"English (American)\"][i])"
   ]
  },
  {
   "cell_type": "code",
   "execution_count": 42,
   "id": "sensitive-comparative",
   "metadata": {},
   "outputs": [
    {
     "name": "stdout",
     "output_type": "stream",
     "text": [
      "The vector distance for English and German is 0.023\n",
      "The vector distance for English and Thai is 0.089\n",
      "The vector distance for English and Pirahã is 0.063\n"
     ]
    }
   ],
   "source": [
    "# Define the vector space similarity between two languages\n",
    "def vector_similarity(a, b):\n",
    "    \"\"\"\n",
    "    Calculate the jaccard distance between all of a's vectors and all of b's vectors\n",
    "    The overall vector space similarity is simply the average distance.\n",
    "    This works fine where the phoneme inventories are different sizes\n",
    "    \"\"\"\n",
    "    simple_distances = []\n",
    "    \n",
    "    # For each vector in a, find the closest vector in b and append it to simple_distances\n",
    "    for vec_a in a:\n",
    "        closest = 1\n",
    "        for vec_b in b:\n",
    "            distance = simple_matching_coef(vec_a, vec_b)\n",
    "            if distance < closest:\n",
    "                closest = distance\n",
    "        simple_distances.append(closest)\n",
    "    \n",
    "    # For each vector in b, find the closest vector in a and append it to simple_distances\n",
    "    for vec_b in b:\n",
    "        closest = 1\n",
    "        for vec_a in a:\n",
    "            distance = simple_matching_coef(vec_a, vec_b)\n",
    "            if distance < closest:\n",
    "                closest = distance\n",
    "        simple_distances.append(closest)\n",
    "    \n",
    "    # Return the average distance\n",
    "    return sum(simple_distances) / len(simple_distances)\n",
    "\n",
    "\n",
    "# Calculate distances between some languages\n",
    "vec_similarity_d_eng_pira = vector_similarity(vector_mapping[\"English (American)\"], vector_mapping[\"Pirahã\"])\n",
    "vec_similarity_d_eng_germ = vector_similarity(vector_mapping[\"English (American)\"], vector_mapping[\"German\"])\n",
    "vec_similarity_d_eng_thai = vector_similarity(vector_mapping[\"English (American)\"], vector_mapping[\"Thai\"])\n",
    "\n",
    "print(f\"The vector distance for English and German is {vec_similarity_d_eng_germ:.3f}\")\n",
    "print(f\"The vector distance for English and Thai is {vec_similarity_d_eng_thai:.3f}\")\n",
    "print(f\"The vector distance for English and Pirahã is {vec_similarity_d_eng_pira:.3f}\")"
   ]
  },
  {
   "cell_type": "code",
   "execution_count": 43,
   "id": "mighty-tenant",
   "metadata": {},
   "outputs": [],
   "source": [
    "# Now let's find the matching distance between English and every other language.\n",
    "# Be patient, this might take a minute!\n",
    "vec_distance_to_eng = [(vector_similarity(vector_mapping[\"English (American)\"], vector_mapping[lang]), lang) for lang in vector_mapping]"
   ]
  },
  {
   "cell_type": "code",
   "execution_count": 44,
   "id": "fundamental-persian",
   "metadata": {},
   "outputs": [
    {
     "name": "stdout",
     "output_type": "stream",
     "text": [
      "The 50 languages with the smallest vector distance from English:\n"
     ]
    },
    {
     "data": {
      "text/plain": [
       "[(0.011452130096197886, 'English (British)'),\n",
       " (0.013098988559111253, 'English'),\n",
       " (0.017258222077499174, 'English (Australian)'),\n",
       " (0.020813917365641484, 'Welsh'),\n",
       " (0.02154857560262964, 'Belizean Creole'),\n",
       " (0.021692745376955886, 'Scots'),\n",
       " (0.02207841644461361, 'Daza'),\n",
       " (0.02214714714714713, 'Jamaican Creole'),\n",
       " (0.02275059869996578, 'German'),\n",
       " (0.023112767940354138, 'Assamese'),\n",
       " (0.023341523341523326, 'kwangari'),\n",
       " (0.023717595146166563, 'Persian'),\n",
       " (0.023739956172388586, 'Teda'),\n",
       " (0.023868023868023853, 'BASHKIR'),\n",
       " (0.023938223938223924, 'Rumanian'),\n",
       " (0.0239817282070803, 'Karipuna Creole'),\n",
       " (0.023986486486486467, 'Michif'),\n",
       " (0.02408348943002407, 'Indonesian'),\n",
       " (0.024255024255024238, 'Tagalog'),\n",
       " (0.024285154719937307, 'KERA'),\n",
       " (0.024324324324324312, 'Berom'),\n",
       " (0.024601524601524576, 'Ishkashimi'),\n",
       " (0.02483564645726806, 'Wymysorys'),\n",
       " (0.024974341430037614, 'Cebuano'),\n",
       " (0.025068546807677217, 'FUR'),\n",
       " (0.025294525294525284, 'Hill Jarawa'),\n",
       " (0.025437201907790127, 'Hanga'),\n",
       " (0.025460242851547174, 'Mauritian Creole'),\n",
       " (0.025566106647187715, 'AMO'),\n",
       " (0.025579150579150563, 'Swahili'),\n",
       " (0.02560455192034138, 'Antiguan Creole'),\n",
       " (0.025719267654751504, 'IVATAN'),\n",
       " (0.02574002574002573, 'English (New Zealand)'),\n",
       " (0.025885039969546997, 'Lunda'),\n",
       " (0.025974025974025955, 'KOHUMONO'),\n",
       " (0.026013513513513498, 'GERMAN'),\n",
       " (0.026220250100847095, 'diriku'),\n",
       " (0.026243634939287094, 'Standard Malay'),\n",
       " (0.026497085320614705, 'Javanese'),\n",
       " (0.02661122661122659, 'San Miguel Chimalapa Zoque'),\n",
       " (0.026617526617526595, 'Toba-Batak'),\n",
       " (0.026623638563937048, 'TEKE'),\n",
       " (0.02662363856393706, 'CAYAPA'),\n",
       " (0.02662957074721779, 'mbukushu'),\n",
       " (0.026646364674533667, 'LUO'),\n",
       " (0.02667140825035559, 'Taba'),\n",
       " (0.026712759270898796, 'Kabiyɛ'),\n",
       " (0.026783540297053786, 'Slovene'),\n",
       " (0.027027027027027004, 'Faroese'),\n",
       " (0.027027027027027008, 'Chumburung')]"
      ]
     },
     "execution_count": 44,
     "metadata": {},
     "output_type": "execute_result"
    }
   ],
   "source": [
    "print(\"The 50 languages with the smallest vector distance from English:\")\n",
    "sorted(vec_distance_to_eng, key=lambda x: x[0])[2:52]"
   ]
  },
  {
   "cell_type": "markdown",
   "id": "corporate-management",
   "metadata": {},
   "source": [
    "The results here look even better than simple Jaccard distance: the top languages are all English dialects or related languages, languages spoken in the British Isles (Wales), other Indo-European languages, or languages that have been strongly influenced by English (Maltese, Jamaican Creole, Belizean Creole), or the usual Niger-Congo and Austronesian languages. There are some outliers though, like _Tamasheq_, a Berber language spoken in Mali, but [its phonology](https://en.wikipedia.org/wiki/Tamasheq_language#Phonology) does look similar to English.\n",
    "\n",
    "In the next section, I'm going to be a little more specific in how I measure the success of this distance metric."
   ]
  },
  {
   "cell_type": "code",
   "execution_count": 45,
   "id": "honest-teaching",
   "metadata": {},
   "outputs": [
    {
     "name": "stdout",
     "output_type": "stream",
     "text": [
      "The 25 languages with the largest vector distance from English:\n"
     ]
    },
    {
     "data": {
      "text/plain": [
       "[(0.0918918918918919, 'cilungu'),\n",
       " (0.09195228748301366, 'Dan'),\n",
       " (0.09206081081081079, 'Mbembe'),\n",
       " (0.09222380275011849, 'Kom'),\n",
       " (0.09260423213911578, 'Nizaa'),\n",
       " (0.092726873214678, 'Xhosa'),\n",
       " (0.09334544628662274, 'Konkomba'),\n",
       " (0.09413908290312784, 'soninke (kaedi (MRT))'),\n",
       " (0.09420099711361841, 'Sandawe'),\n",
       " (0.0948544698544698, 'Gwandara (Nimbia)'),\n",
       " (0.09508599508599501, 'Ticuna'),\n",
       " (0.095223130106851, 'Attie'),\n",
       " (0.09672830725462297, 'Ngiti'),\n",
       " (0.09702009702009701, 'Sochiapan Chinantec'),\n",
       " (0.09856915739268676, 'Gwandara (Karshi)'),\n",
       " (0.09878844361602983, 'Gadsup'),\n",
       " (0.09962028143846319, 'Babungo'),\n",
       " (0.10135135135135136, 'NAMA'),\n",
       " (0.10196560196560189, 'Bafut'),\n",
       " (0.10435435435435429, '!XU'),\n",
       " (0.10937996820349756, 'Buli'),\n",
       " (0.11036036036036034, 'Nama'),\n",
       " (0.1112146629388008, 'Itunyoso Trique'),\n",
       " (0.12748597654258026, '!Xun'),\n",
       " (0.14270270270270255, '!Xóõ')]"
      ]
     },
     "execution_count": 45,
     "metadata": {},
     "output_type": "execute_result"
    }
   ],
   "source": [
    "print(\"The 25 languages with the largest vector distance from English:\")\n",
    "sorted(vec_distance_to_eng, key=lambda x: x[0])[-25:]"
   ]
  },
  {
   "cell_type": "markdown",
   "id": "moral-forty",
   "metadata": {},
   "source": [
    "We already know that !Xóõ is very different from English, but let's explore a couple of others:"
   ]
  },
  {
   "cell_type": "code",
   "execution_count": 46,
   "id": "minimal-gnome",
   "metadata": {},
   "outputs": [
    {
     "name": "stdout",
     "output_type": "stream",
     "text": [
      "These are all the phonemes that occur in Xhosa:\n",
      "['b̤', 'cʰ', 'cʼ', 'd̠̤ʒ̤', 'd̤', 'f', 'h', 'j', 'kxʰ', 'kxʼ', 'kǀ', 'kǀʰ', 'kǀʼ', 'kǁ', 'kǁʰ', 'kǃ', 'kǃʰ', 'kʰ', 'kʼ', 'l', 'm', 'mpfʼ', 'mpʼ', 'm̤', 'm̤b̤', 'm̤b̤v̤', 'n', 'ntlʼ', 'ntsʼ', 'ntʼ', 'n̠t̠ʃʼ', 'n̠̤d̠̤ʒ', 'n̤', 'n̤d̤', 'n̤d̤z̤', 'n̤d̤ɮ̤', 'pʰ', 'pʼ', 's', 'tsʰ', 'tsʼ', 'tʰ', 'tʼ', 't̠ʃʰ', 't̠ʃʼ', 'v̤', 'w', 'x', 'z̤', 'ŋ', 'ŋkʼ', 'ŋǀ', 'ŋǁ', 'ŋǁʼ', 'ŋǃ', 'ŋǃʼ', 'ŋ̤ǀ', 'ŋ̤ǁ', 'ŋ̤ǃ', 'ŋ̤ɡ̤', 'ɓ', 'ɟ̤', 'ɡ̤', 'ɡ̤ǀ', 'ɡ̤ǁ', 'ɡ̤ǃ', 'ɣ̤', 'ɦ̤', 'ɬ', 'ɮ̤', 'ɲ', 'ɲcʼ', 'ɲ̤', 'ɲ̤ɟ̤', 'ʃ', '˦', '˨', 'a', 'e', 'i', 'o', 'u', 'ɔ', 'ɛ']\n"
     ]
    }
   ],
   "source": [
    "print(\"These are all the phonemes that occur in Xhosa:\")\n",
    "print(simple_mapping[\"Xhosa\"])"
   ]
  },
  {
   "cell_type": "code",
   "execution_count": 47,
   "id": "formed-confidence",
   "metadata": {},
   "outputs": [
    {
     "name": "stdout",
     "output_type": "stream",
     "text": [
      "These are all the phonemes that occur in Nizaa:\n",
      "['b', 'd', 'dʷ', 'd̠ʒ', 'd̠ʒʷ', 'f', 'h', 'j', 'k', 'kp', 'kʷ', 'l', 'lʷ', 'm', 'mb', 'mʷ', 'n', 'nd', 'ndʷ', 'nz', 'nzʷ', 'nʷ', 'n̠d̠ʒ', 'n̠d̠ʒʷ', 'p', 's', 'sʷ', 't', 'tʷ', 't̠ʃ', 't̠ʃʷ', 'v', 'w', 'w̃', 'x', 'z', 'zʷ', 'ŋmɡb', 'ŋɡ', 'ŋɡʷ', 'ɓ', 'ɓʷ', 'ɗ', 'ɗʷ', 'ɡ', 'ɡb', 'ɡʷ', 'ɥ', 'ɰ̃', 'ɱv', 'ɲ', 'ɲʷ', 'ɾ', 'ɾʷ', 'ʃ', 'ʃʷ', 'ʔ', 'ʔʷ', '˦', '˦˧', '˦˨', '˧', '˧˨', '˨', '˨˦', '˨˦˧', '˨˧', 'a', 'aː', 'ãː', 'e', 'eː', 'iː', 'ĩː', 'o', 'oː', 'uː', 'ũː', 'ɔː', 'ɔ̃ː', 'ɛː', 'ɛ̃ː', 'ɤː', 'ɤ̃ː', 'ɪ', 'ɯː', 'ɯ̃ː', 'ʊ', 'ʌː', 'ʌ̃ː']\n"
     ]
    }
   ],
   "source": [
    "print(\"These are all the phonemes that occur in Nizaa:\")\n",
    "print(simple_mapping[\"Nizaa\"])"
   ]
  },
  {
   "cell_type": "markdown",
   "id": "weekly-alliance",
   "metadata": {},
   "source": [
    "## Evaluation\n",
    "\n",
    "One way to evaluate this custom distance metric is to simply look at the results: do they look sensible? A \"sensible\" result should have lots of languages in the same family as English: Indo-European. If a lot of the results are Indo-European, then the results are probably good. This seems to be the case. Rather than just counting things manually, let's quantify it.\n",
    "\n",
    "In this section I first join the phoible dataset with [glottolog](https://glottolog.org/). Glottolog contains meta-data about languages: where it's spoken, the countries it's spoken in, etc.\n",
    "\n",
    "If my algorithm's top-50 items contain 25 Indo-European languages, and 50% of the world's languages are members of this family, then the algorithm's results are probably random. If, however, the distribution of language families that are selected by my algorithm are significantly different from the distribution in WALS, that means that my algorithm is doing _something_.\n",
    "\n",
    "Here's how I evaluate the results:\n",
    "- If there are significantly __more__ Indo-European languages chosen than random, then my algorithm is _valid_ - it's returning sensible results.\n",
    "- If my algorithm returns _some other language family_ significantly more than chance, then this family _probably_ resembles English in its phonology.\n",
    "\n",
    "First I'll just show you the raw probabilities, then I'll use statistics to quantify things.\n",
    "\n",
    "__Note__: the choice of the top 50 languages is arbitrary. I could choose another number. Additionally, I could weight each item by distance, but this complicates some of the downstream calculations."
   ]
  },
  {
   "cell_type": "code",
   "execution_count": 48,
   "id": "outdoor-italy",
   "metadata": {},
   "outputs": [
    {
     "name": "stdout",
     "output_type": "stream",
     "text": [
      "  % Total    % Received % Xferd  Average Speed   Time    Time     Time  Current\n",
      "                                 Dload  Upload   Total   Spent    Left  Speed\n",
      "100 1547k  100 1547k    0     0  3765k      0 --:--:-- --:--:-- --:--:-- 3756k\n"
     ]
    }
   ],
   "source": [
    "! curl https://raw.githubusercontent.com/glottolog/glottolog-cldf/master/cldf/languages.csv > languages.csv"
   ]
  },
  {
   "cell_type": "code",
   "execution_count": 49,
   "id": "buried-moldova",
   "metadata": {},
   "outputs": [],
   "source": [
    "! mv languages.csv ../data"
   ]
  },
  {
   "cell_type": "code",
   "execution_count": 50,
   "id": "artificial-judgment",
   "metadata": {},
   "outputs": [],
   "source": [
    "lang_df = pd.read_csv(\"../data/languages.csv\")"
   ]
  },
  {
   "cell_type": "code",
   "execution_count": 51,
   "id": "auburn-convertible",
   "metadata": {},
   "outputs": [
    {
     "data": {
      "text/html": [
       "<div>\n",
       "<style scoped>\n",
       "    .dataframe tbody tr th:only-of-type {\n",
       "        vertical-align: middle;\n",
       "    }\n",
       "\n",
       "    .dataframe tbody tr th {\n",
       "        vertical-align: top;\n",
       "    }\n",
       "\n",
       "    .dataframe thead th {\n",
       "        text-align: right;\n",
       "    }\n",
       "</style>\n",
       "<table border=\"1\" class=\"dataframe\">\n",
       "  <thead>\n",
       "    <tr style=\"text-align: right;\">\n",
       "      <th></th>\n",
       "      <th>ID</th>\n",
       "      <th>Name</th>\n",
       "      <th>Macroarea</th>\n",
       "      <th>Latitude</th>\n",
       "      <th>Longitude</th>\n",
       "      <th>Glottocode</th>\n",
       "      <th>ISO639P3code</th>\n",
       "      <th>Countries</th>\n",
       "      <th>Family_ID</th>\n",
       "      <th>Language_ID</th>\n",
       "    </tr>\n",
       "  </thead>\n",
       "  <tbody>\n",
       "    <tr>\n",
       "      <th>0</th>\n",
       "      <td>kond1302</td>\n",
       "      <td>Konda-Yahadian</td>\n",
       "      <td>NaN</td>\n",
       "      <td>NaN</td>\n",
       "      <td>NaN</td>\n",
       "      <td>kond1302</td>\n",
       "      <td>NaN</td>\n",
       "      <td>NaN</td>\n",
       "      <td>NaN</td>\n",
       "      <td>NaN</td>\n",
       "    </tr>\n",
       "    <tr>\n",
       "      <th>1</th>\n",
       "      <td>cani1243</td>\n",
       "      <td>Canichana</td>\n",
       "      <td>South America</td>\n",
       "      <td>-14.3058</td>\n",
       "      <td>-64.944455</td>\n",
       "      <td>cani1243</td>\n",
       "      <td>caz</td>\n",
       "      <td>BO</td>\n",
       "      <td>NaN</td>\n",
       "      <td>NaN</td>\n",
       "    </tr>\n",
       "    <tr>\n",
       "      <th>2</th>\n",
       "      <td>mong1349</td>\n",
       "      <td>Mongolic-Khitan</td>\n",
       "      <td>NaN</td>\n",
       "      <td>NaN</td>\n",
       "      <td>NaN</td>\n",
       "      <td>mong1349</td>\n",
       "      <td>NaN</td>\n",
       "      <td>NaN</td>\n",
       "      <td>NaN</td>\n",
       "      <td>NaN</td>\n",
       "    </tr>\n",
       "    <tr>\n",
       "      <th>3</th>\n",
       "      <td>cadd1255</td>\n",
       "      <td>Caddoan</td>\n",
       "      <td>NaN</td>\n",
       "      <td>NaN</td>\n",
       "      <td>NaN</td>\n",
       "      <td>cadd1255</td>\n",
       "      <td>NaN</td>\n",
       "      <td>NaN</td>\n",
       "      <td>NaN</td>\n",
       "      <td>NaN</td>\n",
       "    </tr>\n",
       "    <tr>\n",
       "      <th>4</th>\n",
       "      <td>yuki1242</td>\n",
       "      <td>Yuki-Wappo</td>\n",
       "      <td>NaN</td>\n",
       "      <td>NaN</td>\n",
       "      <td>NaN</td>\n",
       "      <td>yuki1242</td>\n",
       "      <td>NaN</td>\n",
       "      <td>NaN</td>\n",
       "      <td>NaN</td>\n",
       "      <td>NaN</td>\n",
       "    </tr>\n",
       "  </tbody>\n",
       "</table>\n",
       "</div>"
      ],
      "text/plain": [
       "         ID             Name      Macroarea  Latitude  Longitude Glottocode  \\\n",
       "0  kond1302   Konda-Yahadian            NaN       NaN        NaN   kond1302   \n",
       "1  cani1243        Canichana  South America  -14.3058 -64.944455   cani1243   \n",
       "2  mong1349  Mongolic-Khitan            NaN       NaN        NaN   mong1349   \n",
       "3  cadd1255          Caddoan            NaN       NaN        NaN   cadd1255   \n",
       "4  yuki1242       Yuki-Wappo            NaN       NaN        NaN   yuki1242   \n",
       "\n",
       "  ISO639P3code Countries Family_ID Language_ID  \n",
       "0          NaN       NaN       NaN         NaN  \n",
       "1          caz        BO       NaN         NaN  \n",
       "2          NaN       NaN       NaN         NaN  \n",
       "3          NaN       NaN       NaN         NaN  \n",
       "4          NaN       NaN       NaN         NaN  "
      ]
     },
     "execution_count": 51,
     "metadata": {},
     "output_type": "execute_result"
    }
   ],
   "source": [
    "lang_df.head()"
   ]
  },
  {
   "cell_type": "code",
   "execution_count": 52,
   "id": "basic-automation",
   "metadata": {},
   "outputs": [
    {
     "name": "stdout",
     "output_type": "stream",
     "text": [
      "Here are some examples of Indo-European languages:\n"
     ]
    },
    {
     "data": {
      "text/plain": [
       "[('GREEK', 'indo1319'),\n",
       " ('Greek', 'indo1319'),\n",
       " ('Modern Greek', 'indo1319'),\n",
       " ('Italian', 'indo1319'),\n",
       " ('Aragonese', 'indo1319'),\n",
       " ('Ligurian', 'indo1319'),\n",
       " ('Friulian', 'indo1319'),\n",
       " ('Vallader Romansh', 'indo1319'),\n",
       " ('Reunionnais', 'indo1319'),\n",
       " ('Mauritian Creole', 'indo1319')]"
      ]
     },
     "execution_count": 52,
     "metadata": {},
     "output_type": "execute_result"
    }
   ],
   "source": [
    "# Join phoible to glottolog to see which languages are part of the Indo-European family\n",
    "engine = create_engine('sqlite://', echo=False)\n",
    "lang_df.to_sql('glottolog', con=engine)\n",
    "df.to_sql('phoible', con=engine)\n",
    "\n",
    "res = engine.execute(\"\"\"\n",
    "               SELECT DISTINCT(phoible.LanguageName), glottolog.Family_ID FROM glottolog\n",
    "               JOIN phoible\n",
    "               ON phoible.Glottocode = glottolog.Glottocode\n",
    "               WHERE Family_ID LIKE '%indo%'\n",
    "               \"\"\"\n",
    "              ).fetchall()\n",
    "\n",
    "print(\"Here are some examples of Indo-European languages:\")\n",
    "res[:10]"
   ]
  },
  {
   "cell_type": "code",
   "execution_count": 53,
   "id": "prepared-worth",
   "metadata": {},
   "outputs": [],
   "source": [
    "# Get the names of the languages\n",
    "top_50_lang_names = [name for _, name in sorted(vec_distance_to_eng, key=lambda x: x[0])[2:52]]"
   ]
  },
  {
   "cell_type": "code",
   "execution_count": 54,
   "id": "amino-sequence",
   "metadata": {},
   "outputs": [],
   "source": [
    "# Add `phoible` and `glottolog` tables so that they can be joined.\n",
    "engine = create_engine('sqlite://', echo=False)\n",
    "lang_df.to_sql('glottolog', con=engine)\n",
    "df.to_sql('phoible', con=engine)\n",
    "\n",
    "# Add a new column `family` to analyze family distributions.\n",
    "res = engine.execute(f\"\"\"\n",
    "               SELECT DISTINCT(phoible.LanguageName), glottolog.Family_ID\n",
    "               FROM glottolog\n",
    "               JOIN phoible\n",
    "               ON phoible.Glottocode = glottolog.Glottocode\n",
    "               \"\"\"\n",
    "              ).fetchall()\n",
    "\n",
    "# Get all the languages in the database along with their language family.\n",
    "total_langs_in_database = res\n",
    "\n",
    "\n",
    "res = engine.execute(f\"\"\"\n",
    "               SELECT DISTINCT(phoible.LanguageName), glottolog.Family_ID FROM glottolog\n",
    "               JOIN phoible\n",
    "               ON phoible.Glottocode = glottolog.Glottocode\n",
    "               AND phoible.LanguageName IN ('{\"','\".join(top_50_lang_names)}')\n",
    "               \"\"\"\n",
    "              ).fetchall()\n",
    "\n",
    "# Get the top-50 languages along with their language family\n",
    "top_50_langs = res"
   ]
  },
  {
   "cell_type": "markdown",
   "id": "humanitarian-marks",
   "metadata": {},
   "source": [
    "Let's look at the families of the top-50 languages and see if anything pops out. At first glance, it seems like there are more Austronesian languages (`aust1307`) than might occur by chance, so we'll investigate that! Niger-Congo (`atla1278`) looks promising too:"
   ]
  },
  {
   "cell_type": "code",
   "execution_count": 55,
   "id": "sticky-strike",
   "metadata": {},
   "outputs": [
    {
     "data": {
      "text/plain": [
       "[('KERA', 'afro1255'),\n",
       " ('Michif', 'algi1248'),\n",
       " ('Swahili', 'atla1278'),\n",
       " ('AMO', 'atla1278'),\n",
       " ('KOHUMONO', 'atla1278'),\n",
       " ('TEKE', 'atla1278'),\n",
       " ('Berom', 'atla1278'),\n",
       " ('Chumburung', 'atla1278'),\n",
       " ('Hanga', 'atla1278'),\n",
       " ('Kabiyɛ', 'atla1278'),\n",
       " ('Hill Jarawa', 'atla1278'),\n",
       " ('Lunda', 'atla1278'),\n",
       " ('mbukushu', 'atla1278'),\n",
       " ('diriku', 'atla1278'),\n",
       " ('kwangari', 'atla1278'),\n",
       " ('Javanese', 'aust1307'),\n",
       " ('Tagalog', 'aust1307'),\n",
       " ('IVATAN', 'aust1307'),\n",
       " ('Toba-Batak', 'aust1307'),\n",
       " ('Indonesian', 'aust1307'),\n",
       " ('Taba', 'aust1307'),\n",
       " ('Cebuano', 'aust1307'),\n",
       " ('Standard Malay', 'aust1307'),\n",
       " ('CAYAPA', 'barb1265'),\n",
       " ('FUR', 'fura1235'),\n",
       " ('San Miguel Chimalapa Zoque', 'mixe1284'),\n",
       " ('LUO', 'nilo1247'),\n",
       " ('Daza', 'saha1256'),\n",
       " ('Teda', 'saha1256'),\n",
       " ('BASHKIR', 'turk1311')]"
      ]
     },
     "execution_count": 55,
     "metadata": {},
     "output_type": "execute_result"
    }
   ],
   "source": [
    "top_50_non_indo = sorted([i for i in top_50_langs if i[1] != 'indo1319'], key=lambda x: x[1])\n",
    "top_50_non_indo"
   ]
  },
  {
   "cell_type": "code",
   "execution_count": 56,
   "id": "beneficial-prescription",
   "metadata": {},
   "outputs": [],
   "source": [
    "# Calculate the fractions of Indo-European, Austronesian, and Niger-Congo languages in the entire database\n",
    "cnt_langs_in_database = len(total_langs_in_database)\n",
    "indo_langs_in_database = [1 if i[1]  == 'indo1319' else 0 for i in total_langs_in_database]\n",
    "austro_langs_in_database = [1 if i[1]  == 'aust1307' else 0 for i in total_langs_in_database]\n",
    "niger_langs_in_database = [1 if i[1]  == 'atla1278' else 0 for i in total_langs_in_database]"
   ]
  },
  {
   "cell_type": "code",
   "execution_count": 57,
   "id": "attached-decade",
   "metadata": {},
   "outputs": [],
   "source": [
    "# Calculate the fractions of Indo-European, Austronesian, and Niger-Congo languages in the top-50\n",
    "cnt_langs_in_sample = len(top_50_langs)\n",
    "indo_langs_in_sample = [1 if i[1]  == 'indo1319' else 0 for i in top_50_langs]\n",
    "niger_langs_in_sample = [1 if i[1]  == 'atla1278' else 0 for i in top_50_langs]\n",
    "austro_langs_in_sample = [1 if i[1]  == 'aust1307' else 0 for i in top_50_langs]"
   ]
  },
  {
   "cell_type": "code",
   "execution_count": 58,
   "id": "naval-comedy",
   "metadata": {},
   "outputs": [
    {
     "name": "stdout",
     "output_type": "stream",
     "text": [
      "The fraction of Indo-European languages in the database is 7%\n",
      "The fraction of Austronesian languages in the database is 5%\n",
      "The fraction of Niger-Congo languages in the database is 18%\n"
     ]
    }
   ],
   "source": [
    "print(f\"The fraction of Indo-European languages in the database is {sum(indo_langs_in_database)/cnt_langs_in_database*100:.0f}%\")\n",
    "print(f\"The fraction of Austronesian languages in the database is {sum(austro_langs_in_database)/cnt_langs_in_database*100:.0f}%\")\n",
    "print(f\"The fraction of Niger-Congo languages in the database is {sum(niger_langs_in_database)/cnt_langs_in_database*100:.0f}%\")"
   ]
  },
  {
   "cell_type": "code",
   "execution_count": 59,
   "id": "ideal-flashing",
   "metadata": {},
   "outputs": [
    {
     "name": "stdout",
     "output_type": "stream",
     "text": [
      "The fraction of Indo-European languages in the top-50 is: 40%\n",
      "The fraction of Austronesian languages in the top-50 is: 16%\n",
      "The fraction of Niger-Congo languages in the top-50 is: 26%\n"
     ]
    }
   ],
   "source": [
    "print(f\"The fraction of Indo-European languages in the top-50 is: {sum(indo_langs_in_sample)/cnt_langs_in_sample*100:.0f}%\")\n",
    "print(f\"The fraction of Austronesian languages in the top-50 is: {sum(austro_langs_in_sample)/cnt_langs_in_sample*100:.0f}%\")\n",
    "print(f\"The fraction of Niger-Congo languages in the top-50 is: {sum(niger_langs_in_sample)/cnt_langs_in_sample*100:.0f}%\")"
   ]
  },
  {
   "cell_type": "markdown",
   "id": "proper-facility",
   "metadata": {},
   "source": [
    "If we just eyeball the numbers, we can tell that the algorithm is valid: only __7%__ of the world's languages are Indo-European, but __40%__ of the languages in the top 50 were Indo-European.\n",
    "\n",
    "Additionally, __5%__ of the world's languages are Austronesian, but __16%__ of the languages in the sample are.\n",
    "\n",
    "It also looks like Niger-Congo languages might be more similar: only __18%__ of the world's languages are Niger-Congo, but __26%__ of the top-50 are from this family. However, these numbers are pretty close - let's do some math to explicitly determine how likely these results would have occured by chance. If these results are unlikely to have occured by chance, then they're valid!"
   ]
  },
  {
   "cell_type": "code",
   "execution_count": 60,
   "id": "southern-graph",
   "metadata": {},
   "outputs": [
    {
     "name": "stdout",
     "output_type": "stream",
     "text": [
      "The probability that the difference between the two means would have occured by chance is 1.4647640644606805e-18\n"
     ]
    }
   ],
   "source": [
    "# Independent-samples t-test for Indo-European languages\n",
    "from scipy import stats\n",
    "\n",
    "t_test_indo = stats.ttest_ind(indo_langs_in_database, indo_langs_in_sample)\n",
    "\n",
    "print(f\"The probability that the difference between the two means would have occured by chance is {t_test_indo.pvalue}\")"
   ]
  },
  {
   "cell_type": "markdown",
   "id": "juvenile-mystery",
   "metadata": {},
   "source": [
    "This means that it's _very very_ unlikely we would have gotten these results by chance. The algorithm is having _an effect_ - Indo-European langugages are being selected at a much higher rate than chance."
   ]
  },
  {
   "cell_type": "code",
   "execution_count": 61,
   "id": "sacred-speech",
   "metadata": {},
   "outputs": [
    {
     "name": "stdout",
     "output_type": "stream",
     "text": [
      "The probability that the difference between the two means would have occured by chance is 0.00033112080890767404\n"
     ]
    }
   ],
   "source": [
    "# Independent-samples t-test for Austronesian languages\n",
    "from scipy import stats\n",
    "\n",
    "t_test_austro = stats.ttest_ind(austro_langs_in_database, austro_langs_in_sample)\n",
    "\n",
    "print(f\"The probability that the difference between the two means would have occured by chance is {t_test_austro.pvalue}\")"
   ]
  },
  {
   "cell_type": "markdown",
   "id": "swiss-centre",
   "metadata": {},
   "source": [
    "It's also very unlikely that so many Austronesian languages would have been selected by chance. This suggests that this family _actually does_ sound more like English than languages from other families. This result is interesting, because Austronesian languages originated on the opposite side of the world from the British Isles and have no genetic relationship to English.\n",
    "\n",
    "Let's see what happens when we look at the Niger-Congo languages:"
   ]
  },
  {
   "cell_type": "code",
   "execution_count": 62,
   "id": "impressive-primary",
   "metadata": {},
   "outputs": [
    {
     "name": "stdout",
     "output_type": "stream",
     "text": [
      "The probability that the difference between the two means would have occured by chance is 0.1327864017851778\n"
     ]
    }
   ],
   "source": [
    "# Independent-samples t-test for Niger-Congo languages\n",
    "from scipy import stats\n",
    "\n",
    "t_test_niger = stats.ttest_ind(niger_langs_in_database, niger_langs_in_sample)\n",
    "\n",
    "print(f\"The probability that the difference between the two means would have occured by chance is {t_test_niger.pvalue}\")"
   ]
  },
  {
   "cell_type": "markdown",
   "id": "integral-injection",
   "metadata": {},
   "source": [
    "The results for Niger-Congo languages are _marginally significant_ - there's a 13% chance that if we'd randomly sampled languages we'd get such an extreme number of Niger-Congo languages in the top-50. In the fields of psychology and linguistics, a p-value of anything greater than _0.05_ wouldn't be considered acceptable; however, the result still hints at _something_ and warrants further explotation, which I'll do more of in the next section.\n",
    "\n",
    "But maybe there's some other kind of language that's dispropotionately selected by the algorithm? I could add together language families to see if Sub-Saharan African languages are more likely. However, looking for connections this fine-grained can introduce bias - I don't want to _discover_ connections that don't exist.\n",
    "\n",
    "Instead, in the next section I'll dig deeper into the non-Indo-European languages that were selected by the algorithm to see if the results make sense or any patterns emerge."
   ]
  },
  {
   "cell_type": "markdown",
   "id": "reduced-distributor",
   "metadata": {},
   "source": [
    "### Footnote\n",
    "\n",
    "There's another completely valid way to measure similarity: a model-based approach.\n",
    "\n",
    "I could label each language as Indo-European vs non-Indo-European and then train a classifier on phoneme data. If the classifier has a reasonable $F_1$ score, it means that it's working. Then I could study the model's false-positives - the languages that were labeled as Indo-European that weren't. If I use a model like logistic regression, I will get category information as well as probabilities: languages with a higher probability of being Indo-European are \"closer\" to this category.\n",
    "\n",
    "However, the problem with this approach is that I have to train off a category of languages, not a single one: I'd have no way of specifically measuring the difference between all the languages and English. Instead, I'd be measuring the distance between _Indo-European languages_ and everything else.\n",
    "\n",
    "Additionally, other classification tasks could be performed in order to ascertain the importance of various phonetic features. For instance, in a logistic regression model, the __pharyngeal__ feature might be important in determining whether a language belongs to the Afro-Asiatic family. These weights could then be applied to the feautures when doing similarity measurements."
   ]
  },
  {
   "cell_type": "markdown",
   "id": "connected-classic",
   "metadata": {},
   "source": [
    "## Conclusion\n",
    "\n",
    "Let's look again at some of the non-Indo-European languages that made it into the top-50, sorted by their language family:"
   ]
  },
  {
   "cell_type": "code",
   "execution_count": 63,
   "id": "efficient-shoulder",
   "metadata": {},
   "outputs": [
    {
     "name": "stdout",
     "output_type": "stream",
     "text": [
      "There are 30 non-Indo-European languages in the top-50:\n"
     ]
    },
    {
     "data": {
      "text/plain": [
       "[('KERA', 'afro1255'),\n",
       " ('Michif', 'algi1248'),\n",
       " ('Swahili', 'atla1278'),\n",
       " ('AMO', 'atla1278'),\n",
       " ('KOHUMONO', 'atla1278'),\n",
       " ('TEKE', 'atla1278'),\n",
       " ('Berom', 'atla1278'),\n",
       " ('Chumburung', 'atla1278'),\n",
       " ('Hanga', 'atla1278'),\n",
       " ('Kabiyɛ', 'atla1278'),\n",
       " ('Hill Jarawa', 'atla1278'),\n",
       " ('Lunda', 'atla1278'),\n",
       " ('mbukushu', 'atla1278'),\n",
       " ('diriku', 'atla1278'),\n",
       " ('kwangari', 'atla1278'),\n",
       " ('Javanese', 'aust1307'),\n",
       " ('Tagalog', 'aust1307'),\n",
       " ('IVATAN', 'aust1307'),\n",
       " ('Toba-Batak', 'aust1307'),\n",
       " ('Indonesian', 'aust1307'),\n",
       " ('Taba', 'aust1307'),\n",
       " ('Cebuano', 'aust1307'),\n",
       " ('Standard Malay', 'aust1307'),\n",
       " ('CAYAPA', 'barb1265'),\n",
       " ('FUR', 'fura1235'),\n",
       " ('San Miguel Chimalapa Zoque', 'mixe1284'),\n",
       " ('LUO', 'nilo1247'),\n",
       " ('Daza', 'saha1256'),\n",
       " ('Teda', 'saha1256'),\n",
       " ('BASHKIR', 'turk1311')]"
      ]
     },
     "execution_count": 63,
     "metadata": {},
     "output_type": "execute_result"
    }
   ],
   "source": [
    "print(f\"There are {len(top_50_non_indo)} non-Indo-European languages in the top-50:\")\n",
    "top_50_non_indo"
   ]
  },
  {
   "cell_type": "code",
   "execution_count": 64,
   "id": "guided-genealogy",
   "metadata": {},
   "outputs": [
    {
     "name": "stdout",
     "output_type": "stream",
     "text": [
      "There are 8 Austronesian languages in the top 50\n"
     ]
    }
   ],
   "source": [
    "num_austronesian = len([i for i in top_50_non_indo if i[1] == 'aust1307'])\n",
    "\n",
    "print(f\"There are {num_austronesian} Austronesian languages in the top 50\")"
   ]
  },
  {
   "cell_type": "code",
   "execution_count": 65,
   "id": "floating-brook",
   "metadata": {},
   "outputs": [
    {
     "name": "stdout",
     "output_type": "stream",
     "text": [
      "There are 13 Niger-Congo languages in the top 50\n"
     ]
    }
   ],
   "source": [
    "num_niger_congo = len([i for i in top_50_non_indo if i[1] == 'atla1278'])\n",
    "\n",
    "print(f\"There are {num_niger_congo} Niger-Congo languages in the top 50\")"
   ]
  },
  {
   "cell_type": "code",
   "execution_count": 66,
   "id": "instrumental-lingerie",
   "metadata": {},
   "outputs": [
    {
     "name": "stdout",
     "output_type": "stream",
     "text": [
      "There are 18 African languages in the top 50\n"
     ]
    }
   ],
   "source": [
    "num_african = len([i for i in top_50_non_indo if i[1] in ['afro1255', 'atla1278', 'fura1235', 'nilo1247', 'saha1256']])\n",
    "\n",
    "print(f\"There are {num_african} African languages in the top 50\")"
   ]
  },
  {
   "cell_type": "markdown",
   "id": "painted-stomach",
   "metadata": {},
   "source": [
    "Of the 30 non-Indo-European languages, __18__ are spoken in Sub-Saharan Africa: there are 8 Niger-Congo languages. One confounding factor when we consider Sub-Saharan African languages is the presence of tones. Tone is applied to every phoneme segment and makes syllables sound distinct. However, tone is not recorded on a phoneme level. Consider the Chinese word /ma˥/ - this word has a high tone (__˥__), and makes it distinct from the word /ma˩/ (low tone). Tone is not recorded in any database as being a distinctive aspect of a vowel - even though it __is__. In other words, tonal languages have a unique phoneme feature that's being overlooked. This means that Niger-Congo languages probably sound more distinct than the algorithm is suggesting. So instead, let's hone in on the Austronesian languages that were selected by the algorithm:"
   ]
  },
  {
   "cell_type": "code",
   "execution_count": 67,
   "id": "brown-primary",
   "metadata": {},
   "outputs": [
    {
     "name": "stdout",
     "output_type": "stream",
     "text": [
      "These are the Austronesian languages in the top-50:\n"
     ]
    },
    {
     "data": {
      "text/plain": [
       "[('Javanese', 'aust1307'),\n",
       " ('Tagalog', 'aust1307'),\n",
       " ('IVATAN', 'aust1307'),\n",
       " ('Toba-Batak', 'aust1307'),\n",
       " ('Indonesian', 'aust1307'),\n",
       " ('Taba', 'aust1307'),\n",
       " ('Cebuano', 'aust1307'),\n",
       " ('Standard Malay', 'aust1307')]"
      ]
     },
     "execution_count": 67,
     "metadata": {},
     "output_type": "execute_result"
    }
   ],
   "source": [
    "print(\"These are the Austronesian languages in the top-50:\")\n",
    "[i for i in top_50_non_indo if i[1] == 'aust1307']"
   ]
  },
  {
   "cell_type": "markdown",
   "id": "dutch-aurora",
   "metadata": {},
   "source": [
    "The Austronesian languages __Tagalog__, __Ivatan__, __Taba__, __Indonesian__, and __Malay__ have a simple phonological inventory: their consonants are a subset of English (except for the palatal nasal /ɲ/ in Indonesian). Their vowels are also a subset of English, except for Tagalog which has a mid-back rounded vowel that English lacks: /o̞/.\n",
    "\n",
    "__Toba-Batak__ resembles the rest of the languages in this family except that is possesses the palatals /d͡ʑ/ and /t͡ɕ/.\n",
    "\n",
    "__Cebuano's__ consonants are often dentalized, making it slightly different from its relatives on this list.\n",
    "\n",
    "In __Javanese__ there are breathy-voiced consonants like /ɖ̥/ and dentalized stops like /t̪/.\n",
    "\n",
    "All of these languages are non-tonal like English. However, unlike English, the sound /ŋ/ can occur in the beginnings of syllables as well as at the end: English is weird in that it bans /ŋ/ from starting out a syllable."
   ]
  },
  {
   "cell_type": "markdown",
   "id": "devoted-virginia",
   "metadata": {},
   "source": [
    "I think it's fair to conclude that Austronesian languages are _weirdly similar_ to English in their phonology. Despite being on opposite sides of the planet, these languages contain sounds that every English-speaker is familiar with. Learning Tagalog, Malay, or Cebuano shouldn't present many problems for English speakers when it comes to pronunciation.\n",
    "\n",
    "However, it's worth keeping in mind that all the distance metrics I explored are, by definition, symmetrical: the distance from point A to point B is always the same as the distance from B to A. However, the \"learning difficulty\" of a language's speech sounds is definitely __not__ symmetrical: all the Austronesian languages I explored have phoneme inventories that are subsets of English: that means it should be easier for an English-speaker to pronounce Tagalog words than for a Tagalog-speaker to pronounce English words."
   ]
  }
 ],
 "metadata": {
  "kernelspec": {
   "display_name": "Python 3",
   "language": "python",
   "name": "python3"
  },
  "language_info": {
   "codemirror_mode": {
    "name": "ipython",
    "version": 3
   },
   "file_extension": ".py",
   "mimetype": "text/x-python",
   "name": "python",
   "nbconvert_exporter": "python",
   "pygments_lexer": "ipython3",
   "version": "3.8.8"
  }
 },
 "nbformat": 4,
 "nbformat_minor": 5
}
