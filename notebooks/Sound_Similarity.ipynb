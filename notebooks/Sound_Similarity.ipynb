{
 "cells": [
  {
   "cell_type": "markdown",
   "id": "coordinate-transportation",
   "metadata": {},
   "source": [
    "# Sound Similarity\n",
    "\n",
    "In this notebook I create a tool to determine which languages sound most like one another. The results are interesting. If you'd like to read a condensed version, there's [a blog post](https://camtsmith.com/articles/2021-03/language-similarity).\n",
    "\n",
    "\n",
    "## Preliminaries\n",
    "\n",
    "Phonemes are the sounds that occur in a language. For instance, /kʰ/ is the first sound in the English word _king_, and /ŋ/ is the sound of _ng_. [The International Phonetic Alphabet](https://en.wikipedia.org/wiki/International_Phonetic_Alphabet) is the system that linguists use to transcribe the sounds of words - it lets us escape all the messiness of a particular language's spelling rules. In IPA, we'd transcribe the word \"king\" as /kʰɪŋ/. As you may have already noticed, linguists put IPA transcriptions inside of forward /slæʃɪz/.\n",
    "\n",
    "You can compare the sounds in different languages by simply counting which phonemes overlap. This is one of the methods that I employ below. However, when you look at the consonant chart in the IPA, you'll realize that just like words can be broken down into individual speech sounds, speech sounds themselves can be defined as combinations of a _place of articulation_ and a _manner of articulation_. For instance, the sound /kʰ/ is a _velar plosive_ - your tongue makes contact with the __velum__ in your mouth, and the sound __explodes__ outwards -- place of articulation: velar; manner of articulation: plosive. Speech sounds also have other attributes, like voicing (whether your vocal cords vibrate) - /kʰ/ is voiceless, but /g/ is its voiced counterpart. In fact, there are 38 phoneme features tracked by phoible, and I make use of them all.\n",
    "\n",
    "What this means is that in addition to treating phonemes discretely, we can also break them down into their constituent attributes to get a more fine-grained measure of similarity. For instance /kʰ/ is more similar to /k/ than to /m/ (a bilabial nasal sound). I use both strategies when developing metrics.  I'll experimenting with a _vector space model_ where I use all of these features.\n",
    "\n",
    "All the data I'm using is from [Phoible](https://phoible.org/), so you can head over there and thank them 😃\n",
    "\n",
    "In this notebook, I'll first acquire some data and explore it. Then I'll experiment with some similarity metrics. Then I'll choose a metric and perform some evaluations on it. Finally, I'll wrap everything up and talk about what sound similarity tells us about the English language."
   ]
  },
  {
   "cell_type": "markdown",
   "id": "clinical-floor",
   "metadata": {},
   "source": [
    "## Data Acquisition\n",
    "\n",
    "In this section, I download the Phoible dataset and get it into a format that's easy to work with. I then load it into a dataframe to show you what the data looks like."
   ]
  },
  {
   "cell_type": "code",
   "execution_count": 1,
   "id": "outside-combination",
   "metadata": {},
   "outputs": [
    {
     "name": "stdout",
     "output_type": "stream",
     "text": [
      "  % Total    % Received % Xferd  Average Speed   Time    Time     Time  Current\n",
      "                                 Dload  Upload   Total   Spent    Left  Speed\n",
      "100 23.0M  100 23.0M    0     0  9132k      0  0:00:02  0:00:02 --:--:-- 9132k\n"
     ]
    }
   ],
   "source": [
    "! curl https://raw.githubusercontent.com/phoible/dev/master/data/phoible.csv > phoible.csv"
   ]
  },
  {
   "cell_type": "code",
   "execution_count": 2,
   "id": "banned-chapter",
   "metadata": {},
   "outputs": [],
   "source": [
    "! mv phoible.csv ../data"
   ]
  },
  {
   "cell_type": "code",
   "execution_count": 3,
   "id": "nasty-status",
   "metadata": {},
   "outputs": [],
   "source": [
    "import pandas as pd"
   ]
  },
  {
   "cell_type": "code",
   "execution_count": 4,
   "id": "behind-halloween",
   "metadata": {},
   "outputs": [
    {
     "name": "stderr",
     "output_type": "stream",
     "text": [
      "/Users/cameronsmith/anaconda3/envs/notebooks/lib/python3.8/site-packages/IPython/core/interactiveshell.py:3165: DtypeWarning: Columns (4,7,8,11) have mixed types.Specify dtype option on import or set low_memory=False.\n",
      "  has_raised = await self.run_ast_nodes(code_ast.body, cell_name,\n"
     ]
    }
   ],
   "source": [
    "df = pd.read_csv(\"../data/phoible.csv\")"
   ]
  },
  {
   "cell_type": "code",
   "execution_count": 5,
   "id": "otherwise-dakota",
   "metadata": {},
   "outputs": [
    {
     "data": {
      "text/html": [
       "<div>\n",
       "<style scoped>\n",
       "    .dataframe tbody tr th:only-of-type {\n",
       "        vertical-align: middle;\n",
       "    }\n",
       "\n",
       "    .dataframe tbody tr th {\n",
       "        vertical-align: top;\n",
       "    }\n",
       "\n",
       "    .dataframe thead th {\n",
       "        text-align: right;\n",
       "    }\n",
       "</style>\n",
       "<table border=\"1\" class=\"dataframe\">\n",
       "  <thead>\n",
       "    <tr style=\"text-align: right;\">\n",
       "      <th></th>\n",
       "      <th>InventoryID</th>\n",
       "      <th>Glottocode</th>\n",
       "      <th>ISO6393</th>\n",
       "      <th>LanguageName</th>\n",
       "      <th>SpecificDialect</th>\n",
       "      <th>GlyphID</th>\n",
       "      <th>Phoneme</th>\n",
       "      <th>Allophones</th>\n",
       "      <th>Marginal</th>\n",
       "      <th>SegmentClass</th>\n",
       "      <th>...</th>\n",
       "      <th>retractedTongueRoot</th>\n",
       "      <th>advancedTongueRoot</th>\n",
       "      <th>periodicGlottalSource</th>\n",
       "      <th>epilaryngealSource</th>\n",
       "      <th>spreadGlottis</th>\n",
       "      <th>constrictedGlottis</th>\n",
       "      <th>fortis</th>\n",
       "      <th>raisedLarynxEjective</th>\n",
       "      <th>loweredLarynxImplosive</th>\n",
       "      <th>click</th>\n",
       "    </tr>\n",
       "  </thead>\n",
       "  <tbody>\n",
       "    <tr>\n",
       "      <th>0</th>\n",
       "      <td>1</td>\n",
       "      <td>kore1280</td>\n",
       "      <td>kor</td>\n",
       "      <td>Korean</td>\n",
       "      <td>NaN</td>\n",
       "      <td>0068</td>\n",
       "      <td>h</td>\n",
       "      <td>ç h ɦ</td>\n",
       "      <td>NaN</td>\n",
       "      <td>consonant</td>\n",
       "      <td>...</td>\n",
       "      <td>0</td>\n",
       "      <td>0</td>\n",
       "      <td>-</td>\n",
       "      <td>-</td>\n",
       "      <td>+</td>\n",
       "      <td>-</td>\n",
       "      <td>-</td>\n",
       "      <td>-</td>\n",
       "      <td>-</td>\n",
       "      <td>-</td>\n",
       "    </tr>\n",
       "    <tr>\n",
       "      <th>1</th>\n",
       "      <td>1</td>\n",
       "      <td>kore1280</td>\n",
       "      <td>kor</td>\n",
       "      <td>Korean</td>\n",
       "      <td>NaN</td>\n",
       "      <td>006A</td>\n",
       "      <td>j</td>\n",
       "      <td>j</td>\n",
       "      <td>NaN</td>\n",
       "      <td>consonant</td>\n",
       "      <td>...</td>\n",
       "      <td>0</td>\n",
       "      <td>0</td>\n",
       "      <td>+</td>\n",
       "      <td>-</td>\n",
       "      <td>-</td>\n",
       "      <td>-</td>\n",
       "      <td>-</td>\n",
       "      <td>-</td>\n",
       "      <td>-</td>\n",
       "      <td>-</td>\n",
       "    </tr>\n",
       "    <tr>\n",
       "      <th>2</th>\n",
       "      <td>1</td>\n",
       "      <td>kore1280</td>\n",
       "      <td>kor</td>\n",
       "      <td>Korean</td>\n",
       "      <td>NaN</td>\n",
       "      <td>006B</td>\n",
       "      <td>k</td>\n",
       "      <td>k̚ ɡ k</td>\n",
       "      <td>NaN</td>\n",
       "      <td>consonant</td>\n",
       "      <td>...</td>\n",
       "      <td>0</td>\n",
       "      <td>0</td>\n",
       "      <td>-</td>\n",
       "      <td>-</td>\n",
       "      <td>-</td>\n",
       "      <td>-</td>\n",
       "      <td>-</td>\n",
       "      <td>-</td>\n",
       "      <td>-</td>\n",
       "      <td>-</td>\n",
       "    </tr>\n",
       "    <tr>\n",
       "      <th>3</th>\n",
       "      <td>1</td>\n",
       "      <td>kore1280</td>\n",
       "      <td>kor</td>\n",
       "      <td>Korean</td>\n",
       "      <td>NaN</td>\n",
       "      <td>006B+02B0</td>\n",
       "      <td>kʰ</td>\n",
       "      <td>kʰ</td>\n",
       "      <td>NaN</td>\n",
       "      <td>consonant</td>\n",
       "      <td>...</td>\n",
       "      <td>0</td>\n",
       "      <td>0</td>\n",
       "      <td>-</td>\n",
       "      <td>-</td>\n",
       "      <td>+</td>\n",
       "      <td>-</td>\n",
       "      <td>-</td>\n",
       "      <td>-</td>\n",
       "      <td>-</td>\n",
       "      <td>-</td>\n",
       "    </tr>\n",
       "    <tr>\n",
       "      <th>4</th>\n",
       "      <td>1</td>\n",
       "      <td>kore1280</td>\n",
       "      <td>kor</td>\n",
       "      <td>Korean</td>\n",
       "      <td>NaN</td>\n",
       "      <td>006B+02C0</td>\n",
       "      <td>kˀ</td>\n",
       "      <td>kˀ</td>\n",
       "      <td>NaN</td>\n",
       "      <td>consonant</td>\n",
       "      <td>...</td>\n",
       "      <td>0</td>\n",
       "      <td>0</td>\n",
       "      <td>-</td>\n",
       "      <td>-</td>\n",
       "      <td>-</td>\n",
       "      <td>+</td>\n",
       "      <td>-</td>\n",
       "      <td>-</td>\n",
       "      <td>-</td>\n",
       "      <td>-</td>\n",
       "    </tr>\n",
       "  </tbody>\n",
       "</table>\n",
       "<p>5 rows × 48 columns</p>\n",
       "</div>"
      ],
      "text/plain": [
       "   InventoryID Glottocode ISO6393 LanguageName SpecificDialect    GlyphID  \\\n",
       "0            1   kore1280     kor       Korean             NaN       0068   \n",
       "1            1   kore1280     kor       Korean             NaN       006A   \n",
       "2            1   kore1280     kor       Korean             NaN       006B   \n",
       "3            1   kore1280     kor       Korean             NaN  006B+02B0   \n",
       "4            1   kore1280     kor       Korean             NaN  006B+02C0   \n",
       "\n",
       "  Phoneme Allophones Marginal SegmentClass  ... retractedTongueRoot  \\\n",
       "0       h      ç h ɦ      NaN    consonant  ...                   0   \n",
       "1       j          j      NaN    consonant  ...                   0   \n",
       "2       k     k̚ ɡ k      NaN    consonant  ...                   0   \n",
       "3      kʰ         kʰ      NaN    consonant  ...                   0   \n",
       "4      kˀ         kˀ      NaN    consonant  ...                   0   \n",
       "\n",
       "  advancedTongueRoot periodicGlottalSource epilaryngealSource spreadGlottis  \\\n",
       "0                  0                     -                  -             +   \n",
       "1                  0                     +                  -             -   \n",
       "2                  0                     -                  -             -   \n",
       "3                  0                     -                  -             +   \n",
       "4                  0                     -                  -             -   \n",
       "\n",
       "  constrictedGlottis fortis raisedLarynxEjective loweredLarynxImplosive click  \n",
       "0                  -      -                    -                      -     -  \n",
       "1                  -      -                    -                      -     -  \n",
       "2                  -      -                    -                      -     -  \n",
       "3                  -      -                    -                      -     -  \n",
       "4                  +      -                    -                      -     -  \n",
       "\n",
       "[5 rows x 48 columns]"
      ]
     },
     "execution_count": 5,
     "metadata": {},
     "output_type": "execute_result"
    }
   ],
   "source": [
    "df.head()"
   ]
  },
  {
   "cell_type": "markdown",
   "id": "legitimate-mainstream",
   "metadata": {},
   "source": [
    "## Data Exploration\n",
    "\n",
    "In this section I'm going to look at the overall distribution of language features and answer some basic questions: which languages have the largest phoneme inventories? Which languages are the most consonant-heavy? etc."
   ]
  },
  {
   "cell_type": "code",
   "execution_count": 6,
   "id": "studied-antibody",
   "metadata": {},
   "outputs": [
    {
     "data": {
      "text/plain": [
       "Index(['InventoryID', 'Glottocode', 'ISO6393', 'LanguageName',\n",
       "       'SpecificDialect', 'GlyphID', 'Phoneme', 'Allophones', 'Marginal',\n",
       "       'SegmentClass', 'Source', 'tone', 'stress', 'syllabic', 'short', 'long',\n",
       "       'consonantal', 'sonorant', 'continuant', 'delayedRelease',\n",
       "       'approximant', 'tap', 'trill', 'nasal', 'lateral', 'labial', 'round',\n",
       "       'labiodental', 'coronal', 'anterior', 'distributed', 'strident',\n",
       "       'dorsal', 'high', 'low', 'front', 'back', 'tense',\n",
       "       'retractedTongueRoot', 'advancedTongueRoot', 'periodicGlottalSource',\n",
       "       'epilaryngealSource', 'spreadGlottis', 'constrictedGlottis', 'fortis',\n",
       "       'raisedLarynxEjective', 'loweredLarynxImplosive', 'click'],\n",
       "      dtype='object')"
      ]
     },
     "execution_count": 6,
     "metadata": {},
     "output_type": "execute_result"
    }
   ],
   "source": [
    "# All the features from SegmentClass onwards (except Source) are phoneme- (segment) specific features.\n",
    "df.columns"
   ]
  },
  {
   "cell_type": "code",
   "execution_count": 7,
   "id": "commercial-blink",
   "metadata": {},
   "outputs": [],
   "source": [
    "# Get the data into SQL format so it's easier to run queries against.\n",
    "from sqlalchemy import create_engine\n",
    "\n",
    "engine = create_engine('sqlite://', echo=False)\n",
    "df.to_sql('phoible', con=engine)"
   ]
  },
  {
   "cell_type": "code",
   "execution_count": 8,
   "id": "funky-theorem",
   "metadata": {},
   "outputs": [
    {
     "name": "stdout",
     "output_type": "stream",
     "text": [
      "The average language has 34.9 phonemes\n"
     ]
    }
   ],
   "source": [
    "# Group by InventoryID, LanguageName because LanguageName is not unique:\n",
    "# some languages have dialects: `SpecificDialect` column.\n",
    "res = engine.execute(\"\"\"\n",
    "               SELECT AVG(cnt) FROM (SELECT LanguageName, COUNT(*) AS cnt\n",
    "               FROM phoible\n",
    "               GROUP BY InventoryID, LanguageName)\n",
    "               \"\"\"\n",
    "              ).fetchall()\n",
    "\n",
    "print(f\"The average language has {res[0][0]:.1f} phonemes\")"
   ]
  },
  {
   "cell_type": "code",
   "execution_count": 9,
   "id": "structural-arbor",
   "metadata": {},
   "outputs": [
    {
     "name": "stdout",
     "output_type": "stream",
     "text": [
      "The languages with the greatest number of phonemes are:\n"
     ]
    },
    {
     "data": {
      "text/plain": [
       "[('!Xóõ', 161),\n",
       " ('!XU', 141),\n",
       " ('Soghpo Tibetan', 133),\n",
       " ('Kildin Saami', 128),\n",
       " ('!Xun', 120),\n",
       " ('Mbembe', 116),\n",
       " ('Nangchenpa Tibetan', 96),\n",
       " ('Lezgian', 96),\n",
       " ('Rigwe', 95),\n",
       " ('Hindi-Urdu', 94)]"
      ]
     },
     "execution_count": 9,
     "metadata": {},
     "output_type": "execute_result"
    }
   ],
   "source": [
    "res = engine.execute(\"\"\"\n",
    "               SELECT LanguageName, COUNT(*) AS cnt\n",
    "               FROM phoible\n",
    "               GROUP BY InventoryID, LanguageName\n",
    "               ORDER BY cnt DESC\n",
    "               \"\"\"\n",
    "              ).fetchall()\n",
    "\n",
    "print(f\"The languages with the greatest number of phonemes are:\")\n",
    "res[:10]"
   ]
  },
  {
   "cell_type": "code",
   "execution_count": 10,
   "id": "friendly-hypothetical",
   "metadata": {},
   "outputs": [
    {
     "name": "stdout",
     "output_type": "stream",
     "text": [
      "The languages with the smallest number of phonemes are:\n"
     ]
    },
    {
     "data": {
      "text/plain": [
       "[('Carib', 15),\n",
       " ('Carib', 15),\n",
       " ('RORO', 14),\n",
       " ('TAORIPI', 14),\n",
       " ('Abau', 14),\n",
       " ('HAWAIIAN', 13),\n",
       " ('NASIOI', 13),\n",
       " ('PIRAHA', 11),\n",
       " ('ROTOKAS', 11),\n",
       " ('Pirahã', 11)]"
      ]
     },
     "execution_count": 10,
     "metadata": {},
     "output_type": "execute_result"
    }
   ],
   "source": [
    "print(f\"The languages with the smallest number of phonemes are:\")\n",
    "res[-10:]"
   ]
  },
  {
   "cell_type": "code",
   "execution_count": 11,
   "id": "talented-israeli",
   "metadata": {},
   "outputs": [
    {
     "name": "stdout",
     "output_type": "stream",
     "text": [
      "Most languages have around 20-50 phonemes, though there are a few with a lot more\n"
     ]
    },
    {
     "data": {
      "image/png": "[encoded data removed]",
      "text/plain": [
       "<Figure size 432x288 with 1 Axes>"
      ]
     },
     "metadata": {
      "needs_background": "light"
     },
     "output_type": "display_data"
    }
   ],
   "source": [
    "# Let's graph it\n",
    "import seaborn as sns\n",
    "import matplotlib.pyplot as plt\n",
    "\n",
    "plt.xlabel('# of phonemes', fontsize=16)\n",
    "plt.ylabel('# of languages', fontsize=16)\n",
    "\n",
    "sns.histplot(data=[i for _, i in res], bins=50, element=\"poly\")\n",
    "print(\"Most languages have around 20-50 phonemes, though there are a few with a lot more\")"
   ]
  },
  {
   "cell_type": "code",
   "execution_count": 12,
   "id": "alternative-preliminary",
   "metadata": {},
   "outputs": [
    {
     "name": "stdout",
     "output_type": "stream",
     "text": [
      "The languages with the greatest number of vowels are:\n"
     ]
    },
    {
     "data": {
      "text/plain": [
       "[('So', 50),\n",
       " ('Elfdalian', 50),\n",
       " ('Danish', 49),\n",
       " ('Scottish Gaelic', 49),\n",
       " ('!XU', 46),\n",
       " ('PARAUK', 43),\n",
       " ('Dan', 40),\n",
       " ('Thok Reel', 40),\n",
       " ('Karimojong', 39),\n",
       " ('Luanyjang Dinka', 39)]"
      ]
     },
     "execution_count": 12,
     "metadata": {},
     "output_type": "execute_result"
    }
   ],
   "source": [
    "res = engine.execute(\"\"\"\n",
    "               SELECT LanguageName, COUNT(*) AS cnt\n",
    "               FROM phoible\n",
    "               WHERE SegmentClass = 'vowel'\n",
    "               GROUP BY InventoryID, LanguageName\n",
    "               ORDER BY cnt DESC\n",
    "               \"\"\"\n",
    "              ).fetchall()\n",
    "\n",
    "print(f\"The languages with the greatest number of vowels are:\")\n",
    "res[:10]"
   ]
  },
  {
   "cell_type": "code",
   "execution_count": 13,
   "id": "rubber-celebrity",
   "metadata": {},
   "outputs": [
    {
     "name": "stdout",
     "output_type": "stream",
     "text": [
      "The languages with the fewest number of vowels are:\n"
     ]
    },
    {
     "data": {
      "text/plain": [
       "[('Darkinyung', 3),\n",
       " ('Dharuk', 3),\n",
       " ('Eora', 3),\n",
       " ('Awabakal', 3),\n",
       " ('Nganyaywana', 3),\n",
       " ('Ngarigu', 3),\n",
       " ('Tableland Lamalama', 3),\n",
       " ('Zulgo', 2),\n",
       " ('Cuvok', 2),\n",
       " ('Buwal', 2)]"
      ]
     },
     "execution_count": 13,
     "metadata": {},
     "output_type": "execute_result"
    }
   ],
   "source": [
    "print(f\"The languages with the fewest number of vowels are:\")\n",
    "res[-10:]"
   ]
  },
  {
   "cell_type": "code",
   "execution_count": 14,
   "id": "asian-commander",
   "metadata": {},
   "outputs": [
    {
     "name": "stdout",
     "output_type": "stream",
     "text": [
      "The languages with the highest ratio of consonants to vowels are:\n"
     ]
    },
    {
     "data": {
      "text/plain": [
       "[('Tashlhiyt Berber', 23.666666666666668),\n",
       " ('Abkhaz', 22.333333333333332),\n",
       " ('Abkhaz', 19.666666666666668),\n",
       " ('Buwal', 19.0),\n",
       " ('Adyghe', 18.666666666666668),\n",
       " ('Moroccan Arabic', 18.5),\n",
       " ('Haida', 15.666666666666666),\n",
       " ('HAIDA', 15.333333333333334),\n",
       " ('Zulgo', 14.5),\n",
       " ('Cuvok', 13.5)]"
      ]
     },
     "execution_count": 14,
     "metadata": {},
     "output_type": "execute_result"
    }
   ],
   "source": [
    "res = engine.execute(\"\"\"\n",
    "               SELECT x.LanguageName, y.cons_cnt / CAST(x.vowel_cnt AS float) AS ratio FROM\n",
    "               (SELECT InventoryID, LanguageName, COUNT(*) AS vowel_cnt\n",
    "               FROM phoible x\n",
    "               WHERE SegmentClass = 'vowel'\n",
    "               GROUP BY InventoryID, LanguageName) AS x\n",
    "               JOIN\n",
    "               (SELECT InventoryID, LanguageName, COUNT(*) AS cons_cnt\n",
    "               FROM phoible x\n",
    "               WHERE SegmentClass = 'consonant'\n",
    "               GROUP BY InventoryID, LanguageName) AS y\n",
    "               ON x.InventoryID = y.InventoryID\n",
    "               ORDER BY ratio DESC\n",
    "               \"\"\"\n",
    "              ).fetchall()\n",
    "\n",
    "print(f\"The languages with the highest ratio of consonants to vowels are:\")\n",
    "res[:10]"
   ]
  },
  {
   "cell_type": "code",
   "execution_count": 15,
   "id": "stupid-signature",
   "metadata": {},
   "outputs": [
    {
     "name": "stdout",
     "output_type": "stream",
     "text": [
      "The languages with the lowest ratio of consonants to vowels are:\n"
     ]
    },
    {
     "data": {
      "text/plain": [
       "[('Lama', 0.5151515151515151),\n",
       " ('Luanyjang Dinka', 0.5128205128205128),\n",
       " ('Thok Reel', 0.5),\n",
       " ('Sanömá of Kolulu', 0.47619047619047616),\n",
       " ('Binandere', 0.4583333333333333),\n",
       " ('Andoke', 0.4583333333333333),\n",
       " ('So', 0.44),\n",
       " ('Danish', 0.40816326530612246),\n",
       " ('Apinaye', 0.4),\n",
       " ('Krahô', 0.35294117647058826)]"
      ]
     },
     "execution_count": 15,
     "metadata": {},
     "output_type": "execute_result"
    }
   ],
   "source": [
    "print(f\"The languages with the lowest ratio of consonants to vowels are:\")\n",
    "res[-10:]"
   ]
  },
  {
   "cell_type": "code",
   "execution_count": 16,
   "id": "endangered-leeds",
   "metadata": {},
   "outputs": [
    {
     "name": "stdout",
     "output_type": "stream",
     "text": [
      "Most languages have 2 to 5 consonants per vowel\n"
     ]
    },
    {
     "data": {
      "image/png": "[encoded data removed]",
      "text/plain": [
       "<Figure size 432x288 with 1 Axes>"
      ]
     },
     "metadata": {
      "needs_background": "light"
     },
     "output_type": "display_data"
    }
   ],
   "source": [
    "plt.xlabel('consonant/vowel ratio', fontsize=16)\n",
    "plt.ylabel('# of languages', fontsize=16)\n",
    "\n",
    "sns.histplot(data=[i for _, i in res], bins=50, element=\"poly\")\n",
    "print(\"Most languages have 2 to 5 consonants per vowel\")"
   ]
  },
  {
   "cell_type": "code",
   "execution_count": 17,
   "id": "young-advice",
   "metadata": {},
   "outputs": [
    {
     "name": "stdout",
     "output_type": "stream",
     "text": [
      "These are some of the languages that have tones:\n"
     ]
    },
    {
     "data": {
      "text/plain": [
       "[('Burushaski',),\n",
       " ('Vietnamese',),\n",
       " ('Mandarin Chinese',),\n",
       " ('Wu',),\n",
       " ('Hakka',),\n",
       " ('Cantonese',),\n",
       " ('Yao',),\n",
       " ('Dafla',),\n",
       " ('Burmese',),\n",
       " ('Lahu',)]"
      ]
     },
     "execution_count": 17,
     "metadata": {},
     "output_type": "execute_result"
    }
   ],
   "source": [
    "# Which languages have tones?\n",
    "res = engine.execute(\"\"\"\n",
    "               SELECT DISTINCT(LanguageName)\n",
    "               FROM phoible\n",
    "               WHERE tone = '+'\n",
    "               \"\"\"\n",
    "              ).fetchall()\n",
    "\n",
    "print(\"These are some of the languages that have tones:\")\n",
    "res[:10]"
   ]
  },
  {
   "cell_type": "code",
   "execution_count": 18,
   "id": "exceptional-founder",
   "metadata": {},
   "outputs": [
    {
     "name": "stdout",
     "output_type": "stream",
     "text": [
      "These are some unusual languages that lack nasal sounds\n"
     ]
    },
    {
     "data": {
      "text/plain": [
       "[('LUSHOOTSEED', 0),\n",
       " ('PIRAHA', 0),\n",
       " ('QUILEUTE', 0),\n",
       " ('ROTOKAS', 0),\n",
       " ('Hup', 0),\n",
       " ('Tatuyo', 0),\n",
       " ('Xamtanga', 0),\n",
       " ('Pirahã', 0),\n",
       " ('Barasana-Eduria', 0),\n",
       " ('Kubeo', 0),\n",
       " ('Desano', 0),\n",
       " ('Máíhɨki', 0),\n",
       " ('Tatuyo', 0),\n",
       " ('Yurutí', 0),\n",
       " ('Pisamira', 0),\n",
       " ('Najdi Arabic', 0)]"
      ]
     },
     "execution_count": 18,
     "metadata": {},
     "output_type": "execute_result"
    }
   ],
   "source": [
    "# Which languages lack nasal sounds i.e. /n/, /m/?\n",
    "res = engine.execute(\"\"\"\n",
    "               SELECT x.LanguageName, SUM(x.nasal) AS num_nasals\n",
    "               FROM (SELECT InventoryID, LanguageName,\n",
    "               CASE WHEN nasal = '-' THEN 0 ELSE 1 END AS nasal\n",
    "               FROM phoible) AS x\n",
    "               GROUP BY InventoryID, x.LanguageName\n",
    "               ORDER BY num_nasals ASC\n",
    "               \"\"\"\n",
    "              ).fetchall()\n",
    "\n",
    "print(\"These are some unusual languages that lack nasal sounds\")\n",
    "res[:16]\n",
    "\n",
    "# The final language, Najdi Arabic, definitely contains nasal sounds - so this might be an error!\n",
    "# Error: https://github.com/phoible/dev/issues/332"
   ]
  },
  {
   "cell_type": "markdown",
   "id": "large-lunch",
   "metadata": {},
   "source": [
    "## Language Comparison\n",
    "\n",
    "In this section, I'm going to get the data into a format that's useful for doing comparisons. There are several ways to do this:\n",
    "\n",
    "- Map each language to a list of all its phonemes, i.e. `\"English\": [\"a\", \"e\", \"i\", \"b\", ...]`\n",
    "- Map each language to a vector representing the presence of absence of a given phoneme, i.e. `\"English\": [0, 0, 1, 0, ...]`. This binary vector is equal to the length of all the phonemes in the database.\n",
    "- Map each language to a vector of vectors, where each sub-vector are the features of each phoneme, i.e `English: [[0, 1, 1, ...], [1, 1, 0, ...], ...]`\n",
    "\n",
    "Each of these representations allow for different types of distance metrics, so I'll be trying out lots of measurement types. I took inspiration from [this paper](https://www.cv-foundation.org/openaccess/content_cvpr_2014/papers/Gardner_Measuring_Distance_Between_2014_CVPR_paper.pdf) about measuring the distances between sets.\n",
    "\n",
    "Also, it's important to keep in mind the complexity of these different distance metrics. In order to determine the closest pair of languages, it's necessary to compute the distance between every pair of languages, which is $n^2$ computations. Furthermore, the distance metric itself has its own complexity, which I'll call $d$. That means the complexity of generating all the paired distances between all the languages is actually $dn^2$, which might be large. Luckily, we can ask specific questions instead, like _what is the distance between English and Arabic?_ which has a complexity of just $d$. I'll be using American English for all of my comparisons."
   ]
  },
  {
   "cell_type": "markdown",
   "id": "portable-antenna",
   "metadata": {},
   "source": [
    "### Overlap Coefficient\n",
    "\n",
    "The [overlap coefficient](https://en.wikipedia.org/wiki/Overlap_coefficient) is a useful measure of similarity, but is limited when sets are different in size. For instance, a language like _Pirahã_ will be ranked as closer to English than it should be, simply because Pirahã has very few phonemes (and those phonemes happen to be a subset of English's phonemes). In other words, languages with small phoneme inventories like Pirahã will be closer to _every_ other language, so this metric is also measuring \"smallness\" of a language's phoneme inventory, which we might not care about.\n",
    "\n",
    "On the other hand, the overlap coefficient might be useful if you consider it _asymmetrically_ - an English speaker who wants to learn Pirahã should have an easier time learning the phonemes than an English speaker learning Thai. However, distance metrics are always symmetrical, so the distance between English and Pirahã is the same as the distance from Pirahã to English - so this metric is only useful when you consider going from a large-inventory language to a small-inventory language, which requires additional logic outside the metric itself.\n",
    "\n",
    "__Note__: I subtracted the overlap coefficient from `1` in order to convert this to distance: larger values equal greater distance."
   ]
  },
  {
   "cell_type": "code",
   "execution_count": 19,
   "id": "mexican-money",
   "metadata": {},
   "outputs": [
    {
     "name": "stdout",
     "output_type": "stream",
     "text": [
      "['b', 'd', 'd̠ʒ', 'f', 'h', 'j', 'kʰ', 'l', 'm', 'n', 'pʰ', 's', 'tʰ', 't̠ʃ', 'v', 'w', 'z', 'ð', 'ŋ', 'ɡ', 'ɹ', 'ʃ', 'ʒ', 'θ', 'aɪ', 'aʊ', 'eɪ̯', 'iɪ', 'oʊ', 'uː', 'æ', 'ɑ', 'ɔɪ', 'ə', 'ɚː', 'ɛ', 'ɪ', 'ʊ', 'ʌ']\n"
     ]
    }
   ],
   "source": [
    "# Create mappings like \"English\": [\"a\", \"e\", \"i\", \"b\", ...]\n",
    "simple_mapping = engine.execute(\"\"\"\n",
    "               SELECT LanguageName, group_concat(Phoneme)\n",
    "               FROM phoible\n",
    "               GROUP BY InventoryID, LanguageName\n",
    "               \"\"\"\n",
    "              ).fetchall()\n",
    "\n",
    "# Turn this into a dict.\n",
    "# Warning: this uses LanguageName as the key, which is not unique\n",
    "# so if there two languages called Chinese, only one will make it into this dict\n",
    "simple_mapping = {k: v.split(\",\") for k, v in simple_mapping}\n",
    "\n",
    "# Show an example.\n",
    "print(simple_mapping[\"English (American)\"])"
   ]
  },
  {
   "cell_type": "code",
   "execution_count": 20,
   "id": "endless-dinner",
   "metadata": {},
   "outputs": [
    {
     "name": "stdout",
     "output_type": "stream",
     "text": [
      "There are 39 phonemes in American English\n"
     ]
    }
   ],
   "source": [
    "print(f\"There are {len(simple_mapping['English (American)'])} phonemes in American English\")"
   ]
  },
  {
   "cell_type": "code",
   "execution_count": 21,
   "id": "eleven-preparation",
   "metadata": {},
   "outputs": [
    {
     "name": "stdout",
     "output_type": "stream",
     "text": [
      "The overlap distance between English and German is 0.410\n",
      "The overlap distance between English and Thai is 0.590\n",
      "The overlap distance between English and Pirahã is 0.636\n"
     ]
    }
   ],
   "source": [
    "# Define the overlap distance between two sets.\n",
    "def overlap_distance(a, b):\n",
    "    a, b = set(a), set(b)\n",
    "    \n",
    "    return 1 - len(a.intersection(b)) / min([len(a), len(b)])\n",
    "\n",
    "\n",
    "# Calculate distances between some languages\n",
    "overlap_d_eng_pira = overlap_distance(simple_mapping[\"English (American)\"], simple_mapping[\"Pirahã\"])\n",
    "overlap_d_eng_germ = overlap_distance(simple_mapping[\"English (American)\"], simple_mapping[\"German\"])\n",
    "overlap_d_eng_thai = overlap_distance(simple_mapping[\"English (American)\"], simple_mapping[\"Thai\"])\n",
    "\n",
    "print(f\"The overlap distance between English and German is {overlap_d_eng_germ:.3f}\")\n",
    "print(f\"The overlap distance between English and Thai is {overlap_d_eng_thai:.3f}\")\n",
    "print(f\"The overlap distance between English and Pirahã is {overlap_d_eng_pira:.3f}\")"
   ]
  },
  {
   "cell_type": "code",
   "execution_count": 22,
   "id": "sunset-reality",
   "metadata": {},
   "outputs": [],
   "source": [
    "# Now let's find the overlap distance between English and every other language.\n",
    "overlap_distance_to_eng = [(overlap_distance(simple_mapping[\"English (American)\"], simple_mapping[lang]), lang) for lang in simple_mapping]"
   ]
  },
  {
   "cell_type": "code",
   "execution_count": 23,
   "id": "severe-closing",
   "metadata": {},
   "outputs": [
    {
     "data": {
      "text/plain": [
       "[(0.0, 'English (American)'),\n",
       " (0.1282051282051282, 'American English'),\n",
       " (0.28205128205128205, 'English (British)'),\n",
       " (0.2962962962962963, 'kwangari'),\n",
       " (0.3076923076923077, 'Burmese'),\n",
       " (0.3076923076923077, 'English'),\n",
       " (0.3076923076923077, 'English (Australian)'),\n",
       " (0.31034482758620685, 'Persian'),\n",
       " (0.3157894736842105, 'Cebuano'),\n",
       " (0.33333333333333337, 'Awtuw'),\n",
       " (0.3448275862068966, 'Hanga'),\n",
       " (0.3448275862068966, 'Farsi'),\n",
       " (0.34782608695652173, 'IVATAN'),\n",
       " (0.3571428571428571, 'diriku'),\n",
       " (0.36, 'kwezo'),\n",
       " (0.375, 'BANDJALANG'),\n",
       " (0.375, 'TUNICA'),\n",
       " (0.375, 'Daza'),\n",
       " (0.375, 'Ndamba'),\n",
       " (0.3783783783783784, 'Low German'),\n",
       " (0.3783783783783784, 'Scots'),\n",
       " (0.38095238095238093, 'Batak'),\n",
       " (0.38095238095238093, 'JOMANG'),\n",
       " (0.3846153846153846, 'KUNAMA'),\n",
       " (0.3846153846153846, 'Ngombale'),\n",
       " (0.3846153846153846, 'Salasca Quechua'),\n",
       " (0.3846153846153846, 'English (New Zealand)'),\n",
       " (0.3846153846153846, 'Welsh'),\n",
       " (0.3870967741935484, 'Sherbro'),\n",
       " (0.3870967741935484, 'Juhuri'),\n",
       " (0.3913043478260869, 'Tausug (Suluk)'),\n",
       " (0.3913043478260869, 'Tausug'),\n",
       " (0.39473684210526316, 'BASHKIR'),\n",
       " (0.39473684210526316, 'Northern Kurdish'),\n",
       " (0.4, 'Tunica'),\n",
       " (0.4, 'AMELE'),\n",
       " (0.4, 'ALAMBLAK'),\n",
       " (0.4, 'KERA'),\n",
       " (0.4, 'FARSI'),\n",
       " (0.4, 'Teda'),\n",
       " (0.4, 'Matbat'),\n",
       " (0.4, 'Belizean Creole'),\n",
       " (0.4, 'Boro'),\n",
       " (0.4, 'Hiligaynon'),\n",
       " (0.4, 'Standard Malay'),\n",
       " (0.4, 'Solon'),\n",
       " (0.40625, 'Lunda'),\n",
       " (0.40740740740740744, 'Toba-Batak'),\n",
       " (0.40909090909090906, 'Munukutuba'),\n",
       " (0.40909090909090906, 'Kedayan')]"
      ]
     },
     "execution_count": 23,
     "metadata": {},
     "output_type": "execute_result"
    }
   ],
   "source": [
    "# Show some of the closest languages to English\n",
    "sorted(overlap_distance_to_eng, key=lambda x: x[0])[:50]"
   ]
  },
  {
   "cell_type": "markdown",
   "id": "behind-ghost",
   "metadata": {},
   "source": [
    "The results returned by this algorithm aren't unreasonable: many of the top languages are other English dialects, as well as closely related languages like Scots and German. This is much better than random, but there are some unexpected languages like Burmese. I think we can use an even better distance metric, Jaccard distance, which I introduce in the next section."
   ]
  },
  {
   "cell_type": "markdown",
   "id": "arranged-northern",
   "metadata": {},
   "source": [
    "### Jaccard Distance\n",
    "\n",
    "A more generally applicable metric, which accounts for differing set sizes, is the [Jaccard Distance](https://en.wikipedia.org/wiki/Jaccard_index), aka intersection over union. I repeated the same examples below, except I changed the distance metric. Notice that _German_ is ranked as closest to English, which matches our intuition about closeness (Thai and Pirahã are not in the same [language family](https://en.wikipedia.org/wiki/Germanic_languages) that English and German belong to)."
   ]
  },
  {
   "cell_type": "code",
   "execution_count": 24,
   "id": "athletic-truck",
   "metadata": {},
   "outputs": [
    {
     "name": "stdout",
     "output_type": "stream",
     "text": [
      "The Jaccard distance between English and German is 0.589\n",
      "The Jaccard distance between English and Thai is 0.771\n",
      "The Jaccard distance between English and Pirahã is 0.913\n"
     ]
    }
   ],
   "source": [
    "# Define the Jaccard distance between two sets.\n",
    "def jaccard_distance(a, b):\n",
    "    a, b = set(a), set(b)\n",
    "    \n",
    "    return 1 - len(a.intersection(b)) / len(a.union(b))\n",
    "\n",
    "\n",
    "# Calculate distances between some languages\n",
    "jaccard_d_eng_pira = jaccard_distance(simple_mapping[\"English (American)\"], simple_mapping[\"Pirahã\"])\n",
    "jaccard_d_eng_germ = jaccard_distance(simple_mapping[\"English (American)\"], simple_mapping[\"German\"])\n",
    "jaccard_d_eng_thai = jaccard_distance(simple_mapping[\"English (American)\"], simple_mapping[\"Thai\"])\n",
    "\n",
    "print(f\"The Jaccard distance between English and German is {jaccard_d_eng_germ:.3f}\")\n",
    "print(f\"The Jaccard distance between English and Thai is {jaccard_d_eng_thai:.3f}\")\n",
    "print(f\"The Jaccard distance between English and Pirahã is {jaccard_d_eng_pira:.3f}\")"
   ]
  },
  {
   "cell_type": "code",
   "execution_count": 25,
   "id": "caring-andrew",
   "metadata": {},
   "outputs": [],
   "source": [
    "# Now let's find the jaccard distance between English and every other language.\n",
    "jaccard_distance_to_eng = [(jaccard_distance(simple_mapping[\"English (American)\"], simple_mapping[lang]), lang) for lang in simple_mapping]"
   ]
  },
  {
   "cell_type": "code",
   "execution_count": 26,
   "id": "swiss-spending",
   "metadata": {},
   "outputs": [
    {
     "data": {
      "text/plain": [
       "[(0.0, 'English (American)'),\n",
       " (0.2272727272727273, 'American English'),\n",
       " (0.43999999999999995, 'English (British)'),\n",
       " (0.4807692307692307, 'English'),\n",
       " (0.5178571428571428, 'English (Australian)'),\n",
       " (0.5660377358490566, 'Low German'),\n",
       " (0.5660377358490566, 'Scots'),\n",
       " (0.5740740740740741, 'BASHKIR'),\n",
       " (0.5740740740740741, 'Northern Kurdish'),\n",
       " (0.5833333333333333, 'Persian'),\n",
       " (0.5892857142857143, 'German'),\n",
       " (0.5909090909090908, 'Burmese'),\n",
       " (0.5957446808510638, 'kwangari'),\n",
       " (0.6, 'English (New Zealand)'),\n",
       " (0.6037735849056604, 'Teda'),\n",
       " (0.6037735849056604, 'Belizean Creole'),\n",
       " (0.6071428571428572, 'greek Thrace Xoraxane Romane'),\n",
       " (0.607843137254902, 'Daza'),\n",
       " (0.6122448979591837, 'Hanga'),\n",
       " (0.6122448979591837, 'Farsi'),\n",
       " (0.6190476190476191, 'Welsh'),\n",
       " (0.6226415094339622, 'Azerbaijani'),\n",
       " (0.625, 'KOHUMONO'),\n",
       " (0.625, 'Siwi'),\n",
       " (0.6271186440677966, 'Halbi'),\n",
       " (0.6274509803921569, 'Sherbro'),\n",
       " (0.6274509803921569, 'Juhuri'),\n",
       " (0.6296296296296297, 'Maltese'),\n",
       " (0.6296296296296297, 'Luo'),\n",
       " (0.6296296296296297, 'AMO'),\n",
       " (0.6296296296296297, 'Nubi'),\n",
       " (0.631578947368421, 'Hill Jarawa'),\n",
       " (0.6326530612244898, 'diriku'),\n",
       " (0.6346153846153846, 'Lunda'),\n",
       " (0.6363636363636364, 'Kirike'),\n",
       " (0.6379310344827587, 'Bangolan'),\n",
       " (0.6415094339622642, 'Jamaican Creole'),\n",
       " (0.6415094339622642, 'Kihungan'),\n",
       " (0.6428571428571428, 'Antiguan Creole'),\n",
       " (0.6440677966101696, 'Michif'),\n",
       " (0.6470588235294117, 'KERA'),\n",
       " (0.6470588235294117, 'FARSI'),\n",
       " (0.6470588235294117, 'Standard Malay'),\n",
       " (0.6491228070175439, 'Igede'),\n",
       " (0.6491228070175439, 'Ibani'),\n",
       " (0.6491228070175439, 'Argobba'),\n",
       " (0.6538461538461539, 'Rumanian'),\n",
       " (0.6538461538461539, 'Berom'),\n",
       " (0.6538461538461539, 'Indonesian'),\n",
       " (0.6545454545454545, 'Albanian')]"
      ]
     },
     "execution_count": 26,
     "metadata": {},
     "output_type": "execute_result"
    }
   ],
   "source": [
    "# Show some of the closest languages to English\n",
    "sorted(jaccard_distance_to_eng, key=lambda x: x[0])[:50]"
   ]
  },
  {
   "cell_type": "markdown",
   "id": "ceramic-tours",
   "metadata": {},
   "source": [
    "The results returned by this algorithm seem reasonable. The closest languages to \"English\" are other English dialects and German, a closely related language. Most of the other languages on the list make sense: they're English-based creoles, Western European languages, languages influenced by British colonization (Maltest), or other Indo-European languages. Some languages, however, seem out of place: there are many languages from the Niger-Congo family and some Austronesian languages. We'll see if the same kind of languages are returned by the other metrics."
   ]
  },
  {
   "cell_type": "markdown",
   "id": "stock-dutch",
   "metadata": {},
   "source": [
    "### Simple Matching Coefficient\n",
    "\n",
    "[The Simple Matching Coefficient](https://en.wikipedia.org/wiki/Simple_matching_coefficient) for two equal-length arrays is the number of matching elements divided by the length of the array. This only works for vectors that are equal length, so below I map each language to a binary vector that represents the presence or absence of a given phoneme.\n",
    "\n",
    "Because the average inventory size is 34.9 (see above) and the total number of phonemes is 3164 (see below), each binary vector will be sparse (mostly zeros), meaning that distance measures will all be _close_ to each other. However, even though the numbers themselves are close, distance can still be ranked, and the total differences can always be scaled.\n",
    "\n",
    "I subtracted this coefficient from `1` to turn it into a distance metric.\n",
    "\n",
    "Note: [Hamming Distance](https://en.wikipedia.org/wiki/Hamming_distance) is the same as the simple matching coefficient except is defined between equal-length strings instead of equal-length arrays."
   ]
  },
  {
   "cell_type": "code",
   "execution_count": 27,
   "id": "distinct-kinase",
   "metadata": {},
   "outputs": [
    {
     "name": "stdout",
     "output_type": "stream",
     "text": [
      "Here is what some of the phoneme data looks like: ['h', 'j', 'k', 'kʰ', 'kˀ', 'l', 'm', 'n', 'p', 'pʰ']\n",
      "There are 3164 phonemes total\n"
     ]
    }
   ],
   "source": [
    "phoneme_list = engine.execute(\"\"\"\n",
    "                SELECT GROUP_CONCAT(DISTINCT(Phoneme)) FROM phoible\n",
    "               \"\"\"\n",
    "              ).fetchall()\n",
    "\n",
    "# List of distinct phonemes\n",
    "total_phoneme_inventory = list(phoneme_list[0])[0].split(\",\")\n",
    "print(f\"Here is what some of the phoneme data looks like: {total_phoneme_inventory[:10]}\")\n",
    "print(f\"There are {len(total_phoneme_inventory)} phonemes total\")"
   ]
  },
  {
   "cell_type": "code",
   "execution_count": 28,
   "id": "productive-tyler",
   "metadata": {},
   "outputs": [],
   "source": [
    "# Create mapping like \"English\": [1, 1, 0, 1, ...]\n",
    "def create_binary_encoding(language_phoneme_inventory, total_phoneme_inventory=total_phoneme_inventory):\n",
    "    return [1 if phone in language_phoneme_inventory else 0 for phone in total_phoneme_inventory]\n",
    "\n",
    "\n",
    "binary_encoding = {k: create_binary_encoding(v) for k, v in simple_mapping.items()}"
   ]
  },
  {
   "cell_type": "code",
   "execution_count": 29,
   "id": "permanent-faith",
   "metadata": {},
   "outputs": [
    {
     "data": {
      "text/plain": [
       "[1, 1, 0, 1, 0, 1, 1, 1, 0, 1]"
      ]
     },
     "execution_count": 29,
     "metadata": {},
     "output_type": "execute_result"
    }
   ],
   "source": [
    "# Show what part of the binary encoding for English looks like\n",
    "binary_encoding[\"English (American)\"][:10]"
   ]
  },
  {
   "cell_type": "code",
   "execution_count": 30,
   "id": "exact-andorra",
   "metadata": {},
   "outputs": [
    {
     "data": {
      "text/plain": [
       "39"
      ]
     },
     "execution_count": 30,
     "metadata": {},
     "output_type": "execute_result"
    }
   ],
   "source": [
    "# Confirm the number of phonemes in American English\n",
    "sum(binary_encoding[\"English (American)\"])"
   ]
  },
  {
   "cell_type": "code",
   "execution_count": 31,
   "id": "affected-anxiety",
   "metadata": {},
   "outputs": [
    {
     "name": "stdout",
     "output_type": "stream",
     "text": [
      "The Simple matching coefficient for English and German is 0.010\n",
      "The Simple matching coefficient for English and Thai is 0.017\n",
      "The Simple matching coefficient for English and Pirahã is 0.013\n"
     ]
    }
   ],
   "source": [
    "# Define the simple matching coefficient between two equal-length vectors\n",
    "def simple_matching_coef(a, b):\n",
    "    len_overlap = len([1 for i, j in zip(a, b) if i == j])\n",
    "    \n",
    "    return 1 - len_overlap / len(a)\n",
    "\n",
    "\n",
    "# Calculate distances between some languages\n",
    "simple_matching_d_eng_pira = simple_matching_coef(binary_encoding[\"English (American)\"], binary_encoding[\"Pirahã\"])\n",
    "simple_matching_d_eng_germ = simple_matching_coef(binary_encoding[\"English (American)\"], binary_encoding[\"German\"])\n",
    "simple_matching_d_eng_thai = simple_matching_coef(binary_encoding[\"English (American)\"], binary_encoding[\"Thai\"])\n",
    "\n",
    "print(f\"The Simple matching coefficient for English and German is {simple_matching_d_eng_germ:.3f}\")\n",
    "print(f\"The Simple matching coefficient for English and Thai is {simple_matching_d_eng_thai:.3f}\")\n",
    "print(f\"The Simple matching coefficient for English and Pirahã is {simple_matching_d_eng_pira:.3f}\")"
   ]
  },
  {
   "cell_type": "code",
   "execution_count": 32,
   "id": "regulated-myrtle",
   "metadata": {},
   "outputs": [],
   "source": [
    "# Now let's find the matching distance between English and every other language.\n",
    "simple_distance_to_eng = [(simple_matching_coef(simple_mapping[\"English (American)\"], simple_mapping[lang]), lang) for lang in simple_mapping]"
   ]
  },
  {
   "cell_type": "code",
   "execution_count": 33,
   "id": "compatible-stable",
   "metadata": {},
   "outputs": [
    {
     "data": {
      "text/plain": [
       "[(0.0, 'English (American)'),\n",
       " (0.15384615384615385, 'American English'),\n",
       " (0.3589743589743589, 'English (British)'),\n",
       " (0.4358974358974359, 'English (New Zealand)'),\n",
       " (0.6153846153846154, 'Bassa'),\n",
       " (0.6153846153846154, 'Belizean Creole'),\n",
       " (0.6153846153846154, 'Bakhtiari'),\n",
       " (0.6153846153846154, 'Jèrriais'),\n",
       " (0.641025641025641, \"Fe'efe'fe\"),\n",
       " (0.641025641025641, 'Lunda'),\n",
       " (0.641025641025641, 'Jamaican Creole'),\n",
       " (0.641025641025641, 'Sisumbwa'),\n",
       " (0.641025641025641, 'Kera'),\n",
       " (0.641025641025641, 'Juhuri'),\n",
       " (0.6666666666666667, 'English'),\n",
       " (0.6666666666666667, 'limbum (central)'),\n",
       " (0.6666666666666667, 'limbum (northern)'),\n",
       " (0.6666666666666667, 'Pichi'),\n",
       " (0.6666666666666667, 'Ndamba'),\n",
       " (0.6666666666666667, 'Minangkabau'),\n",
       " (0.6923076923076923, 'KANURI'),\n",
       " (0.6923076923076923, 'Adja'),\n",
       " (0.6923076923076923, 'Minyanka'),\n",
       " (0.6923076923076923, 'Indonesian'),\n",
       " (0.6923076923076923, 'Sherbro'),\n",
       " (0.717948717948718, 'Angas'),\n",
       " (0.717948717948718, 'Persian'),\n",
       " (0.717948717948718, 'BAMBARA'),\n",
       " (0.717948717948718, 'MUMUYE'),\n",
       " (0.717948717948718, 'Bambara'),\n",
       " (0.717948717948718, 'Bozo'),\n",
       " (0.717948717948718, 'Daza'),\n",
       " (0.717948717948718, 'Dogon'),\n",
       " (0.717948717948718, 'Ifɛ̀'),\n",
       " (0.717948717948718, 'Kasɩm'),\n",
       " (0.717948717948718, 'Nʋni'),\n",
       " (0.717948717948718, 'Songhoy'),\n",
       " (0.717948717948718, 'Soninke'),\n",
       " (0.717948717948718, 'Haya'),\n",
       " (0.717948717948718, 'Karipuna Creole'),\n",
       " (0.717948717948718, 'Mungaka'),\n",
       " (0.717948717948718, 'Ternate'),\n",
       " (0.717948717948718, 'Kalabari; Kirike; Kalabari-Ijo'),\n",
       " (0.717948717948718, 'diriku'),\n",
       " (0.717948717948718, 'Songhay, Koyraboro Senni'),\n",
       " (0.717948717948718, 'Anyi'),\n",
       " (0.717948717948718, 'Kofyar'),\n",
       " (0.717948717948718, 'Lengola'),\n",
       " (0.717948717948718, 'Lusaamia'),\n",
       " (0.717948717948718, 'Dompo')]"
      ]
     },
     "execution_count": 33,
     "metadata": {},
     "output_type": "execute_result"
    }
   ],
   "source": [
    "# Show some of the closest languages to English\n",
    "sorted(simple_distance_to_eng, key=lambda x: x[0])[:50]"
   ]
  },
  {
   "cell_type": "markdown",
   "id": "consolidated-sheet",
   "metadata": {},
   "source": [
    "The results returned by this algorithm also seem reasonable. Again, many of the closest languages are other English dialects, other Indo-European langauges, and some creole languages."
   ]
  },
  {
   "cell_type": "markdown",
   "id": "equal-irrigation",
   "metadata": {},
   "source": [
    "### Vector Space Similarity\n",
    "\n",
    "In this algorithm, I first map each phoneme to a set of binary features. There are 37 of these features. When comparing two languages, I calculate the distance between each phoneme in each language and take the average of the closest features. The sub-distance metric I use is jaccard distance. \n"
   ]
  },
  {
   "cell_type": "code",
   "execution_count": 34,
   "id": "computational-affairs",
   "metadata": {},
   "outputs": [
    {
     "name": "stdout",
     "output_type": "stream",
     "text": [
      "['SegmentClass', 'tone', 'stress', 'syllabic', 'short', 'long', 'consonantal', 'sonorant', 'continuant', 'delayedRelease', 'approximant', 'tap', 'trill', 'nasal', 'lateral', 'labial', 'round', 'labiodental', 'coronal', 'anterior', 'distributed', 'strident', 'dorsal', 'high', 'low', 'front', 'back', 'tense', 'retractedTongueRoot', 'advancedTongueRoot', 'periodicGlottalSource', 'epilaryngealSource', 'spreadGlottis', 'constrictedGlottis', 'fortis', 'raisedLarynxEjective', 'loweredLarynxImplosive', 'click']\n",
      "There are 38 segment features total\n"
     ]
    }
   ],
   "source": [
    "# Columns 11 and onward are phoneme feature columns\n",
    "cols = list(df.columns[9:])\n",
    "cols.pop(1) # Remove Source, which is not a segment feature\n",
    "print(cols)\n",
    "print(f\"There are {len(cols)} segment features total\")"
   ]
  },
  {
   "cell_type": "code",
   "execution_count": 35,
   "id": "alpine-adoption",
   "metadata": {},
   "outputs": [],
   "source": [
    "# Make language mapping like English: [[0, 1, 1, ...], [1, 1, 0, ...], ...]\n",
    "res = engine.execute(f\"\"\"\n",
    "               SELECT LanguageName ||\",\"|| {\"||\".join(df.columns[11:])}\n",
    "               FROM phoible\n",
    "               \"\"\"\n",
    "              ).fetchall()\n",
    "\n",
    "res = [[i[0].split(\",\")[0], list(i[0].split(\",\")[1])]for i in list(res)]\n",
    "\n",
    "vector_mapping = {}\n",
    "for lang, phoneme in res:\n",
    "    if lang not in vector_mapping:\n",
    "        vector_mapping[lang] = [phoneme]\n",
    "    else:\n",
    "        vector_mapping[lang].append(phoneme)"
   ]
  },
  {
   "cell_type": "code",
   "execution_count": 36,
   "id": "angry-virginia",
   "metadata": {},
   "outputs": [
    {
     "data": {
      "text/plain": [
       "[['0',\n",
       "  '-',\n",
       "  '-',\n",
       "  '-',\n",
       "  '-',\n",
       "  '+',\n",
       "  '-',\n",
       "  '-',\n",
       "  '-',\n",
       "  '-',\n",
       "  '-',\n",
       "  '-',\n",
       "  '-',\n",
       "  '-',\n",
       "  '+',\n",
       "  '-',\n",
       "  '-',\n",
       "  '-',\n",
       "  '0',\n",
       "  '0',\n",
       "  '0',\n",
       "  '-',\n",
       "  '0',\n",
       "  '0',\n",
       "  '0',\n",
       "  '0',\n",
       "  '0',\n",
       "  '0',\n",
       "  '0',\n",
       "  '+',\n",
       "  '-',\n",
       "  '-',\n",
       "  '-',\n",
       "  '-',\n",
       "  '-',\n",
       "  '-',\n",
       "  '-'],\n",
       " ['0',\n",
       "  '-',\n",
       "  '-',\n",
       "  '-',\n",
       "  '-',\n",
       "  '+',\n",
       "  '-',\n",
       "  '-',\n",
       "  '-',\n",
       "  '-',\n",
       "  '-',\n",
       "  '-',\n",
       "  '-',\n",
       "  '-',\n",
       "  '-',\n",
       "  '0',\n",
       "  '0',\n",
       "  '+',\n",
       "  '+',\n",
       "  '-',\n",
       "  '-',\n",
       "  '-',\n",
       "  '0',\n",
       "  '0',\n",
       "  '0',\n",
       "  '0',\n",
       "  '0',\n",
       "  '0',\n",
       "  '0',\n",
       "  '+',\n",
       "  '-',\n",
       "  '-',\n",
       "  '-',\n",
       "  '-',\n",
       "  '-',\n",
       "  '-',\n",
       "  '-']]"
      ]
     },
     "execution_count": 36,
     "metadata": {},
     "output_type": "execute_result"
    }
   ],
   "source": [
    "vector_mapping[\"English (American)\"][:2]"
   ]
  },
  {
   "cell_type": "code",
   "execution_count": 37,
   "id": "connected-guest",
   "metadata": {},
   "outputs": [
    {
     "name": "stdout",
     "output_type": "stream",
     "text": [
      "The Simple matching coefficient for English and German is 0.011\n",
      "The Simple matching coefficient for English and Thai is 0.075\n",
      "The Simple matching coefficient for English and Pirahã is 0.050\n"
     ]
    }
   ],
   "source": [
    "# Define the vector space similarity between two languages\n",
    "def vector_similarity(a, b):\n",
    "    \"\"\"\n",
    "    Calculate the jaccard distance between all of a's vectors and all of b's vectors\n",
    "    The overall vector space similarity is simply the average distance.\n",
    "    This works fine where the phoneme inventories are different sizes\n",
    "    \"\"\"\n",
    "    simple_distances = []\n",
    "    \n",
    "    # For each vector in a, find the closest vector in b and append it to simple_distances\n",
    "    for vec_a in a:\n",
    "        closest = 1\n",
    "        for vec_b in b:\n",
    "            distance = simple_matching_coef(vec_a, vec_b)\n",
    "            if distance < closest:\n",
    "                closest = distance\n",
    "        simple_distances.append(closest)\n",
    "    \n",
    "    # For each vector in b, find the closest in a\n",
    "    for vec_b in b:\n",
    "        closest = 1\n",
    "        for vec_a in a:\n",
    "            distance = simple_matching_coef(vec_a, vec_b)\n",
    "            if distance < closest:\n",
    "                closest = distance\n",
    "        simple_distances.append(closest)\n",
    "    \n",
    "    # Return the average distance\n",
    "    return sum(simple_distances) / len(simple_distances)\n",
    "\n",
    "\n",
    "# Calculate distances between some languages\n",
    "vec_similarity_d_eng_pira = vector_similarity(vector_mapping[\"English (American)\"], vector_mapping[\"Pirahã\"])\n",
    "vec_similarity_d_eng_germ = vector_similarity(vector_mapping[\"English (American)\"], vector_mapping[\"German\"])\n",
    "vec_similarity_d_eng_thai = vector_similarity(vector_mapping[\"English (American)\"], vector_mapping[\"Thai\"])\n",
    "\n",
    "print(f\"The Simple matching coefficient for English and German is {vec_similarity_d_eng_germ:.3f}\")\n",
    "print(f\"The Simple matching coefficient for English and Thai is {vec_similarity_d_eng_thai:.3f}\")\n",
    "print(f\"The Simple matching coefficient for English and Pirahã is {vec_similarity_d_eng_pira:.3f}\")"
   ]
  },
  {
   "cell_type": "code",
   "execution_count": 38,
   "id": "smart-israeli",
   "metadata": {},
   "outputs": [],
   "source": [
    "# Now let's find the matching distance between English and every other language.\n",
    "# Be patient, this might take a minute!\n",
    "vec_distance_to_eng = [(vector_similarity(vector_mapping[\"English (American)\"], vector_mapping[lang]), lang) for lang in vector_mapping]"
   ]
  },
  {
   "cell_type": "code",
   "execution_count": 56,
   "id": "small-africa",
   "metadata": {},
   "outputs": [
    {
     "data": {
      "text/plain": [
       "[(0.0, 'English (American)'),\n",
       " (0.0010395010395010374, 'American English'),\n",
       " (0.0023752566125447463, 'English (British)'),\n",
       " (0.004353751341703147, 'English (Australian)'),\n",
       " (0.00437247063013934, 'English'),\n",
       " (0.007400257400257397, 'English (New Zealand)'),\n",
       " (0.009130752373995611, 'Belizean Creole'),\n",
       " (0.010135135135135125, 'Jamaican Creole'),\n",
       " (0.01060939861160004, 'German'),\n",
       " (0.010933382361953783, 'Breton'),\n",
       " (0.010987999493746611, 'Welsh'),\n",
       " (0.01105651105651105, 'Frisian'),\n",
       " (0.011183597390493932, 'Assamese'),\n",
       " (0.011880011880011872, 'Mo'),\n",
       " (0.012091038406827874, 'Scots'),\n",
       " (0.01218119527978682, 'Daza'),\n",
       " (0.01241782322863403, 'Wymysorys'),\n",
       " (0.012679346012679338, 'Dogon'),\n",
       " (0.012854317732366507, 'Tamasheq'),\n",
       " (0.012884978001257064, 'Kabiyɛ'),\n",
       " (0.012942519984773497, 'Karipuna Creole'),\n",
       " (0.013323182337266835, 'Lunda'),\n",
       " (0.013362430753735088, 'Rumanian'),\n",
       " (0.013391272801835967, 'French'),\n",
       " (0.013513513513513504, 'BAMBARA'),\n",
       " (0.013513513513513504, 'Antiguan Creole'),\n",
       " (0.01368901368901368, 'BASHKIR'),\n",
       " (0.013869132290184908, 'Mwaghavul'),\n",
       " (0.013950858344451015, 'Luxembourgish'),\n",
       " (0.014054054054054044, 'Songhoy'),\n",
       " (0.014078969104682044, 'Eastern Hill Balochi'),\n",
       " (0.014101057579318435, 'FUR'),\n",
       " (0.014105997889781662, 'Slovene'),\n",
       " (0.014210086375034816, 'Bakairí'),\n",
       " (0.014243973703433156, 'Teda'),\n",
       " (0.014255559907733811, 'GERMAN'),\n",
       " (0.014314314314314309, 'limbum (central)'),\n",
       " (0.014340871483728621, 'Persian'),\n",
       " (0.014365717068419765, 'So'),\n",
       " (0.014580369843527724, 'Turkmen'),\n",
       " (0.014627530756563008, 'Vagala'),\n",
       " (0.015057915057915048, 'Berom'),\n",
       " (0.015179563124768595, 'Rawang'),\n",
       " (0.015210504622269316, 'NORWEGIAN'),\n",
       " (0.015246015246015232, 'Hill Jarawa'),\n",
       " (0.015252876639015242, 'Indonesian'),\n",
       " (0.015291607396870544, 'Chamacoco'),\n",
       " (0.015339663988312628, 'AMO'),\n",
       " (0.015477015477015467, 'Tagalog'),\n",
       " (0.015491100856954503, 'Gheg Albanian')]"
      ]
     },
     "execution_count": 56,
     "metadata": {},
     "output_type": "execute_result"
    }
   ],
   "source": [
    "# Show some of the closest languages to English\n",
    "top_langs = sorted(vec_distance_to_eng, key=lambda x: x[0])[:50]\n",
    "top_langs"
   ]
  },
  {
   "cell_type": "markdown",
   "id": "funded-leadership",
   "metadata": {},
   "source": [
    "The results here look even better than simple Jaccard distance: the top languages are all English dialects or related languages, languages spoken in the British Isles (Wales), other Indo-European languages, or languages that have been strongly influenced by English (Maltese, Jamaican Creole, Belizean Creole), or the usual Niger-Congo and Austronesian languages. There are some outliers though, like _Tamasheq_, a Berber language spoken in Mali, but [its phonology](https://en.wikipedia.org/wiki/Tamasheq_language#Phonology) does look similar to English.\n",
    "\n",
    "In the next section, I'm going to be a little more specific in how I measure the success of this distance metric."
   ]
  },
  {
   "cell_type": "markdown",
   "id": "american-initial",
   "metadata": {},
   "source": [
    "## Evaluation\n",
    "\n",
    "One way to evaluate this custom distance metric is to simply look at the results: do they look sensible? A \"sensible\" result should have lots of languages in the same family as English: Indo-European. If a lot of the results are Indo-European, then the results are probably good. This seems to be the cast. Rather than just counting things manually, let's quantify it.\n",
    "\n",
    "In this section I first join the phoible dataset with [glottolog](https://glottolog.org/). Glottolog contains meta-data about languages: where it's spoken, the countries it's spoken in, etc. The variable I care about is the _language family_. After I get this information, I use [WALS](https://wals.info/languoid) to get the relevant frequencies of the world's language families. For instance, if my algorithm's top-50 items contain 25 Indo-European languages, and 50% of the world's languages are members of this family, then the algorithm's results are probably random. If, however, the distribution of language families that are selected by my algorithm are significantly different from the distribution in WALS, that means that my algorithm is doing _something_.\n",
    "\n",
    "Here is how I evaluate the results:\n",
    "- If there are significantly __more__ Indo-European languages chosen than random, then my algorithm is _valid_ - it's returning sensible results.\n",
    "- If my algorithm returns _some other language family_ significantly more than chance, then this family _probably_ resembles English in its phonology. Sneak peak: Niger-Congo languages are disproportionately selected.\n",
    "\n",
    "First I'll just show you the raw probabilities, then I'll use statistics to quantify things."
   ]
  },
  {
   "cell_type": "code",
   "execution_count": 40,
   "id": "elder-contribution",
   "metadata": {},
   "outputs": [
    {
     "name": "stdout",
     "output_type": "stream",
     "text": [
      "  % Total    % Received % Xferd  Average Speed   Time    Time     Time  Current\n",
      "                                 Dload  Upload   Total   Spent    Left  Speed\n",
      "100 1547k  100 1547k    0     0  3357k      0 --:--:-- --:--:-- --:--:-- 3364k\n"
     ]
    }
   ],
   "source": [
    "! curl https://raw.githubusercontent.com/glottolog/glottolog-cldf/master/cldf/languages.csv > languages.csv"
   ]
  },
  {
   "cell_type": "code",
   "execution_count": 41,
   "id": "adopted-allowance",
   "metadata": {},
   "outputs": [],
   "source": [
    "! mv languages.csv ../data"
   ]
  },
  {
   "cell_type": "code",
   "execution_count": 42,
   "id": "visible-listing",
   "metadata": {},
   "outputs": [],
   "source": [
    "lang_df = pd.read_csv(\"../data/languages.csv\")"
   ]
  },
  {
   "cell_type": "code",
   "execution_count": 43,
   "id": "popular-basics",
   "metadata": {},
   "outputs": [
    {
     "data": {
      "text/html": [
       "<div>\n",
       "<style scoped>\n",
       "    .dataframe tbody tr th:only-of-type {\n",
       "        vertical-align: middle;\n",
       "    }\n",
       "\n",
       "    .dataframe tbody tr th {\n",
       "        vertical-align: top;\n",
       "    }\n",
       "\n",
       "    .dataframe thead th {\n",
       "        text-align: right;\n",
       "    }\n",
       "</style>\n",
       "<table border=\"1\" class=\"dataframe\">\n",
       "  <thead>\n",
       "    <tr style=\"text-align: right;\">\n",
       "      <th></th>\n",
       "      <th>ID</th>\n",
       "      <th>Name</th>\n",
       "      <th>Macroarea</th>\n",
       "      <th>Latitude</th>\n",
       "      <th>Longitude</th>\n",
       "      <th>Glottocode</th>\n",
       "      <th>ISO639P3code</th>\n",
       "      <th>Countries</th>\n",
       "      <th>Family_ID</th>\n",
       "      <th>Language_ID</th>\n",
       "    </tr>\n",
       "  </thead>\n",
       "  <tbody>\n",
       "    <tr>\n",
       "      <th>0</th>\n",
       "      <td>kond1302</td>\n",
       "      <td>Konda-Yahadian</td>\n",
       "      <td>NaN</td>\n",
       "      <td>NaN</td>\n",
       "      <td>NaN</td>\n",
       "      <td>kond1302</td>\n",
       "      <td>NaN</td>\n",
       "      <td>NaN</td>\n",
       "      <td>NaN</td>\n",
       "      <td>NaN</td>\n",
       "    </tr>\n",
       "    <tr>\n",
       "      <th>1</th>\n",
       "      <td>cani1243</td>\n",
       "      <td>Canichana</td>\n",
       "      <td>South America</td>\n",
       "      <td>-14.3058</td>\n",
       "      <td>-64.944455</td>\n",
       "      <td>cani1243</td>\n",
       "      <td>caz</td>\n",
       "      <td>BO</td>\n",
       "      <td>NaN</td>\n",
       "      <td>NaN</td>\n",
       "    </tr>\n",
       "    <tr>\n",
       "      <th>2</th>\n",
       "      <td>mong1349</td>\n",
       "      <td>Mongolic-Khitan</td>\n",
       "      <td>NaN</td>\n",
       "      <td>NaN</td>\n",
       "      <td>NaN</td>\n",
       "      <td>mong1349</td>\n",
       "      <td>NaN</td>\n",
       "      <td>NaN</td>\n",
       "      <td>NaN</td>\n",
       "      <td>NaN</td>\n",
       "    </tr>\n",
       "    <tr>\n",
       "      <th>3</th>\n",
       "      <td>cadd1255</td>\n",
       "      <td>Caddoan</td>\n",
       "      <td>NaN</td>\n",
       "      <td>NaN</td>\n",
       "      <td>NaN</td>\n",
       "      <td>cadd1255</td>\n",
       "      <td>NaN</td>\n",
       "      <td>NaN</td>\n",
       "      <td>NaN</td>\n",
       "      <td>NaN</td>\n",
       "    </tr>\n",
       "    <tr>\n",
       "      <th>4</th>\n",
       "      <td>yuki1242</td>\n",
       "      <td>Yuki-Wappo</td>\n",
       "      <td>NaN</td>\n",
       "      <td>NaN</td>\n",
       "      <td>NaN</td>\n",
       "      <td>yuki1242</td>\n",
       "      <td>NaN</td>\n",
       "      <td>NaN</td>\n",
       "      <td>NaN</td>\n",
       "      <td>NaN</td>\n",
       "    </tr>\n",
       "  </tbody>\n",
       "</table>\n",
       "</div>"
      ],
      "text/plain": [
       "         ID             Name      Macroarea  Latitude  Longitude Glottocode  \\\n",
       "0  kond1302   Konda-Yahadian            NaN       NaN        NaN   kond1302   \n",
       "1  cani1243        Canichana  South America  -14.3058 -64.944455   cani1243   \n",
       "2  mong1349  Mongolic-Khitan            NaN       NaN        NaN   mong1349   \n",
       "3  cadd1255          Caddoan            NaN       NaN        NaN   cadd1255   \n",
       "4  yuki1242       Yuki-Wappo            NaN       NaN        NaN   yuki1242   \n",
       "\n",
       "  ISO639P3code Countries Family_ID Language_ID  \n",
       "0          NaN       NaN       NaN         NaN  \n",
       "1          caz        BO       NaN         NaN  \n",
       "2          NaN       NaN       NaN         NaN  \n",
       "3          NaN       NaN       NaN         NaN  \n",
       "4          NaN       NaN       NaN         NaN  "
      ]
     },
     "execution_count": 43,
     "metadata": {},
     "output_type": "execute_result"
    }
   ],
   "source": [
    "lang_df.head()"
   ]
  },
  {
   "cell_type": "code",
   "execution_count": 55,
   "id": "bridal-picnic",
   "metadata": {},
   "outputs": [
    {
     "data": {
      "text/plain": [
       "[('GREEK', 'indo1319'),\n",
       " ('Greek', 'indo1319'),\n",
       " ('Modern Greek', 'indo1319'),\n",
       " ('Italian', 'indo1319'),\n",
       " ('Aragonese', 'indo1319'),\n",
       " ('Ligurian', 'indo1319'),\n",
       " ('Friulian', 'indo1319'),\n",
       " ('Vallader Romansh', 'indo1319'),\n",
       " ('Reunionnais', 'indo1319'),\n",
       " ('Mauritian Creole', 'indo1319'),\n",
       " ('Karipuna Creole', 'indo1319'),\n",
       " ('FRENCH', 'indo1319'),\n",
       " ('French', 'indo1319'),\n",
       " ('Jèrriais', 'indo1319'),\n",
       " ('Catalan', 'indo1319')]"
      ]
     },
     "execution_count": 55,
     "metadata": {},
     "output_type": "execute_result"
    }
   ],
   "source": [
    "# Join phoible to glottolog to see which languages are part of the indo-european family\n",
    "engine = create_engine('sqlite://', echo=False)\n",
    "lang_df.to_sql('glottolog', con=engine)\n",
    "df.to_sql('phoible', con=engine)\n",
    "\n",
    "res = engine.execute(\"\"\"\n",
    "               SELECT DISTINCT(phoible.LanguageName), glottolog.Family_ID FROM glottolog\n",
    "               JOIN phoible\n",
    "               ON phoible.Glottocode = glottolog.Glottocode\n",
    "               WHERE Family_ID LIKE '%indo%'\n",
    "               \"\"\"\n",
    "              ).fetchall()\n",
    "\n",
    "res[:10]"
   ]
  },
  {
   "cell_type": "code",
   "execution_count": 58,
   "id": "falling-breeding",
   "metadata": {},
   "outputs": [],
   "source": [
    "lang_names = [name for _, name in top_langs]"
   ]
  },
  {
   "cell_type": "code",
   "execution_count": 83,
   "id": "thorough-custody",
   "metadata": {},
   "outputs": [
    {
     "data": {
      "text/plain": [
       "[('Mwaghavul', 'afro1255'),\n",
       " ('Tamasheq', 'afro1255'),\n",
       " ('AMO', 'atla1278'),\n",
       " ('Berom', 'atla1278'),\n",
       " ('Kabiyɛ', 'atla1278'),\n",
       " ('Mo', 'atla1278'),\n",
       " ('Vagala', 'atla1278'),\n",
       " ('Hill Jarawa', 'atla1278'),\n",
       " ('Lunda', 'atla1278'),\n",
       " ('limbum (central)', 'atla1278'),\n",
       " ('So', 'aust1305'),\n",
       " ('Tagalog', 'aust1307'),\n",
       " ('Indonesian', 'aust1307'),\n",
       " ('Bakairí', 'cari1283'),\n",
       " ('Dogon', 'dogo1299')]"
      ]
     },
     "execution_count": 83,
     "metadata": {},
     "output_type": "execute_result"
    }
   ],
   "source": [
    "# Organize by language family\n",
    "engine = create_engine('sqlite://', echo=False)\n",
    "lang_df.to_sql('glottolog', con=engine)\n",
    "df.to_sql('phoible', con=engine)\n",
    "\n",
    "res = engine.execute(f\"\"\"\n",
    "               SELECT DISTINCT(phoible.LanguageName), glottolog.Family_ID FROM glottolog\n",
    "               JOIN phoible\n",
    "               ON phoible.Glottocode = glottolog.Glottocode\n",
    "               AND phoible.LanguageName IN ('{\"','\".join(lang_names)}')\n",
    "               \"\"\"\n",
    "              ).fetchall()\n",
    "\n",
    "sorted(res, key=lambda x: x[1])[:15]"
   ]
  },
  {
   "cell_type": "code",
   "execution_count": 85,
   "id": "molecular-spiritual",
   "metadata": {},
   "outputs": [
    {
     "name": "stdout",
     "output_type": "stream",
     "text": [
      "The fraction of Indo-European languages in the top-50 is: 52%\n",
      "The fraction of Niger-Congo languages in the top-50 is: 16%\n",
      "The fraction of African languages in the top-50 is: 28%\n"
     ]
    }
   ],
   "source": [
    "print(f\"The fraction of Indo-European languages in the top-50 is: {len([i for i in res if i[1] == 'indo1319'])/len(res)*100:.0f}%\")\n",
    "print(f\"The fraction of Niger-Congo languages in the top-50 is: {len([i for i in res if i[1] == 'atla1278'])/len(res)*100:.0f}%\")\n",
    "african_languages = ['atla1278', 'saha1256', 'song1307', 'afro1255', 'dogo1299']\n",
    "print(f\"The fraction of African languages in the top-50 is: {len([i for i in res if i[1] in african_languages])/len(res)*100:.0f}%\")"
   ]
  },
  {
   "cell_type": "code",
   "execution_count": 82,
   "id": "humanitarian-billy",
   "metadata": {},
   "outputs": [
    {
     "name": "stdout",
     "output_type": "stream",
     "text": [
      "The fraction of Indo-European languages in WALS is 7%\n",
      "The fraction of Niger-Congo languages in WALS is 12%\n"
     ]
    }
   ],
   "source": [
    "len_WALS = 2662\n",
    "len_WALS_niger_congo = 325\n",
    "len_WALS_indo_euro = 176\n",
    "print(f\"The fraction of Indo-European languages in WALS is {len_WALS_indo_euro/len_WALS*100:.0f}%\")\n",
    "print(f\"The fraction of Niger-Congo languages in WALS is {len_WALS_niger_congo/len_WALS*100:.0f}%\")"
   ]
  },
  {
   "cell_type": "markdown",
   "id": "royal-width",
   "metadata": {},
   "source": [
    "- introduce WALS for baseline comparisons\n",
    "- introduce glottolog for language metadata"
   ]
  },
  {
   "cell_type": "markdown",
   "id": "mental-convertible",
   "metadata": {},
   "source": [
    "model-based approach:\n",
    "- create labels, perhaps based off the criteria: 1 = Indo-European, 0 = non-Indo-European\n",
    "- train a classifier on the model - hopefully it will be accurace (f1 score)\n",
    "- classify all the languages\n",
    "- sort the languages by probability of being indo-european\n",
    "- alternatively: train a regression classifier, where there are a few features: English, Germanic, Indo"
   ]
  },
  {
   "cell_type": "markdown",
   "id": "distinguished-stress",
   "metadata": {},
   "source": [
    "## Conclusion\n",
    "\n",
    "Niger-Congo and Austronesian languages sound similar to English - broadly speaking. If you're an English speaker and want to pick a new language to study, maybe consider a language from one of these families! The grammar or writing might still be challenging, but you'll at least know that pronunciation won't stop you.\n",
    "\n",
    "__Note for developers__: feel free to modify this code to perform your own analyses. I used American English for the basis of my comparisons, but in principle you can perform many other kinds of comparisons."
   ]
  }
 ],
 "metadata": {
  "kernelspec": {
   "display_name": "Python 3",
   "language": "python",
   "name": "python3"
  },
  "language_info": {
   "codemirror_mode": {
    "name": "ipython",
    "version": 3
   },
   "file_extension": ".py",
   "mimetype": "text/x-python",
   "name": "python",
   "nbconvert_exporter": "python",
   "pygments_lexer": "ipython3",
   "version": "3.8.8"
  }
 },
 "nbformat": 4,
 "nbformat_minor": 5
}
