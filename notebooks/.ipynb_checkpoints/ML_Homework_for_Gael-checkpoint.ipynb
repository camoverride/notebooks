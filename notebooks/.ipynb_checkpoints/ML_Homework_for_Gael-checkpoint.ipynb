{
 "cells": [
  {
   "cell_type": "markdown",
   "metadata": {},
   "source": [
    "# Spam or Ham\n",
    "_Spam_ email is email that you don't want to have in your inbox. _Ham_, on the other hand, is email that you actually do care about. Google started filtering out spam email from people's inboxes in the early 2000's. Google does this by using an algorithm that reads every email that a person recieves and decides whether that email is _spam_ or _ham_. In this task, you're going to build a similar algorithm.\n",
    "\n",
    "I'm going to provide you with a csv file of 10,000 emails. Half of these are given the label `0` (which means _spam_) and the other half are given the label `1`, which means _ham_. Furthermore, 20% of these emails are labeled `test`, which means that you should not use these emails for developing your algorithm. Instead, after your algorithm is completed, you can use these emails in the test set to determine the accuracy of your algorithm.\n",
    "\n",
    "If your algorithm labels every _spam_ email with a `0` and every _ham_ email with a `1`, then that means it has 100% accuracy. If it labels every email incorrectly, its accuracy is 0%. If it guesses the labels randomly, its accuracy will be around 50%. Your job is to make an algorithm that scores _better than 50%_.\n",
    "\n",
    "In the section below, I'm going to load the csv file into a Pandas dataframe, divide the dataframe into the _training_ and _test_ sets (don't touch the test set while developing!), provide a dummy algorithm that scores things randomly, and set up some metrics that you can use to determine how accurate your algorithm is. Your job is to replace the dummy algorithm with something that performs better than change (above 50%, because 50% of the emails are spam and 50% are ham)."
   ]
  },
  {
   "cell_type": "markdown",
   "metadata": {},
   "source": [
    "## Explore the data\n",
    "In this section, the data is loaded and explored. The data is also divided between the training and the test set."
   ]
  },
  {
   "cell_type": "code",
   "execution_count": null,
   "metadata": {},
   "outputs": [],
   "source": [
    "df_training = \n",
    "df_test ="
   ]
  },
  {
   "cell_type": "markdown",
   "metadata": {},
   "source": [
    "## Create a Classification Algorithm\n",
    "In this section, a dummy algorithm is created. It does not perform well!"
   ]
  },
  {
   "cell_type": "code",
   "execution_count": null,
   "metadata": {},
   "outputs": [],
   "source": [
    "def classifier(df):\n",
    "    \"\"\"\n",
    "    This function takes in a list of emails and produces a list of predictions. The input is\n",
    "    a dataframe with three columns: `email | set | actual_category`. The output of this function\n",
    "    is the same dataframe with a new column added: `email | set | actual_category | predicted_category`.\n",
    "    The column `email` is the text of an email.\n",
    "    The column `set` is either `training` or `test`.\n",
    "    The column `actual_category` is the actual category of the email. 0 for spam, 1 for ham.\n",
    "    The column `predicted_category` is the category that gets prericted by the model.\n",
    "    \"\"\"\n",
    "    # add a new pandas column where everything is a 1\n",
    "    \n",
    "    return df_scored\n",
    "\n",
    "df_test_scored = classifier(df_test)"
   ]
  },
  {
   "cell_type": "markdown",
   "metadata": {},
   "source": [
    "## Test the Accuracy of the Algorithm\n",
    "In this section, the accuracy of the algorithm is tested using the _training_ set. Once you've gotten a good accuracy on the training set, then you can see how well the model performs on the _test_ set. But save the test set for last!"
   ]
  },
  {
   "cell_type": "code",
   "execution_count": null,
   "metadata": {},
   "outputs": [],
   "source": [
    "def get_accuracy(df):\n",
    "    \"\"\"\n",
    "    This function returns the number of rows where the predicted category is\n",
    "    the same as the actual category divided by the total number of rows. In\n",
    "    other words, it finds the fraction of items that the model correctly predicted.\n",
    "    \"\"\"\n",
    "    number_correct = len(df.where(df.actual_category == df.predicted_category))\n",
    "    \n",
    "    number_total = len(df)\n",
    "\n",
    "    fraction_correct = number_correct / number_total\n",
    "    \n",
    "    return fraction_correct\n",
    "\n",
    "get_accuracy(df_scored)"
   ]
  }
 ],
 "metadata": {
  "kernelspec": {
   "display_name": "Python 3",
   "language": "python",
   "name": "python3"
  },
  "language_info": {
   "codemirror_mode": {
    "name": "ipython",
    "version": 3
   },
   "file_extension": ".py",
   "mimetype": "text/x-python",
   "name": "python",
   "nbconvert_exporter": "python",
   "pygments_lexer": "ipython3",
   "version": "3.6.8"
  }
 },
 "nbformat": 4,
 "nbformat_minor": 2
}
