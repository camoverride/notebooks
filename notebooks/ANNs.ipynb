{
 "cells": [
  {
   "cell_type": "markdown",
   "metadata": {},
   "source": [
    "# Artificial Neural Networks\n",
    "\n",
    "In this notebook, I explore the topic of Artificial Neural Networks (ANN's). This notebook starts off by introducing the MNIST dataset and classification problem. Then I give an overview of artificial neural networks: how the function, how to train them, and where they get used. I also show you how to do this all with the Tensorflow library in Python. I conclude with some mathematical remarks and general data science considerations."
   ]
  },
  {
   "cell_type": "markdown",
   "metadata": {},
   "source": [
    "## The MNIST Dataset\n",
    "\n",
    "![title](images/mnist.gif)\n",
    "\n",
    "The MNIST dataset contains 70,000 images of handwritten digits. These images are grayscale and are 28x28 pixels. The MNIST dataset is used to test the validity of different classification algorithms. Here's what the MNIST dataset actually we'll be exploring actually looks like:"
   ]
  },
  {
   "cell_type": "code",
   "execution_count": 1,
   "metadata": {},
   "outputs": [],
   "source": [
    "import tensorflow as tf\n",
    "import matplotlib.pyplot as plt"
   ]
  },
  {
   "cell_type": "code",
   "execution_count": 2,
   "metadata": {},
   "outputs": [],
   "source": [
    "# Download the training data.\n",
    "mnist_all_data = tf.keras.datasets.mnist.load_data()"
   ]
  },
  {
   "cell_type": "code",
   "execution_count": 3,
   "metadata": {},
   "outputs": [
    {
     "data": {
      "text/plain": [
       "<matplotlib.image.AxesImage at 0x7fbed1bd2520>"
      ]
     },
     "execution_count": 3,
     "metadata": {},
     "output_type": "execute_result"
    },
    {
     "data": {
      "image/png": "[encoded data removed]",
      "text/plain": [
       "<Figure size 432x288 with 1 Axes>"
      ]
     },
     "metadata": {
      "needs_background": "light"
     },
     "output_type": "display_data"
    }
   ],
   "source": [
    "# Visualize a random image from the dataset\n",
    "plt.imshow(mnist_all_data[0][0][40])"
   ]
  },
  {
   "cell_type": "markdown",
   "metadata": {},
   "source": [
    "An algorithm that performs well will accept an image as input a produce a vector as output. More specifically, the algorithm will accept a multi-dimensional array (or matrix) as input - because images are two dimensional - and produce a one-dimensional vector with 10 elements as output. Each index in the vector corresponds to the probability that the image belongs to each of the categories. For instance, when a picture of the number $1$ is given to the algorithm, it will produce a vector like this:\n",
    "\n",
    "$$ [0.01, 0.8813, 0.023, 0.001, 0.0045, 0.0091, 0.013, 0.056, 0.0001, 0.0002] $$\n",
    "\n",
    "Notice that the second index, $0.8813$ (which corresponds to $1$), is much higher than any of the other indexes.\n",
    "\n",
    "In the next section I'll explain how artificial neurons work and how they can be combined into networks. These networks will ultimately produce an output vector that accurately identifies the input image."
   ]
  },
  {
   "cell_type": "markdown",
   "metadata": {},
   "source": [
    "## The Structure of ANN's\n",
    "\n",
    "Artificial neural networks are inspired by the actual neural networks that exist in our brains. The building blocks of neural networks are neurons, which can be thought of as simple information processing units (or cells). Biological neurons accept electrochemical input their dendrites ($x_1$ through $x_n$), pass this activation through their axon, and produce some outputs ($y_1$ through $y_n$). The outputs are altered during their course through the axon.\n",
    "\n",
    "![title](images/biological_neuron.png)\n",
    "\n",
    "A perceptron is a kind of artificial neuron. It has the same behavior as a biological neuron: inputs travel into a cell and an output is produced. The cell below has a single output, $output_0$. This output is the result of all the inputs being multiplied by their corresponding weights. These numbers are then summed up ($\\sum$) and passed through an activation function ($\\int$) before being output. Cells can have a variable number of inputs and outputs:\n",
    "\n",
    "![title](images/perceptron.png)\n",
    "\n",
    "These individual cells can be arranged into _layers_, where the activation from one layer is passed to all cells in the next layer. In the example below, the network has an input layer of three cells, an intermediate layer of four cells, and an output layer of three cells. Activation is passed from the first layer to the hidden layer, and the hidden layer to the output layer. Researchers involved in deep learning encounter two kinds of design tasks when working with neural networks: experimenting with different network architectures, and altering the structure of the neurons themselves.\n",
    "\n",
    "![title](images/colored_neural_network.png)\n",
    "\n",
    "If you're familiar with linear algebra, you might notice that it's possible to represent this network with matrix vector multiplication. For instance, the process of transforming the activation from the input layer to the hidden layer is the same as multiplying an input vector by a weight matrix, where each element in the matrix represents the weight (activation) from input cell $x$ to hidden cell $h$. $w_{2,3}$ for instance means the activation from the second input cell to the third hidden cell:\n",
    "\n",
    "$$ \\begin{bmatrix} w_{1,1} & w_{1,2} & w_{1,3} & w_{1,4} \\\\ w_{2,1} & w_{2,2} & w_{2,3} & w_{2,4}\\\\ w_{3,1} & w_{3,2} & w_{3,3} & w_{3,4} \\end{bmatrix}^T\n",
    "  \\begin{bmatrix} x_{1} \\\\ x_{2} \\\\ x_{3} \\end{bmatrix} \n",
    "  =\n",
    "  \\begin{bmatrix} h_{1} \\\\ h_{2} \\\\ h_{3} \\\\ h_{4} \\end{bmatrix} $$\n",
    "  \n",
    "An activation function, $\\sigma$, is then applied to this vector to get the outputs:\n",
    "\n",
    "$$ \\sigma = \\frac{1}{1 - e^{-x}} $$\n",
    "\n",
    "$$ y = \\sigma(h) $$\n",
    "\n",
    "This can be summarized even more succinctly like this:\n",
    "\n",
    "$$ y = \\sigma ( \\mathbf{W} \\mathbf{x} ) $$\n",
    "\n",
    "We can do the same thing in Python:"
   ]
  },
  {
   "cell_type": "code",
   "execution_count": 4,
   "metadata": {},
   "outputs": [],
   "source": [
    "import numpy as np"
   ]
  },
  {
   "cell_type": "code",
   "execution_count": 5,
   "metadata": {},
   "outputs": [],
   "source": [
    "np.random.seed(42)\n",
    "\n",
    "# Weights matrix, input array, and hidden activation.\n",
    "W = np.random.rand(3, 4)\n",
    "x = np.random.rand(3, 1)\n",
    "h = np.matmul(W.T, x)\n",
    "y = 1 / (1 + np.exp(-h))"
   ]
  },
  {
   "cell_type": "code",
   "execution_count": 6,
   "metadata": {},
   "outputs": [
    {
     "data": {
      "text/plain": [
       "array([[0.37454012, 0.95071431, 0.73199394, 0.59865848],\n",
       "       [0.15601864, 0.15599452, 0.05808361, 0.86617615],\n",
       "       [0.60111501, 0.70807258, 0.02058449, 0.96990985]])"
      ]
     },
     "execution_count": 6,
     "metadata": {},
     "output_type": "execute_result"
    }
   ],
   "source": [
    "W"
   ]
  },
  {
   "cell_type": "code",
   "execution_count": 7,
   "metadata": {},
   "outputs": [
    {
     "data": {
      "text/plain": [
       "array([[0.83244264],\n",
       "       [0.21233911],\n",
       "       [0.18182497]])"
      ]
     },
     "execution_count": 7,
     "metadata": {},
     "output_type": "execute_result"
    }
   ],
   "source": [
    "x"
   ]
  },
  {
   "cell_type": "code",
   "execution_count": 8,
   "metadata": {},
   "outputs": [
    {
     "data": {
      "text/plain": [
       "array([[0.45420974],\n",
       "       [0.95328414],\n",
       "       [0.62541917],\n",
       "       [0.85862575]])"
      ]
     },
     "execution_count": 8,
     "metadata": {},
     "output_type": "execute_result"
    }
   ],
   "source": [
    "h"
   ]
  },
  {
   "cell_type": "code",
   "execution_count": 9,
   "metadata": {},
   "outputs": [
    {
     "data": {
      "text/plain": [
       "array([[0.61163967],\n",
       "       [0.72177517],\n",
       "       [0.65145005],\n",
       "       [0.70237345]])"
      ]
     },
     "execution_count": 9,
     "metadata": {},
     "output_type": "execute_result"
    }
   ],
   "source": [
    "y"
   ]
  },
  {
   "cell_type": "markdown",
   "metadata": {},
   "source": [
    "To go from the hidden layer to the output layer, we follow the same process: multiply the inputs (which in this case are the activations of the hidden layer) by the corresponding weights from them to the outputs, and apply the activation function.\n",
    "\n",
    "Now that you understand the basic structure of an ANN, there are two things left to discuss: where to apply it and how to train it."
   ]
  },
  {
   "cell_type": "markdown",
   "metadata": {},
   "source": [
    "## Evaluating a Network\n",
    "\n",
    "A deep learning researcher or data scientist first determines the structure of a neural network. In the previous section, we saw a network with three inputs, four hidden units, and three outputs. In the __Structure of ANN's__ section we proposed a network with _lots_ of inputs (one for each pixel: $28 x 28$) and 10 output units. After you've determined the structure of the network, you have to find some way to learn the correct weights. The weights are what will change in response to your data, and are ultimately the parameters that determine your model's output. But how do you find the right weights?\n",
    "\n",
    "A simple method would be to guess weights. Randomly assign weights, check the model's output, and if the output is not good then randomize the weights and try again. For very simple models with only a couple parameters, this method can actually arrive at a good solution fairly quickly. However, a neural network can have millions of parameters, so this method is not effective. Instead, we need to think of the problem as minimizing an error function, and borrow tools from calculus to perform error minimization.\n",
    "\n",
    "The error of a model is simply the distance between the desired output and the network's actual output. For instance, the output of the hypothetical network above was:\n",
    "\n",
    "$[0.01, 0.8813, 0.023, 0.001, 0.0045, 0.0091, 0.013, 0.056, 0.0001, 0.0002]$\n",
    "\n",
    "Whereas the true output was:\n",
    "\n",
    "$[0., 1, 0., 0., 0., 0., 0., 0., 0., 0.]$\n",
    "\n",
    "The total error is the sum of all these distances. A model that has a lower error is usually judged as superior to a model with higher error. A good formula for determining the error of a classifier like this is categorical cross entropy:\n",
    "\n",
    "$$ CE = -\\sum_i^C t_i log( f( x )_i ) $$\n",
    "\n",
    "Where $C$ is the number of classes, $x$ is the input data, $f$ is the neural network, $t$ are the groundtruth labels, and $i$ indexes through all of the classes.\n",
    "\n",
    "Let's see what this looks like in Python:"
   ]
  },
  {
   "cell_type": "code",
   "execution_count": 10,
   "metadata": {},
   "outputs": [
    {
     "name": "stdout",
     "output_type": "stream",
     "text": [
      "The bad predictions have a categorical cross-entropy score of 4.605170185987991\n",
      "The more accurate prediction has a much lower cross-entropy: 0.12635718887652117\n"
     ]
    }
   ],
   "source": [
    "def cross_entropy(p, q):\n",
    "    return -sum( [p[i]*np.log(q[i]) for i in range(len(p))] )\n",
    "\n",
    "# True classes\n",
    "a = [0., 1., 0., 0., 0., 0., 0., 0., 0., 0.]\n",
    "\n",
    "# Predicted classes\n",
    "b = [0.01, 0.8813, 0.023, 0.001, 0.0045, 0.0091, 0.013, 0.056, 0.0001, 0.0002]\n",
    "\n",
    "# Badly predicted classes\n",
    "c = [0.8813, 0.01, 0.023, 0.001, 0.0045, 0.0091, 0.013, 0.056, 0.0001, 0.0002]\n",
    "\n",
    "# Add a small positive constant so that it's possible to take the log - log(0) is undefined.\n",
    "const = 1/10**15\n",
    "b = [i + const for i in b]\n",
    "c = [i + const for i in c]\n",
    "\n",
    "print(f\"The bad predictions have a categorical cross-entropy score of {cross_entropy(a, c)}\")\n",
    "print(f\"The more accurate prediction has a much lower cross-entropy: {cross_entropy(a, b)}\")"
   ]
  },
  {
   "cell_type": "markdown",
   "metadata": {},
   "source": [
    "The error (or loss) of a model is the categorical cross entropy averaged across all the data. In the next section I'll show you how to reduce the error of a model."
   ]
  },
  {
   "cell_type": "markdown",
   "metadata": {},
   "source": [
    "## Training a Network\n",
    "\n",
    "As mentioned above, it's possible to randomly guess the parameters (weights) of a neural network -- but even for a modestly-sized network this would take a computer the size of the universe billions of years. Instead, we have a technique called _gradient descent_ that makes use of calculus.\n",
    "\n",
    "The idea behind gradient descent is that the error of the model is calculated and then \"propagated backwards\" through the network in a \"backward pass\". As this happens, the weights that are responsible for the greatest amount of error are changed so that they produce less error.\n",
    "\n",
    "When a model is trained, every time an image flows through the network it produces an output vector. This is compared to the desired vector (which will be all zero's and one's). Then the [chain rule](https://en.wikipedia.org/wiki/Chain_rule) from calculus is applied to calculate how much error each cell is responsible for. This error forms a gradient, which is the multi-dimensional form of the derivitive function. By incrementing the weight of the connection a small increment _against_ the gradient, we can reduce the overall error. "
   ]
  },
  {
   "cell_type": "markdown",
   "metadata": {},
   "source": [
    "## Building a Neural Network with Tensorflow\n",
    "\n",
    "Now let's train a network from start to finish using the _tensorflow.keras_ library.\n",
    "\n",
    "Notice that I start off by dividing the data into a train and a test set - this is to prevent the model from simply memorizing the input data. Because the model is trained on `x_train` and evaluated on `x_test`, we know that none of the model's training data is used for evaluation."
   ]
  },
  {
   "cell_type": "code",
   "execution_count": 11,
   "metadata": {},
   "outputs": [],
   "source": [
    "from tensorflow.keras.datasets import mnist\n",
    "\n",
    "# Split into train and test sets.\n",
    "(x_train, y_train), (x_test, y_test) = mnist.load_data()\n",
    "\n",
    "# Divide by 255 to normalize pixed intensition to the range 0-1.\n",
    "x_train, x_test = x_train / 255.0, x_test / 255.0"
   ]
  },
  {
   "cell_type": "markdown",
   "metadata": {},
   "source": [
    "The model below accepts an input matrix of 28x28. It connects these input values to a hidden layer of 128 units. These units then connect to the output later of 10 units. Because each layer is fully connected, the # of parameters in each layer is simply the number of inputs times the number of outputs, i.e. $ (784 + 1) * 128 = 100480 $ (there is an additional special \"bias\" unit added to the input, making it 785 instead of 784):"
   ]
  },
  {
   "cell_type": "code",
   "execution_count": 12,
   "metadata": {},
   "outputs": [
    {
     "name": "stdout",
     "output_type": "stream",
     "text": [
      "Model: \"sequential\"\n",
      "_________________________________________________________________\n",
      "Layer (type)                 Output Shape              Param #   \n",
      "=================================================================\n",
      "flatten (Flatten)            (None, 784)               0         \n",
      "_________________________________________________________________\n",
      "dense (Dense)                (None, 128)               100480    \n",
      "_________________________________________________________________\n",
      "dense_1 (Dense)              (None, 10)                1290      \n",
      "=================================================================\n",
      "Total params: 101,770\n",
      "Trainable params: 101,770\n",
      "Non-trainable params: 0\n",
      "_________________________________________________________________\n"
     ]
    }
   ],
   "source": [
    "# Define the model.\n",
    "model = tf.keras.models.Sequential([\n",
    "  tf.keras.layers.Flatten(input_shape=(28, 28)),\n",
    "  tf.keras.layers.Dense(128, activation='relu'),\n",
    "  tf.keras.layers.Dense(10)\n",
    "])\n",
    "\n",
    "model.summary()"
   ]
  },
  {
   "cell_type": "code",
   "execution_count": 13,
   "metadata": {},
   "outputs": [
    {
     "data": {
      "image/png": "[encoded data removed]",
      "text/plain": [
       "<IPython.core.display.Image object>"
      ]
     },
     "execution_count": 13,
     "metadata": {},
     "output_type": "execute_result"
    }
   ],
   "source": [
    "# Visualize the model\n",
    "tf.keras.utils.plot_model(model, show_shapes=True, show_layer_names=True)"
   ]
  },
  {
   "cell_type": "markdown",
   "metadata": {},
   "source": [
    "When we compile the model, we determine the optimizer. Better methods have been invented since backprop, and the one we're using is called _adam_. The loss function is the same as we discussed in the __Evaluating a Newtork__ section: _Categorical Cross-Entropy_:"
   ]
  },
  {
   "cell_type": "code",
   "execution_count": 14,
   "metadata": {},
   "outputs": [],
   "source": [
    "# Compile the model.\n",
    "model.compile(optimizer='adam',\n",
    "              loss=tf.keras.losses.SparseCategoricalCrossentropy(from_logits=True),\n",
    "              metrics=['accuracy'])"
   ]
  },
  {
   "cell_type": "markdown",
   "metadata": {},
   "source": [
    "Now we run the data through the model several times. I choose 10 epochs (passes through the model) based on prior experience. You can see how the accuracy increases in the _tensorboard_ visualization defined by the callback below."
   ]
  },
  {
   "cell_type": "code",
   "execution_count": 15,
   "metadata": {},
   "outputs": [],
   "source": [
    "rm -rf ./logs/"
   ]
  },
  {
   "cell_type": "code",
   "execution_count": 16,
   "metadata": {},
   "outputs": [
    {
     "data": {
      "text/plain": [
       "<tensorflow.python.keras.callbacks.History at 0x7fbeae81e6a0>"
      ]
     },
     "execution_count": 16,
     "metadata": {},
     "output_type": "execute_result"
    }
   ],
   "source": [
    "import datetime\n",
    "\n",
    "# Set up tensorboard logging\n",
    "log_dir = \"logs/fit/\" + datetime.datetime.now().strftime(\"%Y%m%d-%H%M%S\")\n",
    "tensorboard_callback = tf.keras.callbacks.TensorBoard(log_dir=log_dir, histogram_freq=1)\n",
    "\n",
    "# Fit the model\n",
    "model.fit(x_train, y_train,\n",
    "          epochs=10,\n",
    "          validation_data=(x_test, y_test),\n",
    "          callbacks=[tensorboard_callback],\n",
    "          verbose=0)"
   ]
  },
  {
   "cell_type": "code",
   "execution_count": 17,
   "metadata": {},
   "outputs": [],
   "source": [
    "%load_ext tensorboard"
   ]
  },
  {
   "cell_type": "code",
   "execution_count": 18,
   "metadata": {},
   "outputs": [
    {
     "data": {
      "text/plain": [
       "Reusing TensorBoard on port 6007 (pid 17915), started 5:26:23 ago. (Use '!kill 17915' to kill it.)"
      ]
     },
     "metadata": {},
     "output_type": "display_data"
    },
    {
     "data": {
      "text/html": [
       "\n",
       "      <iframe id=\"tensorboard-frame-1d5b4e7c1f166519\" width=\"100%\" height=\"800\" frameborder=\"0\">\n",
       "      </iframe>\n",
       "      <script>\n",
       "        (function() {\n",
       "          const frame = document.getElementById(\"tensorboard-frame-1d5b4e7c1f166519\");\n",
       "          const url = new URL(\"/\", window.location);\n",
       "          const port = 6007;\n",
       "          if (port) {\n",
       "            url.port = port;\n",
       "          }\n",
       "          frame.src = url;\n",
       "        })();\n",
       "      </script>\n",
       "    "
      ],
      "text/plain": [
       "<IPython.core.display.HTML object>"
      ]
     },
     "metadata": {},
     "output_type": "display_data"
    }
   ],
   "source": [
    "%tensorboard --logdir logs/fit"
   ]
  },
  {
   "cell_type": "code",
   "execution_count": 19,
   "metadata": {},
   "outputs": [
    {
     "name": "stdout",
     "output_type": "stream",
     "text": [
      "313/313 - 1s - loss: 0.0812 - accuracy: 0.9782\n"
     ]
    },
    {
     "data": {
      "text/plain": [
       "[0.08120877295732498, 0.9782000184059143]"
      ]
     },
     "execution_count": 19,
     "metadata": {},
     "output_type": "execute_result"
    }
   ],
   "source": [
    "# Evaluate the model\n",
    "model.evaluate(x_test,  y_test, verbose=2)"
   ]
  },
  {
   "cell_type": "code",
   "execution_count": 20,
   "metadata": {},
   "outputs": [
    {
     "data": {
      "text/plain": [
       "<matplotlib.image.AxesImage at 0x7fbeaec869a0>"
      ]
     },
     "execution_count": 20,
     "metadata": {},
     "output_type": "execute_result"
    },
    {
     "data": {
      "image/png": "[encoded data removed]",
      "text/plain": [
       "<Figure size 432x288 with 1 Axes>"
      ]
     },
     "metadata": {
      "needs_background": "light"
     },
     "output_type": "display_data"
    }
   ],
   "source": [
    "# Plot a random image\n",
    "plt.imshow(x_test[99])"
   ]
  },
  {
   "cell_type": "code",
   "execution_count": 21,
   "metadata": {},
   "outputs": [
    {
     "data": {
      "text/plain": [
       "9"
      ]
     },
     "execution_count": 21,
     "metadata": {},
     "output_type": "execute_result"
    }
   ],
   "source": [
    "# How does the model classify this image?\n",
    "model.predict(x_test)[99].argmax()"
   ]
  },
  {
   "cell_type": "markdown",
   "metadata": {},
   "source": [
    "## Mathematical Considerations\n",
    "\n",
    "Any two matrix transformations can be reduced to a single matrix transformation -- why can't we reduce a neural network to just a simple matrix transformation? That's because the activation functions introduct non-linearity, and matrix transforms are linear (affine)."
   ]
  },
  {
   "cell_type": "code",
   "execution_count": null,
   "metadata": {},
   "outputs": [],
   "source": []
  }
 ],
 "metadata": {
  "kernelspec": {
   "display_name": "Python 3",
   "language": "python",
   "name": "python3"
  },
  "language_info": {
   "codemirror_mode": {
    "name": "ipython",
    "version": 3
   },
   "file_extension": ".py",
   "mimetype": "text/x-python",
   "name": "python",
   "nbconvert_exporter": "python",
   "pygments_lexer": "ipython3",
   "version": "3.8.8"
  }
 },
 "nbformat": 4,
 "nbformat_minor": 4
}
